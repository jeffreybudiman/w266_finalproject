{
  "nbformat": 4,
  "nbformat_minor": 0,
  "metadata": {
    "colab": {
      "name": "t5_txt2sql",
      "provenance": [],
      "collapsed_sections": [],
      "machine_shape": "hm"
    },
    "kernelspec": {
      "name": "python3",
      "display_name": "Python 3"
    },
    "language_info": {
      "name": "python"
    },
    "widgets": {
      "application/vnd.jupyter.widget-state+json": {
        "f6dba23ac3d84d8e8dca7ad66443a72b": {
          "model_module": "@jupyter-widgets/controls",
          "model_name": "HBoxModel",
          "model_module_version": "1.5.0",
          "state": {
            "_dom_classes": [],
            "_model_module": "@jupyter-widgets/controls",
            "_model_module_version": "1.5.0",
            "_model_name": "HBoxModel",
            "_view_count": null,
            "_view_module": "@jupyter-widgets/controls",
            "_view_module_version": "1.5.0",
            "_view_name": "HBoxView",
            "box_style": "",
            "children": [
              "IPY_MODEL_b2585f0d79be46b89d387a19b8d3d077",
              "IPY_MODEL_1d1845f2323540ac96609ffe8e9d5c89",
              "IPY_MODEL_1f9508ecb13f4cdf875d080f8a76fbdd"
            ],
            "layout": "IPY_MODEL_22b6c8f71c184749aaf97da780104e44"
          }
        },
        "b2585f0d79be46b89d387a19b8d3d077": {
          "model_module": "@jupyter-widgets/controls",
          "model_name": "HTMLModel",
          "model_module_version": "1.5.0",
          "state": {
            "_dom_classes": [],
            "_model_module": "@jupyter-widgets/controls",
            "_model_module_version": "1.5.0",
            "_model_name": "HTMLModel",
            "_view_count": null,
            "_view_module": "@jupyter-widgets/controls",
            "_view_module_version": "1.5.0",
            "_view_name": "HTMLView",
            "description": "",
            "description_tooltip": null,
            "layout": "IPY_MODEL_a18f3f8a5eb14eae9d7f228cef0eb7bc",
            "placeholder": "​",
            "style": "IPY_MODEL_694122e09e884373affdc18df36cf0e1",
            "value": "Downloading: 100%"
          }
        },
        "1d1845f2323540ac96609ffe8e9d5c89": {
          "model_module": "@jupyter-widgets/controls",
          "model_name": "FloatProgressModel",
          "model_module_version": "1.5.0",
          "state": {
            "_dom_classes": [],
            "_model_module": "@jupyter-widgets/controls",
            "_model_module_version": "1.5.0",
            "_model_name": "FloatProgressModel",
            "_view_count": null,
            "_view_module": "@jupyter-widgets/controls",
            "_view_module_version": "1.5.0",
            "_view_name": "ProgressView",
            "bar_style": "success",
            "description": "",
            "description_tooltip": null,
            "layout": "IPY_MODEL_d46dd7da37f94fa3aec3357e70b89777",
            "max": 791656,
            "min": 0,
            "orientation": "horizontal",
            "style": "IPY_MODEL_545b8e83c6bc403aa4ca962098cfa60c",
            "value": 791656
          }
        },
        "1f9508ecb13f4cdf875d080f8a76fbdd": {
          "model_module": "@jupyter-widgets/controls",
          "model_name": "HTMLModel",
          "model_module_version": "1.5.0",
          "state": {
            "_dom_classes": [],
            "_model_module": "@jupyter-widgets/controls",
            "_model_module_version": "1.5.0",
            "_model_name": "HTMLModel",
            "_view_count": null,
            "_view_module": "@jupyter-widgets/controls",
            "_view_module_version": "1.5.0",
            "_view_name": "HTMLView",
            "description": "",
            "description_tooltip": null,
            "layout": "IPY_MODEL_9e85fbce25584b108ccf9f22be7f41d6",
            "placeholder": "​",
            "style": "IPY_MODEL_6d84d81610a64681aa2472fe8847a812",
            "value": " 773k/773k [00:00&lt;00:00, 1.52MB/s]"
          }
        },
        "22b6c8f71c184749aaf97da780104e44": {
          "model_module": "@jupyter-widgets/base",
          "model_name": "LayoutModel",
          "model_module_version": "1.2.0",
          "state": {
            "_model_module": "@jupyter-widgets/base",
            "_model_module_version": "1.2.0",
            "_model_name": "LayoutModel",
            "_view_count": null,
            "_view_module": "@jupyter-widgets/base",
            "_view_module_version": "1.2.0",
            "_view_name": "LayoutView",
            "align_content": null,
            "align_items": null,
            "align_self": null,
            "border": null,
            "bottom": null,
            "display": null,
            "flex": null,
            "flex_flow": null,
            "grid_area": null,
            "grid_auto_columns": null,
            "grid_auto_flow": null,
            "grid_auto_rows": null,
            "grid_column": null,
            "grid_gap": null,
            "grid_row": null,
            "grid_template_areas": null,
            "grid_template_columns": null,
            "grid_template_rows": null,
            "height": null,
            "justify_content": null,
            "justify_items": null,
            "left": null,
            "margin": null,
            "max_height": null,
            "max_width": null,
            "min_height": null,
            "min_width": null,
            "object_fit": null,
            "object_position": null,
            "order": null,
            "overflow": null,
            "overflow_x": null,
            "overflow_y": null,
            "padding": null,
            "right": null,
            "top": null,
            "visibility": null,
            "width": null
          }
        },
        "a18f3f8a5eb14eae9d7f228cef0eb7bc": {
          "model_module": "@jupyter-widgets/base",
          "model_name": "LayoutModel",
          "model_module_version": "1.2.0",
          "state": {
            "_model_module": "@jupyter-widgets/base",
            "_model_module_version": "1.2.0",
            "_model_name": "LayoutModel",
            "_view_count": null,
            "_view_module": "@jupyter-widgets/base",
            "_view_module_version": "1.2.0",
            "_view_name": "LayoutView",
            "align_content": null,
            "align_items": null,
            "align_self": null,
            "border": null,
            "bottom": null,
            "display": null,
            "flex": null,
            "flex_flow": null,
            "grid_area": null,
            "grid_auto_columns": null,
            "grid_auto_flow": null,
            "grid_auto_rows": null,
            "grid_column": null,
            "grid_gap": null,
            "grid_row": null,
            "grid_template_areas": null,
            "grid_template_columns": null,
            "grid_template_rows": null,
            "height": null,
            "justify_content": null,
            "justify_items": null,
            "left": null,
            "margin": null,
            "max_height": null,
            "max_width": null,
            "min_height": null,
            "min_width": null,
            "object_fit": null,
            "object_position": null,
            "order": null,
            "overflow": null,
            "overflow_x": null,
            "overflow_y": null,
            "padding": null,
            "right": null,
            "top": null,
            "visibility": null,
            "width": null
          }
        },
        "694122e09e884373affdc18df36cf0e1": {
          "model_module": "@jupyter-widgets/controls",
          "model_name": "DescriptionStyleModel",
          "model_module_version": "1.5.0",
          "state": {
            "_model_module": "@jupyter-widgets/controls",
            "_model_module_version": "1.5.0",
            "_model_name": "DescriptionStyleModel",
            "_view_count": null,
            "_view_module": "@jupyter-widgets/base",
            "_view_module_version": "1.2.0",
            "_view_name": "StyleView",
            "description_width": ""
          }
        },
        "d46dd7da37f94fa3aec3357e70b89777": {
          "model_module": "@jupyter-widgets/base",
          "model_name": "LayoutModel",
          "model_module_version": "1.2.0",
          "state": {
            "_model_module": "@jupyter-widgets/base",
            "_model_module_version": "1.2.0",
            "_model_name": "LayoutModel",
            "_view_count": null,
            "_view_module": "@jupyter-widgets/base",
            "_view_module_version": "1.2.0",
            "_view_name": "LayoutView",
            "align_content": null,
            "align_items": null,
            "align_self": null,
            "border": null,
            "bottom": null,
            "display": null,
            "flex": null,
            "flex_flow": null,
            "grid_area": null,
            "grid_auto_columns": null,
            "grid_auto_flow": null,
            "grid_auto_rows": null,
            "grid_column": null,
            "grid_gap": null,
            "grid_row": null,
            "grid_template_areas": null,
            "grid_template_columns": null,
            "grid_template_rows": null,
            "height": null,
            "justify_content": null,
            "justify_items": null,
            "left": null,
            "margin": null,
            "max_height": null,
            "max_width": null,
            "min_height": null,
            "min_width": null,
            "object_fit": null,
            "object_position": null,
            "order": null,
            "overflow": null,
            "overflow_x": null,
            "overflow_y": null,
            "padding": null,
            "right": null,
            "top": null,
            "visibility": null,
            "width": null
          }
        },
        "545b8e83c6bc403aa4ca962098cfa60c": {
          "model_module": "@jupyter-widgets/controls",
          "model_name": "ProgressStyleModel",
          "model_module_version": "1.5.0",
          "state": {
            "_model_module": "@jupyter-widgets/controls",
            "_model_module_version": "1.5.0",
            "_model_name": "ProgressStyleModel",
            "_view_count": null,
            "_view_module": "@jupyter-widgets/base",
            "_view_module_version": "1.2.0",
            "_view_name": "StyleView",
            "bar_color": null,
            "description_width": ""
          }
        },
        "9e85fbce25584b108ccf9f22be7f41d6": {
          "model_module": "@jupyter-widgets/base",
          "model_name": "LayoutModel",
          "model_module_version": "1.2.0",
          "state": {
            "_model_module": "@jupyter-widgets/base",
            "_model_module_version": "1.2.0",
            "_model_name": "LayoutModel",
            "_view_count": null,
            "_view_module": "@jupyter-widgets/base",
            "_view_module_version": "1.2.0",
            "_view_name": "LayoutView",
            "align_content": null,
            "align_items": null,
            "align_self": null,
            "border": null,
            "bottom": null,
            "display": null,
            "flex": null,
            "flex_flow": null,
            "grid_area": null,
            "grid_auto_columns": null,
            "grid_auto_flow": null,
            "grid_auto_rows": null,
            "grid_column": null,
            "grid_gap": null,
            "grid_row": null,
            "grid_template_areas": null,
            "grid_template_columns": null,
            "grid_template_rows": null,
            "height": null,
            "justify_content": null,
            "justify_items": null,
            "left": null,
            "margin": null,
            "max_height": null,
            "max_width": null,
            "min_height": null,
            "min_width": null,
            "object_fit": null,
            "object_position": null,
            "order": null,
            "overflow": null,
            "overflow_x": null,
            "overflow_y": null,
            "padding": null,
            "right": null,
            "top": null,
            "visibility": null,
            "width": null
          }
        },
        "6d84d81610a64681aa2472fe8847a812": {
          "model_module": "@jupyter-widgets/controls",
          "model_name": "DescriptionStyleModel",
          "model_module_version": "1.5.0",
          "state": {
            "_model_module": "@jupyter-widgets/controls",
            "_model_module_version": "1.5.0",
            "_model_name": "DescriptionStyleModel",
            "_view_count": null,
            "_view_module": "@jupyter-widgets/base",
            "_view_module_version": "1.2.0",
            "_view_name": "StyleView",
            "description_width": ""
          }
        },
        "fdf902cf39964e27b2b1a64f11b582be": {
          "model_module": "@jupyter-widgets/controls",
          "model_name": "HBoxModel",
          "model_module_version": "1.5.0",
          "state": {
            "_dom_classes": [],
            "_model_module": "@jupyter-widgets/controls",
            "_model_module_version": "1.5.0",
            "_model_name": "HBoxModel",
            "_view_count": null,
            "_view_module": "@jupyter-widgets/controls",
            "_view_module_version": "1.5.0",
            "_view_name": "HBoxView",
            "box_style": "",
            "children": [
              "IPY_MODEL_94dcbee56906454787dcfc69cbd73b8e",
              "IPY_MODEL_3f8bf857f4b7487494c2a15231607c71",
              "IPY_MODEL_2d07e31e6d09492aa8e123e74699206c"
            ],
            "layout": "IPY_MODEL_4200b9a90ff04c6e8459b0f66e522f99"
          }
        },
        "94dcbee56906454787dcfc69cbd73b8e": {
          "model_module": "@jupyter-widgets/controls",
          "model_name": "HTMLModel",
          "model_module_version": "1.5.0",
          "state": {
            "_dom_classes": [],
            "_model_module": "@jupyter-widgets/controls",
            "_model_module_version": "1.5.0",
            "_model_name": "HTMLModel",
            "_view_count": null,
            "_view_module": "@jupyter-widgets/controls",
            "_view_module_version": "1.5.0",
            "_view_name": "HTMLView",
            "description": "",
            "description_tooltip": null,
            "layout": "IPY_MODEL_4804ccbe916f42dab09d62342b21b639",
            "placeholder": "​",
            "style": "IPY_MODEL_60bf6a9d7174449d9c81fa0b148035e7",
            "value": "Downloading: 100%"
          }
        },
        "3f8bf857f4b7487494c2a15231607c71": {
          "model_module": "@jupyter-widgets/controls",
          "model_name": "FloatProgressModel",
          "model_module_version": "1.5.0",
          "state": {
            "_dom_classes": [],
            "_model_module": "@jupyter-widgets/controls",
            "_model_module_version": "1.5.0",
            "_model_name": "FloatProgressModel",
            "_view_count": null,
            "_view_module": "@jupyter-widgets/controls",
            "_view_module_version": "1.5.0",
            "_view_name": "ProgressView",
            "bar_style": "success",
            "description": "",
            "description_tooltip": null,
            "layout": "IPY_MODEL_94686be510b74854a3f4975dae9c52ac",
            "max": 1197,
            "min": 0,
            "orientation": "horizontal",
            "style": "IPY_MODEL_588fcdbd79d843b288b72708ac2151b7",
            "value": 1197
          }
        },
        "2d07e31e6d09492aa8e123e74699206c": {
          "model_module": "@jupyter-widgets/controls",
          "model_name": "HTMLModel",
          "model_module_version": "1.5.0",
          "state": {
            "_dom_classes": [],
            "_model_module": "@jupyter-widgets/controls",
            "_model_module_version": "1.5.0",
            "_model_name": "HTMLModel",
            "_view_count": null,
            "_view_module": "@jupyter-widgets/controls",
            "_view_module_version": "1.5.0",
            "_view_name": "HTMLView",
            "description": "",
            "description_tooltip": null,
            "layout": "IPY_MODEL_d1ae2a84ec7e42b59ecf829526920715",
            "placeholder": "​",
            "style": "IPY_MODEL_902bd8b93fb14973bef6a648ff444699",
            "value": " 1.17k/1.17k [00:00&lt;00:00, 50.1kB/s]"
          }
        },
        "4200b9a90ff04c6e8459b0f66e522f99": {
          "model_module": "@jupyter-widgets/base",
          "model_name": "LayoutModel",
          "model_module_version": "1.2.0",
          "state": {
            "_model_module": "@jupyter-widgets/base",
            "_model_module_version": "1.2.0",
            "_model_name": "LayoutModel",
            "_view_count": null,
            "_view_module": "@jupyter-widgets/base",
            "_view_module_version": "1.2.0",
            "_view_name": "LayoutView",
            "align_content": null,
            "align_items": null,
            "align_self": null,
            "border": null,
            "bottom": null,
            "display": null,
            "flex": null,
            "flex_flow": null,
            "grid_area": null,
            "grid_auto_columns": null,
            "grid_auto_flow": null,
            "grid_auto_rows": null,
            "grid_column": null,
            "grid_gap": null,
            "grid_row": null,
            "grid_template_areas": null,
            "grid_template_columns": null,
            "grid_template_rows": null,
            "height": null,
            "justify_content": null,
            "justify_items": null,
            "left": null,
            "margin": null,
            "max_height": null,
            "max_width": null,
            "min_height": null,
            "min_width": null,
            "object_fit": null,
            "object_position": null,
            "order": null,
            "overflow": null,
            "overflow_x": null,
            "overflow_y": null,
            "padding": null,
            "right": null,
            "top": null,
            "visibility": null,
            "width": null
          }
        },
        "4804ccbe916f42dab09d62342b21b639": {
          "model_module": "@jupyter-widgets/base",
          "model_name": "LayoutModel",
          "model_module_version": "1.2.0",
          "state": {
            "_model_module": "@jupyter-widgets/base",
            "_model_module_version": "1.2.0",
            "_model_name": "LayoutModel",
            "_view_count": null,
            "_view_module": "@jupyter-widgets/base",
            "_view_module_version": "1.2.0",
            "_view_name": "LayoutView",
            "align_content": null,
            "align_items": null,
            "align_self": null,
            "border": null,
            "bottom": null,
            "display": null,
            "flex": null,
            "flex_flow": null,
            "grid_area": null,
            "grid_auto_columns": null,
            "grid_auto_flow": null,
            "grid_auto_rows": null,
            "grid_column": null,
            "grid_gap": null,
            "grid_row": null,
            "grid_template_areas": null,
            "grid_template_columns": null,
            "grid_template_rows": null,
            "height": null,
            "justify_content": null,
            "justify_items": null,
            "left": null,
            "margin": null,
            "max_height": null,
            "max_width": null,
            "min_height": null,
            "min_width": null,
            "object_fit": null,
            "object_position": null,
            "order": null,
            "overflow": null,
            "overflow_x": null,
            "overflow_y": null,
            "padding": null,
            "right": null,
            "top": null,
            "visibility": null,
            "width": null
          }
        },
        "60bf6a9d7174449d9c81fa0b148035e7": {
          "model_module": "@jupyter-widgets/controls",
          "model_name": "DescriptionStyleModel",
          "model_module_version": "1.5.0",
          "state": {
            "_model_module": "@jupyter-widgets/controls",
            "_model_module_version": "1.5.0",
            "_model_name": "DescriptionStyleModel",
            "_view_count": null,
            "_view_module": "@jupyter-widgets/base",
            "_view_module_version": "1.2.0",
            "_view_name": "StyleView",
            "description_width": ""
          }
        },
        "94686be510b74854a3f4975dae9c52ac": {
          "model_module": "@jupyter-widgets/base",
          "model_name": "LayoutModel",
          "model_module_version": "1.2.0",
          "state": {
            "_model_module": "@jupyter-widgets/base",
            "_model_module_version": "1.2.0",
            "_model_name": "LayoutModel",
            "_view_count": null,
            "_view_module": "@jupyter-widgets/base",
            "_view_module_version": "1.2.0",
            "_view_name": "LayoutView",
            "align_content": null,
            "align_items": null,
            "align_self": null,
            "border": null,
            "bottom": null,
            "display": null,
            "flex": null,
            "flex_flow": null,
            "grid_area": null,
            "grid_auto_columns": null,
            "grid_auto_flow": null,
            "grid_auto_rows": null,
            "grid_column": null,
            "grid_gap": null,
            "grid_row": null,
            "grid_template_areas": null,
            "grid_template_columns": null,
            "grid_template_rows": null,
            "height": null,
            "justify_content": null,
            "justify_items": null,
            "left": null,
            "margin": null,
            "max_height": null,
            "max_width": null,
            "min_height": null,
            "min_width": null,
            "object_fit": null,
            "object_position": null,
            "order": null,
            "overflow": null,
            "overflow_x": null,
            "overflow_y": null,
            "padding": null,
            "right": null,
            "top": null,
            "visibility": null,
            "width": null
          }
        },
        "588fcdbd79d843b288b72708ac2151b7": {
          "model_module": "@jupyter-widgets/controls",
          "model_name": "ProgressStyleModel",
          "model_module_version": "1.5.0",
          "state": {
            "_model_module": "@jupyter-widgets/controls",
            "_model_module_version": "1.5.0",
            "_model_name": "ProgressStyleModel",
            "_view_count": null,
            "_view_module": "@jupyter-widgets/base",
            "_view_module_version": "1.2.0",
            "_view_name": "StyleView",
            "bar_color": null,
            "description_width": ""
          }
        },
        "d1ae2a84ec7e42b59ecf829526920715": {
          "model_module": "@jupyter-widgets/base",
          "model_name": "LayoutModel",
          "model_module_version": "1.2.0",
          "state": {
            "_model_module": "@jupyter-widgets/base",
            "_model_module_version": "1.2.0",
            "_model_name": "LayoutModel",
            "_view_count": null,
            "_view_module": "@jupyter-widgets/base",
            "_view_module_version": "1.2.0",
            "_view_name": "LayoutView",
            "align_content": null,
            "align_items": null,
            "align_self": null,
            "border": null,
            "bottom": null,
            "display": null,
            "flex": null,
            "flex_flow": null,
            "grid_area": null,
            "grid_auto_columns": null,
            "grid_auto_flow": null,
            "grid_auto_rows": null,
            "grid_column": null,
            "grid_gap": null,
            "grid_row": null,
            "grid_template_areas": null,
            "grid_template_columns": null,
            "grid_template_rows": null,
            "height": null,
            "justify_content": null,
            "justify_items": null,
            "left": null,
            "margin": null,
            "max_height": null,
            "max_width": null,
            "min_height": null,
            "min_width": null,
            "object_fit": null,
            "object_position": null,
            "order": null,
            "overflow": null,
            "overflow_x": null,
            "overflow_y": null,
            "padding": null,
            "right": null,
            "top": null,
            "visibility": null,
            "width": null
          }
        },
        "902bd8b93fb14973bef6a648ff444699": {
          "model_module": "@jupyter-widgets/controls",
          "model_name": "DescriptionStyleModel",
          "model_module_version": "1.5.0",
          "state": {
            "_model_module": "@jupyter-widgets/controls",
            "_model_module_version": "1.5.0",
            "_model_name": "DescriptionStyleModel",
            "_view_count": null,
            "_view_module": "@jupyter-widgets/base",
            "_view_module_version": "1.2.0",
            "_view_name": "StyleView",
            "description_width": ""
          }
        },
        "06ff01240c09465f848b3505cac56718": {
          "model_module": "@jupyter-widgets/controls",
          "model_name": "HBoxModel",
          "model_module_version": "1.5.0",
          "state": {
            "_dom_classes": [],
            "_model_module": "@jupyter-widgets/controls",
            "_model_module_version": "1.5.0",
            "_model_name": "HBoxModel",
            "_view_count": null,
            "_view_module": "@jupyter-widgets/controls",
            "_view_module_version": "1.5.0",
            "_view_name": "HBoxView",
            "box_style": "",
            "children": [
              "IPY_MODEL_1bf09424788f43e98055e257c4a33c85",
              "IPY_MODEL_126d38f070304cb89c61d8fb99eb5590",
              "IPY_MODEL_02a9fb1469f04bada4e4617eba6d6f64"
            ],
            "layout": "IPY_MODEL_1695ccbf2d7f46b5980bc44129631246"
          }
        },
        "1bf09424788f43e98055e257c4a33c85": {
          "model_module": "@jupyter-widgets/controls",
          "model_name": "HTMLModel",
          "model_module_version": "1.5.0",
          "state": {
            "_dom_classes": [],
            "_model_module": "@jupyter-widgets/controls",
            "_model_module_version": "1.5.0",
            "_model_name": "HTMLModel",
            "_view_count": null,
            "_view_module": "@jupyter-widgets/controls",
            "_view_module_version": "1.5.0",
            "_view_name": "HTMLView",
            "description": "",
            "description_tooltip": null,
            "layout": "IPY_MODEL_b2798e2074b744e48a723986fa40abd9",
            "placeholder": "​",
            "style": "IPY_MODEL_bb7c397573404dbd845e1a5e580ed970",
            "value": "100%"
          }
        },
        "126d38f070304cb89c61d8fb99eb5590": {
          "model_module": "@jupyter-widgets/controls",
          "model_name": "FloatProgressModel",
          "model_module_version": "1.5.0",
          "state": {
            "_dom_classes": [],
            "_model_module": "@jupyter-widgets/controls",
            "_model_module_version": "1.5.0",
            "_model_name": "FloatProgressModel",
            "_view_count": null,
            "_view_module": "@jupyter-widgets/controls",
            "_view_module_version": "1.5.0",
            "_view_name": "ProgressView",
            "bar_style": "success",
            "description": "",
            "description_tooltip": null,
            "layout": "IPY_MODEL_e444f04b1f3f4d2d95119bd31f622e76",
            "max": 85,
            "min": 0,
            "orientation": "horizontal",
            "style": "IPY_MODEL_ca48c83c5ac04aeda6e2018b0a9b1abf",
            "value": 85
          }
        },
        "02a9fb1469f04bada4e4617eba6d6f64": {
          "model_module": "@jupyter-widgets/controls",
          "model_name": "HTMLModel",
          "model_module_version": "1.5.0",
          "state": {
            "_dom_classes": [],
            "_model_module": "@jupyter-widgets/controls",
            "_model_module_version": "1.5.0",
            "_model_name": "HTMLModel",
            "_view_count": null,
            "_view_module": "@jupyter-widgets/controls",
            "_view_module_version": "1.5.0",
            "_view_name": "HTMLView",
            "description": "",
            "description_tooltip": null,
            "layout": "IPY_MODEL_5dfb6f2181744e939f9d050d068d5438",
            "placeholder": "​",
            "style": "IPY_MODEL_4962ed18d3024831b5ee1d5ece7f737b",
            "value": " 85/85 [00:46&lt;00:00,  2.06ba/s]"
          }
        },
        "1695ccbf2d7f46b5980bc44129631246": {
          "model_module": "@jupyter-widgets/base",
          "model_name": "LayoutModel",
          "model_module_version": "1.2.0",
          "state": {
            "_model_module": "@jupyter-widgets/base",
            "_model_module_version": "1.2.0",
            "_model_name": "LayoutModel",
            "_view_count": null,
            "_view_module": "@jupyter-widgets/base",
            "_view_module_version": "1.2.0",
            "_view_name": "LayoutView",
            "align_content": null,
            "align_items": null,
            "align_self": null,
            "border": null,
            "bottom": null,
            "display": null,
            "flex": null,
            "flex_flow": null,
            "grid_area": null,
            "grid_auto_columns": null,
            "grid_auto_flow": null,
            "grid_auto_rows": null,
            "grid_column": null,
            "grid_gap": null,
            "grid_row": null,
            "grid_template_areas": null,
            "grid_template_columns": null,
            "grid_template_rows": null,
            "height": null,
            "justify_content": null,
            "justify_items": null,
            "left": null,
            "margin": null,
            "max_height": null,
            "max_width": null,
            "min_height": null,
            "min_width": null,
            "object_fit": null,
            "object_position": null,
            "order": null,
            "overflow": null,
            "overflow_x": null,
            "overflow_y": null,
            "padding": null,
            "right": null,
            "top": null,
            "visibility": null,
            "width": null
          }
        },
        "b2798e2074b744e48a723986fa40abd9": {
          "model_module": "@jupyter-widgets/base",
          "model_name": "LayoutModel",
          "model_module_version": "1.2.0",
          "state": {
            "_model_module": "@jupyter-widgets/base",
            "_model_module_version": "1.2.0",
            "_model_name": "LayoutModel",
            "_view_count": null,
            "_view_module": "@jupyter-widgets/base",
            "_view_module_version": "1.2.0",
            "_view_name": "LayoutView",
            "align_content": null,
            "align_items": null,
            "align_self": null,
            "border": null,
            "bottom": null,
            "display": null,
            "flex": null,
            "flex_flow": null,
            "grid_area": null,
            "grid_auto_columns": null,
            "grid_auto_flow": null,
            "grid_auto_rows": null,
            "grid_column": null,
            "grid_gap": null,
            "grid_row": null,
            "grid_template_areas": null,
            "grid_template_columns": null,
            "grid_template_rows": null,
            "height": null,
            "justify_content": null,
            "justify_items": null,
            "left": null,
            "margin": null,
            "max_height": null,
            "max_width": null,
            "min_height": null,
            "min_width": null,
            "object_fit": null,
            "object_position": null,
            "order": null,
            "overflow": null,
            "overflow_x": null,
            "overflow_y": null,
            "padding": null,
            "right": null,
            "top": null,
            "visibility": null,
            "width": null
          }
        },
        "bb7c397573404dbd845e1a5e580ed970": {
          "model_module": "@jupyter-widgets/controls",
          "model_name": "DescriptionStyleModel",
          "model_module_version": "1.5.0",
          "state": {
            "_model_module": "@jupyter-widgets/controls",
            "_model_module_version": "1.5.0",
            "_model_name": "DescriptionStyleModel",
            "_view_count": null,
            "_view_module": "@jupyter-widgets/base",
            "_view_module_version": "1.2.0",
            "_view_name": "StyleView",
            "description_width": ""
          }
        },
        "e444f04b1f3f4d2d95119bd31f622e76": {
          "model_module": "@jupyter-widgets/base",
          "model_name": "LayoutModel",
          "model_module_version": "1.2.0",
          "state": {
            "_model_module": "@jupyter-widgets/base",
            "_model_module_version": "1.2.0",
            "_model_name": "LayoutModel",
            "_view_count": null,
            "_view_module": "@jupyter-widgets/base",
            "_view_module_version": "1.2.0",
            "_view_name": "LayoutView",
            "align_content": null,
            "align_items": null,
            "align_self": null,
            "border": null,
            "bottom": null,
            "display": null,
            "flex": null,
            "flex_flow": null,
            "grid_area": null,
            "grid_auto_columns": null,
            "grid_auto_flow": null,
            "grid_auto_rows": null,
            "grid_column": null,
            "grid_gap": null,
            "grid_row": null,
            "grid_template_areas": null,
            "grid_template_columns": null,
            "grid_template_rows": null,
            "height": null,
            "justify_content": null,
            "justify_items": null,
            "left": null,
            "margin": null,
            "max_height": null,
            "max_width": null,
            "min_height": null,
            "min_width": null,
            "object_fit": null,
            "object_position": null,
            "order": null,
            "overflow": null,
            "overflow_x": null,
            "overflow_y": null,
            "padding": null,
            "right": null,
            "top": null,
            "visibility": null,
            "width": null
          }
        },
        "ca48c83c5ac04aeda6e2018b0a9b1abf": {
          "model_module": "@jupyter-widgets/controls",
          "model_name": "ProgressStyleModel",
          "model_module_version": "1.5.0",
          "state": {
            "_model_module": "@jupyter-widgets/controls",
            "_model_module_version": "1.5.0",
            "_model_name": "ProgressStyleModel",
            "_view_count": null,
            "_view_module": "@jupyter-widgets/base",
            "_view_module_version": "1.2.0",
            "_view_name": "StyleView",
            "bar_color": null,
            "description_width": ""
          }
        },
        "5dfb6f2181744e939f9d050d068d5438": {
          "model_module": "@jupyter-widgets/base",
          "model_name": "LayoutModel",
          "model_module_version": "1.2.0",
          "state": {
            "_model_module": "@jupyter-widgets/base",
            "_model_module_version": "1.2.0",
            "_model_name": "LayoutModel",
            "_view_count": null,
            "_view_module": "@jupyter-widgets/base",
            "_view_module_version": "1.2.0",
            "_view_name": "LayoutView",
            "align_content": null,
            "align_items": null,
            "align_self": null,
            "border": null,
            "bottom": null,
            "display": null,
            "flex": null,
            "flex_flow": null,
            "grid_area": null,
            "grid_auto_columns": null,
            "grid_auto_flow": null,
            "grid_auto_rows": null,
            "grid_column": null,
            "grid_gap": null,
            "grid_row": null,
            "grid_template_areas": null,
            "grid_template_columns": null,
            "grid_template_rows": null,
            "height": null,
            "justify_content": null,
            "justify_items": null,
            "left": null,
            "margin": null,
            "max_height": null,
            "max_width": null,
            "min_height": null,
            "min_width": null,
            "object_fit": null,
            "object_position": null,
            "order": null,
            "overflow": null,
            "overflow_x": null,
            "overflow_y": null,
            "padding": null,
            "right": null,
            "top": null,
            "visibility": null,
            "width": null
          }
        },
        "4962ed18d3024831b5ee1d5ece7f737b": {
          "model_module": "@jupyter-widgets/controls",
          "model_name": "DescriptionStyleModel",
          "model_module_version": "1.5.0",
          "state": {
            "_model_module": "@jupyter-widgets/controls",
            "_model_module_version": "1.5.0",
            "_model_name": "DescriptionStyleModel",
            "_view_count": null,
            "_view_module": "@jupyter-widgets/base",
            "_view_module_version": "1.2.0",
            "_view_name": "StyleView",
            "description_width": ""
          }
        },
        "64ee4d604da042d390dc73e0eef5b89a": {
          "model_module": "@jupyter-widgets/controls",
          "model_name": "HBoxModel",
          "model_module_version": "1.5.0",
          "state": {
            "_dom_classes": [],
            "_model_module": "@jupyter-widgets/controls",
            "_model_module_version": "1.5.0",
            "_model_name": "HBoxModel",
            "_view_count": null,
            "_view_module": "@jupyter-widgets/controls",
            "_view_module_version": "1.5.0",
            "_view_name": "HBoxView",
            "box_style": "",
            "children": [
              "IPY_MODEL_c2c31d784c874a22956a8042a4b0dbf8",
              "IPY_MODEL_68f22ff1005a4b15b1f5f4438d225d11",
              "IPY_MODEL_4663fae029db4927996249ee63d20450"
            ],
            "layout": "IPY_MODEL_eca05f853773476989afef377aad31c9"
          }
        },
        "c2c31d784c874a22956a8042a4b0dbf8": {
          "model_module": "@jupyter-widgets/controls",
          "model_name": "HTMLModel",
          "model_module_version": "1.5.0",
          "state": {
            "_dom_classes": [],
            "_model_module": "@jupyter-widgets/controls",
            "_model_module_version": "1.5.0",
            "_model_name": "HTMLModel",
            "_view_count": null,
            "_view_module": "@jupyter-widgets/controls",
            "_view_module_version": "1.5.0",
            "_view_name": "HTMLView",
            "description": "",
            "description_tooltip": null,
            "layout": "IPY_MODEL_96440154ea404f7e85edc4db76408e76",
            "placeholder": "​",
            "style": "IPY_MODEL_1cbd474768ac4af78c22331b4ebd538a",
            "value": "100%"
          }
        },
        "68f22ff1005a4b15b1f5f4438d225d11": {
          "model_module": "@jupyter-widgets/controls",
          "model_name": "FloatProgressModel",
          "model_module_version": "1.5.0",
          "state": {
            "_dom_classes": [],
            "_model_module": "@jupyter-widgets/controls",
            "_model_module_version": "1.5.0",
            "_model_name": "FloatProgressModel",
            "_view_count": null,
            "_view_module": "@jupyter-widgets/controls",
            "_view_module_version": "1.5.0",
            "_view_name": "ProgressView",
            "bar_style": "success",
            "description": "",
            "description_tooltip": null,
            "layout": "IPY_MODEL_02b2ba4ea7084d46b4c2d8bf08708292",
            "max": 24,
            "min": 0,
            "orientation": "horizontal",
            "style": "IPY_MODEL_26c2afe36cd9471585b3a52517dd2492",
            "value": 24
          }
        },
        "4663fae029db4927996249ee63d20450": {
          "model_module": "@jupyter-widgets/controls",
          "model_name": "HTMLModel",
          "model_module_version": "1.5.0",
          "state": {
            "_dom_classes": [],
            "_model_module": "@jupyter-widgets/controls",
            "_model_module_version": "1.5.0",
            "_model_name": "HTMLModel",
            "_view_count": null,
            "_view_module": "@jupyter-widgets/controls",
            "_view_module_version": "1.5.0",
            "_view_name": "HTMLView",
            "description": "",
            "description_tooltip": null,
            "layout": "IPY_MODEL_89c79265a2794285a6f70e1272a05b16",
            "placeholder": "​",
            "style": "IPY_MODEL_ce3834aa539f4d81b3b0c8db966efa89",
            "value": " 24/24 [00:13&lt;00:00,  1.88ba/s]"
          }
        },
        "eca05f853773476989afef377aad31c9": {
          "model_module": "@jupyter-widgets/base",
          "model_name": "LayoutModel",
          "model_module_version": "1.2.0",
          "state": {
            "_model_module": "@jupyter-widgets/base",
            "_model_module_version": "1.2.0",
            "_model_name": "LayoutModel",
            "_view_count": null,
            "_view_module": "@jupyter-widgets/base",
            "_view_module_version": "1.2.0",
            "_view_name": "LayoutView",
            "align_content": null,
            "align_items": null,
            "align_self": null,
            "border": null,
            "bottom": null,
            "display": null,
            "flex": null,
            "flex_flow": null,
            "grid_area": null,
            "grid_auto_columns": null,
            "grid_auto_flow": null,
            "grid_auto_rows": null,
            "grid_column": null,
            "grid_gap": null,
            "grid_row": null,
            "grid_template_areas": null,
            "grid_template_columns": null,
            "grid_template_rows": null,
            "height": null,
            "justify_content": null,
            "justify_items": null,
            "left": null,
            "margin": null,
            "max_height": null,
            "max_width": null,
            "min_height": null,
            "min_width": null,
            "object_fit": null,
            "object_position": null,
            "order": null,
            "overflow": null,
            "overflow_x": null,
            "overflow_y": null,
            "padding": null,
            "right": null,
            "top": null,
            "visibility": null,
            "width": null
          }
        },
        "96440154ea404f7e85edc4db76408e76": {
          "model_module": "@jupyter-widgets/base",
          "model_name": "LayoutModel",
          "model_module_version": "1.2.0",
          "state": {
            "_model_module": "@jupyter-widgets/base",
            "_model_module_version": "1.2.0",
            "_model_name": "LayoutModel",
            "_view_count": null,
            "_view_module": "@jupyter-widgets/base",
            "_view_module_version": "1.2.0",
            "_view_name": "LayoutView",
            "align_content": null,
            "align_items": null,
            "align_self": null,
            "border": null,
            "bottom": null,
            "display": null,
            "flex": null,
            "flex_flow": null,
            "grid_area": null,
            "grid_auto_columns": null,
            "grid_auto_flow": null,
            "grid_auto_rows": null,
            "grid_column": null,
            "grid_gap": null,
            "grid_row": null,
            "grid_template_areas": null,
            "grid_template_columns": null,
            "grid_template_rows": null,
            "height": null,
            "justify_content": null,
            "justify_items": null,
            "left": null,
            "margin": null,
            "max_height": null,
            "max_width": null,
            "min_height": null,
            "min_width": null,
            "object_fit": null,
            "object_position": null,
            "order": null,
            "overflow": null,
            "overflow_x": null,
            "overflow_y": null,
            "padding": null,
            "right": null,
            "top": null,
            "visibility": null,
            "width": null
          }
        },
        "1cbd474768ac4af78c22331b4ebd538a": {
          "model_module": "@jupyter-widgets/controls",
          "model_name": "DescriptionStyleModel",
          "model_module_version": "1.5.0",
          "state": {
            "_model_module": "@jupyter-widgets/controls",
            "_model_module_version": "1.5.0",
            "_model_name": "DescriptionStyleModel",
            "_view_count": null,
            "_view_module": "@jupyter-widgets/base",
            "_view_module_version": "1.2.0",
            "_view_name": "StyleView",
            "description_width": ""
          }
        },
        "02b2ba4ea7084d46b4c2d8bf08708292": {
          "model_module": "@jupyter-widgets/base",
          "model_name": "LayoutModel",
          "model_module_version": "1.2.0",
          "state": {
            "_model_module": "@jupyter-widgets/base",
            "_model_module_version": "1.2.0",
            "_model_name": "LayoutModel",
            "_view_count": null,
            "_view_module": "@jupyter-widgets/base",
            "_view_module_version": "1.2.0",
            "_view_name": "LayoutView",
            "align_content": null,
            "align_items": null,
            "align_self": null,
            "border": null,
            "bottom": null,
            "display": null,
            "flex": null,
            "flex_flow": null,
            "grid_area": null,
            "grid_auto_columns": null,
            "grid_auto_flow": null,
            "grid_auto_rows": null,
            "grid_column": null,
            "grid_gap": null,
            "grid_row": null,
            "grid_template_areas": null,
            "grid_template_columns": null,
            "grid_template_rows": null,
            "height": null,
            "justify_content": null,
            "justify_items": null,
            "left": null,
            "margin": null,
            "max_height": null,
            "max_width": null,
            "min_height": null,
            "min_width": null,
            "object_fit": null,
            "object_position": null,
            "order": null,
            "overflow": null,
            "overflow_x": null,
            "overflow_y": null,
            "padding": null,
            "right": null,
            "top": null,
            "visibility": null,
            "width": null
          }
        },
        "26c2afe36cd9471585b3a52517dd2492": {
          "model_module": "@jupyter-widgets/controls",
          "model_name": "ProgressStyleModel",
          "model_module_version": "1.5.0",
          "state": {
            "_model_module": "@jupyter-widgets/controls",
            "_model_module_version": "1.5.0",
            "_model_name": "ProgressStyleModel",
            "_view_count": null,
            "_view_module": "@jupyter-widgets/base",
            "_view_module_version": "1.2.0",
            "_view_name": "StyleView",
            "bar_color": null,
            "description_width": ""
          }
        },
        "89c79265a2794285a6f70e1272a05b16": {
          "model_module": "@jupyter-widgets/base",
          "model_name": "LayoutModel",
          "model_module_version": "1.2.0",
          "state": {
            "_model_module": "@jupyter-widgets/base",
            "_model_module_version": "1.2.0",
            "_model_name": "LayoutModel",
            "_view_count": null,
            "_view_module": "@jupyter-widgets/base",
            "_view_module_version": "1.2.0",
            "_view_name": "LayoutView",
            "align_content": null,
            "align_items": null,
            "align_self": null,
            "border": null,
            "bottom": null,
            "display": null,
            "flex": null,
            "flex_flow": null,
            "grid_area": null,
            "grid_auto_columns": null,
            "grid_auto_flow": null,
            "grid_auto_rows": null,
            "grid_column": null,
            "grid_gap": null,
            "grid_row": null,
            "grid_template_areas": null,
            "grid_template_columns": null,
            "grid_template_rows": null,
            "height": null,
            "justify_content": null,
            "justify_items": null,
            "left": null,
            "margin": null,
            "max_height": null,
            "max_width": null,
            "min_height": null,
            "min_width": null,
            "object_fit": null,
            "object_position": null,
            "order": null,
            "overflow": null,
            "overflow_x": null,
            "overflow_y": null,
            "padding": null,
            "right": null,
            "top": null,
            "visibility": null,
            "width": null
          }
        },
        "ce3834aa539f4d81b3b0c8db966efa89": {
          "model_module": "@jupyter-widgets/controls",
          "model_name": "DescriptionStyleModel",
          "model_module_version": "1.5.0",
          "state": {
            "_model_module": "@jupyter-widgets/controls",
            "_model_module_version": "1.5.0",
            "_model_name": "DescriptionStyleModel",
            "_view_count": null,
            "_view_module": "@jupyter-widgets/base",
            "_view_module_version": "1.2.0",
            "_view_name": "StyleView",
            "description_width": ""
          }
        },
        "b99e6db1b97549bc8bc577eb41f7d186": {
          "model_module": "@jupyter-widgets/controls",
          "model_name": "HBoxModel",
          "model_module_version": "1.5.0",
          "state": {
            "_dom_classes": [],
            "_model_module": "@jupyter-widgets/controls",
            "_model_module_version": "1.5.0",
            "_model_name": "HBoxModel",
            "_view_count": null,
            "_view_module": "@jupyter-widgets/controls",
            "_view_module_version": "1.5.0",
            "_view_name": "HBoxView",
            "box_style": "",
            "children": [
              "IPY_MODEL_2cd790d6d3d34bfd91d2bd41eb0be19d",
              "IPY_MODEL_8227704bc1954ae38b1bd2765b73fc9d",
              "IPY_MODEL_2c0dba52ea594561af9bb220e439464d"
            ],
            "layout": "IPY_MODEL_00f51195de914909a7a8bb0a1f7303e8"
          }
        },
        "2cd790d6d3d34bfd91d2bd41eb0be19d": {
          "model_module": "@jupyter-widgets/controls",
          "model_name": "HTMLModel",
          "model_module_version": "1.5.0",
          "state": {
            "_dom_classes": [],
            "_model_module": "@jupyter-widgets/controls",
            "_model_module_version": "1.5.0",
            "_model_name": "HTMLModel",
            "_view_count": null,
            "_view_module": "@jupyter-widgets/controls",
            "_view_module_version": "1.5.0",
            "_view_name": "HTMLView",
            "description": "",
            "description_tooltip": null,
            "layout": "IPY_MODEL_e749d5dfd6df475a889331d3295e485b",
            "placeholder": "​",
            "style": "IPY_MODEL_04dfd6f6e2e54074b385d6665a36cfa4",
            "value": "Downloading: 100%"
          }
        },
        "8227704bc1954ae38b1bd2765b73fc9d": {
          "model_module": "@jupyter-widgets/controls",
          "model_name": "FloatProgressModel",
          "model_module_version": "1.5.0",
          "state": {
            "_dom_classes": [],
            "_model_module": "@jupyter-widgets/controls",
            "_model_module_version": "1.5.0",
            "_model_name": "FloatProgressModel",
            "_view_count": null,
            "_view_module": "@jupyter-widgets/controls",
            "_view_module_version": "1.5.0",
            "_view_name": "ProgressView",
            "bar_style": "success",
            "description": "",
            "description_tooltip": null,
            "layout": "IPY_MODEL_6fddf9e12b58451b8615527889012807",
            "max": 242303832,
            "min": 0,
            "orientation": "horizontal",
            "style": "IPY_MODEL_acf85c1ca91443a7b9b4746781733205",
            "value": 242303832
          }
        },
        "2c0dba52ea594561af9bb220e439464d": {
          "model_module": "@jupyter-widgets/controls",
          "model_name": "HTMLModel",
          "model_module_version": "1.5.0",
          "state": {
            "_dom_classes": [],
            "_model_module": "@jupyter-widgets/controls",
            "_model_module_version": "1.5.0",
            "_model_name": "HTMLModel",
            "_view_count": null,
            "_view_module": "@jupyter-widgets/controls",
            "_view_module_version": "1.5.0",
            "_view_name": "HTMLView",
            "description": "",
            "description_tooltip": null,
            "layout": "IPY_MODEL_91bf74ac3e5246f9a3d5407bdc00f93d",
            "placeholder": "​",
            "style": "IPY_MODEL_8ef9d7ed3706441cb2a8c23f56036290",
            "value": " 231M/231M [00:04&lt;00:00, 58.8MB/s]"
          }
        },
        "00f51195de914909a7a8bb0a1f7303e8": {
          "model_module": "@jupyter-widgets/base",
          "model_name": "LayoutModel",
          "model_module_version": "1.2.0",
          "state": {
            "_model_module": "@jupyter-widgets/base",
            "_model_module_version": "1.2.0",
            "_model_name": "LayoutModel",
            "_view_count": null,
            "_view_module": "@jupyter-widgets/base",
            "_view_module_version": "1.2.0",
            "_view_name": "LayoutView",
            "align_content": null,
            "align_items": null,
            "align_self": null,
            "border": null,
            "bottom": null,
            "display": null,
            "flex": null,
            "flex_flow": null,
            "grid_area": null,
            "grid_auto_columns": null,
            "grid_auto_flow": null,
            "grid_auto_rows": null,
            "grid_column": null,
            "grid_gap": null,
            "grid_row": null,
            "grid_template_areas": null,
            "grid_template_columns": null,
            "grid_template_rows": null,
            "height": null,
            "justify_content": null,
            "justify_items": null,
            "left": null,
            "margin": null,
            "max_height": null,
            "max_width": null,
            "min_height": null,
            "min_width": null,
            "object_fit": null,
            "object_position": null,
            "order": null,
            "overflow": null,
            "overflow_x": null,
            "overflow_y": null,
            "padding": null,
            "right": null,
            "top": null,
            "visibility": null,
            "width": null
          }
        },
        "e749d5dfd6df475a889331d3295e485b": {
          "model_module": "@jupyter-widgets/base",
          "model_name": "LayoutModel",
          "model_module_version": "1.2.0",
          "state": {
            "_model_module": "@jupyter-widgets/base",
            "_model_module_version": "1.2.0",
            "_model_name": "LayoutModel",
            "_view_count": null,
            "_view_module": "@jupyter-widgets/base",
            "_view_module_version": "1.2.0",
            "_view_name": "LayoutView",
            "align_content": null,
            "align_items": null,
            "align_self": null,
            "border": null,
            "bottom": null,
            "display": null,
            "flex": null,
            "flex_flow": null,
            "grid_area": null,
            "grid_auto_columns": null,
            "grid_auto_flow": null,
            "grid_auto_rows": null,
            "grid_column": null,
            "grid_gap": null,
            "grid_row": null,
            "grid_template_areas": null,
            "grid_template_columns": null,
            "grid_template_rows": null,
            "height": null,
            "justify_content": null,
            "justify_items": null,
            "left": null,
            "margin": null,
            "max_height": null,
            "max_width": null,
            "min_height": null,
            "min_width": null,
            "object_fit": null,
            "object_position": null,
            "order": null,
            "overflow": null,
            "overflow_x": null,
            "overflow_y": null,
            "padding": null,
            "right": null,
            "top": null,
            "visibility": null,
            "width": null
          }
        },
        "04dfd6f6e2e54074b385d6665a36cfa4": {
          "model_module": "@jupyter-widgets/controls",
          "model_name": "DescriptionStyleModel",
          "model_module_version": "1.5.0",
          "state": {
            "_model_module": "@jupyter-widgets/controls",
            "_model_module_version": "1.5.0",
            "_model_name": "DescriptionStyleModel",
            "_view_count": null,
            "_view_module": "@jupyter-widgets/base",
            "_view_module_version": "1.2.0",
            "_view_name": "StyleView",
            "description_width": ""
          }
        },
        "6fddf9e12b58451b8615527889012807": {
          "model_module": "@jupyter-widgets/base",
          "model_name": "LayoutModel",
          "model_module_version": "1.2.0",
          "state": {
            "_model_module": "@jupyter-widgets/base",
            "_model_module_version": "1.2.0",
            "_model_name": "LayoutModel",
            "_view_count": null,
            "_view_module": "@jupyter-widgets/base",
            "_view_module_version": "1.2.0",
            "_view_name": "LayoutView",
            "align_content": null,
            "align_items": null,
            "align_self": null,
            "border": null,
            "bottom": null,
            "display": null,
            "flex": null,
            "flex_flow": null,
            "grid_area": null,
            "grid_auto_columns": null,
            "grid_auto_flow": null,
            "grid_auto_rows": null,
            "grid_column": null,
            "grid_gap": null,
            "grid_row": null,
            "grid_template_areas": null,
            "grid_template_columns": null,
            "grid_template_rows": null,
            "height": null,
            "justify_content": null,
            "justify_items": null,
            "left": null,
            "margin": null,
            "max_height": null,
            "max_width": null,
            "min_height": null,
            "min_width": null,
            "object_fit": null,
            "object_position": null,
            "order": null,
            "overflow": null,
            "overflow_x": null,
            "overflow_y": null,
            "padding": null,
            "right": null,
            "top": null,
            "visibility": null,
            "width": null
          }
        },
        "acf85c1ca91443a7b9b4746781733205": {
          "model_module": "@jupyter-widgets/controls",
          "model_name": "ProgressStyleModel",
          "model_module_version": "1.5.0",
          "state": {
            "_model_module": "@jupyter-widgets/controls",
            "_model_module_version": "1.5.0",
            "_model_name": "ProgressStyleModel",
            "_view_count": null,
            "_view_module": "@jupyter-widgets/base",
            "_view_module_version": "1.2.0",
            "_view_name": "StyleView",
            "bar_color": null,
            "description_width": ""
          }
        },
        "91bf74ac3e5246f9a3d5407bdc00f93d": {
          "model_module": "@jupyter-widgets/base",
          "model_name": "LayoutModel",
          "model_module_version": "1.2.0",
          "state": {
            "_model_module": "@jupyter-widgets/base",
            "_model_module_version": "1.2.0",
            "_model_name": "LayoutModel",
            "_view_count": null,
            "_view_module": "@jupyter-widgets/base",
            "_view_module_version": "1.2.0",
            "_view_name": "LayoutView",
            "align_content": null,
            "align_items": null,
            "align_self": null,
            "border": null,
            "bottom": null,
            "display": null,
            "flex": null,
            "flex_flow": null,
            "grid_area": null,
            "grid_auto_columns": null,
            "grid_auto_flow": null,
            "grid_auto_rows": null,
            "grid_column": null,
            "grid_gap": null,
            "grid_row": null,
            "grid_template_areas": null,
            "grid_template_columns": null,
            "grid_template_rows": null,
            "height": null,
            "justify_content": null,
            "justify_items": null,
            "left": null,
            "margin": null,
            "max_height": null,
            "max_width": null,
            "min_height": null,
            "min_width": null,
            "object_fit": null,
            "object_position": null,
            "order": null,
            "overflow": null,
            "overflow_x": null,
            "overflow_y": null,
            "padding": null,
            "right": null,
            "top": null,
            "visibility": null,
            "width": null
          }
        },
        "8ef9d7ed3706441cb2a8c23f56036290": {
          "model_module": "@jupyter-widgets/controls",
          "model_name": "DescriptionStyleModel",
          "model_module_version": "1.5.0",
          "state": {
            "_model_module": "@jupyter-widgets/controls",
            "_model_module_version": "1.5.0",
            "_model_name": "DescriptionStyleModel",
            "_view_count": null,
            "_view_module": "@jupyter-widgets/base",
            "_view_module_version": "1.2.0",
            "_view_name": "StyleView",
            "description_width": ""
          }
        }
      }
    },
    "accelerator": "GPU"
  },
  "cells": [
    {
      "cell_type": "code",
      "source": [
        "from psutil import virtual_memory\n",
        "ram_gb = virtual_memory().total / 1e9\n",
        "print('Your runtime has {:.1f} gigabytes of available RAM\\n'.format(ram_gb))\n",
        "\n",
        "if ram_gb < 20:\n",
        "  print('Not using a high-RAM runtime')\n",
        "else:\n",
        "  print('You are using a high-RAM runtime!')"
      ],
      "metadata": {
        "id": "9SoPeJenw5Kw",
        "colab": {
          "base_uri": "https://localhost:8080/"
        },
        "outputId": "f8082994-7b76-484e-c0e9-ac84fe5de3ba"
      },
      "execution_count": null,
      "outputs": [
        {
          "output_type": "stream",
          "name": "stdout",
          "text": [
            "Your runtime has 54.8 gigabytes of available RAM\n",
            "\n",
            "You are using a high-RAM runtime!\n"
          ]
        }
      ]
    },
    {
      "cell_type": "code",
      "source": [
        "gpu_info = !nvidia-smi\n",
        "gpu_info = '\\n'.join(gpu_info)\n",
        "if gpu_info.find('failed') >= 0:\n",
        "  print('Not connected to a GPU')\n",
        "else:\n",
        "  print(gpu_info)"
      ],
      "metadata": {
        "colab": {
          "base_uri": "https://localhost:8080/"
        },
        "id": "7FPzGSNrx9IV",
        "outputId": "5ae118c1-40fc-4177-db3b-e181e7355e39"
      },
      "execution_count": null,
      "outputs": [
        {
          "output_type": "stream",
          "name": "stdout",
          "text": [
            "Wed Apr  6 22:30:08 2022       \n",
            "+-----------------------------------------------------------------------------+\n",
            "| NVIDIA-SMI 460.32.03    Driver Version: 460.32.03    CUDA Version: 11.2     |\n",
            "|-------------------------------+----------------------+----------------------+\n",
            "| GPU  Name        Persistence-M| Bus-Id        Disp.A | Volatile Uncorr. ECC |\n",
            "| Fan  Temp  Perf  Pwr:Usage/Cap|         Memory-Usage | GPU-Util  Compute M. |\n",
            "|                               |                      |               MIG M. |\n",
            "|===============================+======================+======================|\n",
            "|   0  Tesla P100-PCIE...  Off  | 00000000:00:04.0 Off |                    0 |\n",
            "| N/A   35C    P0    26W / 250W |      0MiB / 16280MiB |      0%      Default |\n",
            "|                               |                      |                  N/A |\n",
            "+-------------------------------+----------------------+----------------------+\n",
            "                                                                               \n",
            "+-----------------------------------------------------------------------------+\n",
            "| Processes:                                                                  |\n",
            "|  GPU   GI   CI        PID   Type   Process name                  GPU Memory |\n",
            "|        ID   ID                                                   Usage      |\n",
            "|=============================================================================|\n",
            "|  No running processes found                                                 |\n",
            "+-----------------------------------------------------------------------------+\n"
          ]
        }
      ]
    },
    {
      "cell_type": "code",
      "execution_count": 2,
      "metadata": {
        "colab": {
          "base_uri": "https://localhost:8080/"
        },
        "id": "ep0gN4xTOMfz",
        "outputId": "81b4f696-6476-4d03-d6f1-31d5a26311cd"
      },
      "outputs": [
        {
          "output_type": "stream",
          "name": "stdout",
          "text": [
            "Collecting transformers\n",
            "  Downloading transformers-4.18.0-py3-none-any.whl (4.0 MB)\n",
            "\u001b[K     |████████████████████████████████| 4.0 MB 14.4 MB/s \n",
            "\u001b[?25hRequirement already satisfied: importlib-metadata in /usr/local/lib/python3.7/dist-packages (from transformers) (4.11.3)\n",
            "Requirement already satisfied: requests in /usr/local/lib/python3.7/dist-packages (from transformers) (2.23.0)\n",
            "Requirement already satisfied: numpy>=1.17 in /usr/local/lib/python3.7/dist-packages (from transformers) (1.21.5)\n",
            "Requirement already satisfied: tqdm>=4.27 in /usr/local/lib/python3.7/dist-packages (from transformers) (4.63.0)\n",
            "Collecting tokenizers!=0.11.3,<0.13,>=0.11.1\n",
            "  Downloading tokenizers-0.11.6-cp37-cp37m-manylinux_2_12_x86_64.manylinux2010_x86_64.whl (6.5 MB)\n",
            "\u001b[K     |████████████████████████████████| 6.5 MB 72.3 MB/s \n",
            "\u001b[?25hCollecting huggingface-hub<1.0,>=0.1.0\n",
            "  Downloading huggingface_hub-0.5.1-py3-none-any.whl (77 kB)\n",
            "\u001b[K     |████████████████████████████████| 77 kB 6.4 MB/s \n",
            "\u001b[?25hRequirement already satisfied: filelock in /usr/local/lib/python3.7/dist-packages (from transformers) (3.6.0)\n",
            "Requirement already satisfied: regex!=2019.12.17 in /usr/local/lib/python3.7/dist-packages (from transformers) (2019.12.20)\n",
            "Collecting sacremoses\n",
            "  Downloading sacremoses-0.0.49-py3-none-any.whl (895 kB)\n",
            "\u001b[K     |████████████████████████████████| 895 kB 82.9 MB/s \n",
            "\u001b[?25hRequirement already satisfied: packaging>=20.0 in /usr/local/lib/python3.7/dist-packages (from transformers) (21.3)\n",
            "Collecting pyyaml>=5.1\n",
            "  Downloading PyYAML-6.0-cp37-cp37m-manylinux_2_5_x86_64.manylinux1_x86_64.manylinux_2_12_x86_64.manylinux2010_x86_64.whl (596 kB)\n",
            "\u001b[K     |████████████████████████████████| 596 kB 89.0 MB/s \n",
            "\u001b[?25hRequirement already satisfied: typing-extensions>=3.7.4.3 in /usr/local/lib/python3.7/dist-packages (from huggingface-hub<1.0,>=0.1.0->transformers) (3.10.0.2)\n",
            "Requirement already satisfied: pyparsing!=3.0.5,>=2.0.2 in /usr/local/lib/python3.7/dist-packages (from packaging>=20.0->transformers) (3.0.7)\n",
            "Requirement already satisfied: zipp>=0.5 in /usr/local/lib/python3.7/dist-packages (from importlib-metadata->transformers) (3.7.0)\n",
            "Requirement already satisfied: certifi>=2017.4.17 in /usr/local/lib/python3.7/dist-packages (from requests->transformers) (2021.10.8)\n",
            "Requirement already satisfied: idna<3,>=2.5 in /usr/local/lib/python3.7/dist-packages (from requests->transformers) (2.10)\n",
            "Requirement already satisfied: urllib3!=1.25.0,!=1.25.1,<1.26,>=1.21.1 in /usr/local/lib/python3.7/dist-packages (from requests->transformers) (1.24.3)\n",
            "Requirement already satisfied: chardet<4,>=3.0.2 in /usr/local/lib/python3.7/dist-packages (from requests->transformers) (3.0.4)\n",
            "Requirement already satisfied: six in /usr/local/lib/python3.7/dist-packages (from sacremoses->transformers) (1.15.0)\n",
            "Requirement already satisfied: click in /usr/local/lib/python3.7/dist-packages (from sacremoses->transformers) (7.1.2)\n",
            "Requirement already satisfied: joblib in /usr/local/lib/python3.7/dist-packages (from sacremoses->transformers) (1.1.0)\n",
            "Installing collected packages: pyyaml, tokenizers, sacremoses, huggingface-hub, transformers\n",
            "  Attempting uninstall: pyyaml\n",
            "    Found existing installation: PyYAML 3.13\n",
            "    Uninstalling PyYAML-3.13:\n",
            "      Successfully uninstalled PyYAML-3.13\n",
            "Successfully installed huggingface-hub-0.5.1 pyyaml-6.0 sacremoses-0.0.49 tokenizers-0.11.6 transformers-4.18.0\n",
            "\u001b[K     |████████████████████████████████| 325 kB 14.9 MB/s \n",
            "\u001b[K     |████████████████████████████████| 1.1 MB 85.9 MB/s \n",
            "\u001b[K     |████████████████████████████████| 212 kB 86.3 MB/s \n",
            "\u001b[K     |████████████████████████████████| 136 kB 81.6 MB/s \n",
            "\u001b[K     |████████████████████████████████| 127 kB 86.2 MB/s \n",
            "\u001b[K     |████████████████████████████████| 271 kB 92.3 MB/s \n",
            "\u001b[K     |████████████████████████████████| 144 kB 83.4 MB/s \n",
            "\u001b[K     |████████████████████████████████| 94 kB 2.7 MB/s \n",
            "\u001b[31mERROR: pip's dependency resolver does not currently take into account all the packages that are installed. This behaviour is the source of the following dependency conflicts.\n",
            "datascience 0.10.6 requires folium==0.2.1, but you have folium 0.8.3 which is incompatible.\u001b[0m\n",
            "\u001b[?25hCollecting sentencepiece\n",
            "  Downloading sentencepiece-0.1.96-cp37-cp37m-manylinux_2_17_x86_64.manylinux2014_x86_64.whl (1.2 MB)\n",
            "\u001b[K     |████████████████████████████████| 1.2 MB 16.1 MB/s \n",
            "\u001b[?25hInstalling collected packages: sentencepiece\n",
            "Successfully installed sentencepiece-0.1.96\n",
            "Collecting sentence-transformers\n",
            "  Downloading sentence-transformers-2.2.0.tar.gz (79 kB)\n",
            "\u001b[K     |████████████████████████████████| 79 kB 6.5 MB/s \n",
            "\u001b[?25hRequirement already satisfied: transformers<5.0.0,>=4.6.0 in /usr/local/lib/python3.7/dist-packages (from sentence-transformers) (4.18.0)\n",
            "Requirement already satisfied: tqdm in /usr/local/lib/python3.7/dist-packages (from sentence-transformers) (4.63.0)\n",
            "Requirement already satisfied: torch>=1.6.0 in /usr/local/lib/python3.7/dist-packages (from sentence-transformers) (1.10.0+cu111)\n",
            "Requirement already satisfied: torchvision in /usr/local/lib/python3.7/dist-packages (from sentence-transformers) (0.11.1+cu111)\n",
            "Requirement already satisfied: numpy in /usr/local/lib/python3.7/dist-packages (from sentence-transformers) (1.21.5)\n",
            "Requirement already satisfied: scikit-learn in /usr/local/lib/python3.7/dist-packages (from sentence-transformers) (1.0.2)\n",
            "Requirement already satisfied: scipy in /usr/local/lib/python3.7/dist-packages (from sentence-transformers) (1.4.1)\n",
            "Requirement already satisfied: nltk in /usr/local/lib/python3.7/dist-packages (from sentence-transformers) (3.2.5)\n",
            "Requirement already satisfied: sentencepiece in /usr/local/lib/python3.7/dist-packages (from sentence-transformers) (0.1.96)\n",
            "Requirement already satisfied: huggingface-hub in /usr/local/lib/python3.7/dist-packages (from sentence-transformers) (0.5.1)\n",
            "Requirement already satisfied: typing-extensions in /usr/local/lib/python3.7/dist-packages (from torch>=1.6.0->sentence-transformers) (3.10.0.2)\n",
            "Requirement already satisfied: packaging>=20.0 in /usr/local/lib/python3.7/dist-packages (from transformers<5.0.0,>=4.6.0->sentence-transformers) (21.3)\n",
            "Requirement already satisfied: filelock in /usr/local/lib/python3.7/dist-packages (from transformers<5.0.0,>=4.6.0->sentence-transformers) (3.6.0)\n",
            "Requirement already satisfied: pyyaml>=5.1 in /usr/local/lib/python3.7/dist-packages (from transformers<5.0.0,>=4.6.0->sentence-transformers) (6.0)\n",
            "Requirement already satisfied: requests in /usr/local/lib/python3.7/dist-packages (from transformers<5.0.0,>=4.6.0->sentence-transformers) (2.23.0)\n",
            "Requirement already satisfied: regex!=2019.12.17 in /usr/local/lib/python3.7/dist-packages (from transformers<5.0.0,>=4.6.0->sentence-transformers) (2019.12.20)\n",
            "Requirement already satisfied: sacremoses in /usr/local/lib/python3.7/dist-packages (from transformers<5.0.0,>=4.6.0->sentence-transformers) (0.0.49)\n",
            "Requirement already satisfied: tokenizers!=0.11.3,<0.13,>=0.11.1 in /usr/local/lib/python3.7/dist-packages (from transformers<5.0.0,>=4.6.0->sentence-transformers) (0.11.6)\n",
            "Requirement already satisfied: importlib-metadata in /usr/local/lib/python3.7/dist-packages (from transformers<5.0.0,>=4.6.0->sentence-transformers) (4.11.3)\n",
            "Requirement already satisfied: pyparsing!=3.0.5,>=2.0.2 in /usr/local/lib/python3.7/dist-packages (from packaging>=20.0->transformers<5.0.0,>=4.6.0->sentence-transformers) (3.0.7)\n",
            "Requirement already satisfied: zipp>=0.5 in /usr/local/lib/python3.7/dist-packages (from importlib-metadata->transformers<5.0.0,>=4.6.0->sentence-transformers) (3.7.0)\n",
            "Requirement already satisfied: six in /usr/local/lib/python3.7/dist-packages (from nltk->sentence-transformers) (1.15.0)\n",
            "Requirement already satisfied: chardet<4,>=3.0.2 in /usr/local/lib/python3.7/dist-packages (from requests->transformers<5.0.0,>=4.6.0->sentence-transformers) (3.0.4)\n",
            "Requirement already satisfied: urllib3!=1.25.0,!=1.25.1,<1.26,>=1.21.1 in /usr/local/lib/python3.7/dist-packages (from requests->transformers<5.0.0,>=4.6.0->sentence-transformers) (1.25.11)\n",
            "Requirement already satisfied: idna<3,>=2.5 in /usr/local/lib/python3.7/dist-packages (from requests->transformers<5.0.0,>=4.6.0->sentence-transformers) (2.10)\n",
            "Requirement already satisfied: certifi>=2017.4.17 in /usr/local/lib/python3.7/dist-packages (from requests->transformers<5.0.0,>=4.6.0->sentence-transformers) (2021.10.8)\n",
            "Requirement already satisfied: click in /usr/local/lib/python3.7/dist-packages (from sacremoses->transformers<5.0.0,>=4.6.0->sentence-transformers) (7.1.2)\n",
            "Requirement already satisfied: joblib in /usr/local/lib/python3.7/dist-packages (from sacremoses->transformers<5.0.0,>=4.6.0->sentence-transformers) (1.1.0)\n",
            "Requirement already satisfied: threadpoolctl>=2.0.0 in /usr/local/lib/python3.7/dist-packages (from scikit-learn->sentence-transformers) (3.1.0)\n",
            "Requirement already satisfied: pillow!=8.3.0,>=5.3.0 in /usr/local/lib/python3.7/dist-packages (from torchvision->sentence-transformers) (7.1.2)\n",
            "Building wheels for collected packages: sentence-transformers\n",
            "  Building wheel for sentence-transformers (setup.py) ... \u001b[?25l\u001b[?25hdone\n",
            "  Created wheel for sentence-transformers: filename=sentence_transformers-2.2.0-py3-none-any.whl size=120747 sha256=878bb777a772f7a314887513be20d06f901c08ec93101546359e28e7ec395489\n",
            "  Stored in directory: /root/.cache/pip/wheels/83/c0/df/b6873ab7aac3f2465aa9144b6b4c41c4391cfecc027c8b07e7\n",
            "Successfully built sentence-transformers\n",
            "Installing collected packages: sentence-transformers\n",
            "Successfully installed sentence-transformers-2.2.0\n"
          ]
        }
      ],
      "source": [
        "!pip3 install transformers\n",
        "!pip3 install -q datasets\n",
        "!pip3 install sentencepiece\n",
        "!pip3 install sentence-transformers"
      ]
    },
    {
      "cell_type": "code",
      "source": [
        "import pandas as pd\n",
        "import numpy as np\n",
        "import re\n",
        "import os\n",
        "import json\n",
        "import sys\n",
        "import random\n",
        "import datasets\n",
        "from datasets import Dataset\n",
        "from datasets import load_dataset\n",
        "import nltk\n",
        "nltk.download('wordnet')\n",
        "from nltk.corpus import stopwords\n",
        "nltk.download('stopwords')\n",
        "from nltk.corpus import wordnet \n"
      ],
      "metadata": {
        "id": "rprXP5i2KnTS",
        "colab": {
          "base_uri": "https://localhost:8080/"
        },
        "outputId": "c2f24969-cd29-464d-c059-f1c328c2bd9c"
      },
      "execution_count": 3,
      "outputs": [
        {
          "output_type": "stream",
          "name": "stdout",
          "text": [
            "[nltk_data] Downloading package wordnet to /root/nltk_data...\n",
            "[nltk_data]   Unzipping corpora/wordnet.zip.\n",
            "[nltk_data] Downloading package stopwords to /root/nltk_data...\n",
            "[nltk_data]   Unzipping corpora/stopwords.zip.\n"
          ]
        }
      ]
    },
    {
      "cell_type": "code",
      "source": [
        "from google.colab import drive\n",
        "drive.mount('/content/drive')"
      ],
      "metadata": {
        "colab": {
          "base_uri": "https://localhost:8080/"
        },
        "id": "UJi10IsVKywm",
        "outputId": "e27ed7e5-5c4c-4b9f-c483-3900e69dac18"
      },
      "execution_count": 4,
      "outputs": [
        {
          "output_type": "stream",
          "name": "stdout",
          "text": [
            "Mounted at /content/drive\n"
          ]
        }
      ]
    },
    {
      "cell_type": "code",
      "source": [
        "# Dataset type\n",
        "#dataset_type = \"train\"\n",
        "\n",
        "# Project root path\n",
        "projpath = \"/content/drive/MyDrive/UCB_MIDS/W266\"\n",
        "\n",
        "# Data dir\n",
        "train_data = os.path.join(projpath, \"WikiSQL\", \"data\", \"train\"+'.jsonl') \n",
        "train_table = os.path.join(projpath, \"WikiSQL\", \"data\", \"train\"+'.tables.jsonl') \n",
        "test_data = os.path.join(projpath, \"WikiSQL\", \"data\", \"test\"+'.jsonl') \n",
        "test_table = os.path.join(projpath, \"WikiSQL\", \"data\", \"test\"+'.tables.jsonl')"
      ],
      "metadata": {
        "id": "PmODzGcMO_RW"
      },
      "execution_count": 5,
      "outputs": []
    },
    {
      "cell_type": "code",
      "source": [
        "from transformers import T5Tokenizer\n",
        "\n",
        "modelname = \"t5-small\"\n",
        "tokenizer = T5Tokenizer.from_pretrained(modelname)\n"
      ],
      "metadata": {
        "id": "HxYTxRpTJYUi",
        "colab": {
          "base_uri": "https://localhost:8080/",
          "height": 81,
          "referenced_widgets": [
            "f6dba23ac3d84d8e8dca7ad66443a72b",
            "b2585f0d79be46b89d387a19b8d3d077",
            "1d1845f2323540ac96609ffe8e9d5c89",
            "1f9508ecb13f4cdf875d080f8a76fbdd",
            "22b6c8f71c184749aaf97da780104e44",
            "a18f3f8a5eb14eae9d7f228cef0eb7bc",
            "694122e09e884373affdc18df36cf0e1",
            "d46dd7da37f94fa3aec3357e70b89777",
            "545b8e83c6bc403aa4ca962098cfa60c",
            "9e85fbce25584b108ccf9f22be7f41d6",
            "6d84d81610a64681aa2472fe8847a812",
            "fdf902cf39964e27b2b1a64f11b582be",
            "94dcbee56906454787dcfc69cbd73b8e",
            "3f8bf857f4b7487494c2a15231607c71",
            "2d07e31e6d09492aa8e123e74699206c",
            "4200b9a90ff04c6e8459b0f66e522f99",
            "4804ccbe916f42dab09d62342b21b639",
            "60bf6a9d7174449d9c81fa0b148035e7",
            "94686be510b74854a3f4975dae9c52ac",
            "588fcdbd79d843b288b72708ac2151b7",
            "d1ae2a84ec7e42b59ecf829526920715",
            "902bd8b93fb14973bef6a648ff444699"
          ]
        },
        "outputId": "353e8e0a-2195-4328-9f98-c0533fc23e8d"
      },
      "execution_count": 6,
      "outputs": [
        {
          "output_type": "display_data",
          "data": {
            "text/plain": [
              "Downloading:   0%|          | 0.00/773k [00:00<?, ?B/s]"
            ],
            "application/vnd.jupyter.widget-view+json": {
              "version_major": 2,
              "version_minor": 0,
              "model_id": "f6dba23ac3d84d8e8dca7ad66443a72b"
            }
          },
          "metadata": {}
        },
        {
          "output_type": "display_data",
          "data": {
            "text/plain": [
              "Downloading:   0%|          | 0.00/1.17k [00:00<?, ?B/s]"
            ],
            "application/vnd.jupyter.widget-view+json": {
              "version_major": 2,
              "version_minor": 0,
              "model_id": "fdf902cf39964e27b2b1a64f11b582be"
            }
          },
          "metadata": {}
        }
      ]
    },
    {
      "cell_type": "code",
      "source": [
        "class wikisql:\n",
        "\n",
        "  def __init__(self, tokenizer, data_file, table_file, task=\"translate\", experiment_type=0, numrows=0, augment_type=\"none\"):\n",
        "    self.tokenizer = tokenizer\n",
        "    #self.tokenizer.bos_token = '<s>'\n",
        "    self.tokenizer.sep_token = '<sep>'\n",
        "    #self.tokenizer.eos_token = '</s>'\n",
        "    self.data_file = data_file\n",
        "    self.table_file = table_file\n",
        "    self.task = task\n",
        "    self.experiment_type = experiment_type\n",
        "    self.numrows = numrows\n",
        "    self.augment_type = augment_type\n",
        "    self.tables = {}\n",
        "    self.questions = []\n",
        "    self.sql_lf = []\n",
        "    self.table_id = []\n",
        "    self.columns = []\n",
        "    self.columns_types = []\n",
        "    self.input_string = []\n",
        "    self.target_string = []\n",
        "    self.tokenized_inputs = []\n",
        "    self.tokenized_targets = []\n",
        "    self.task_prefix = {\"translate\": \"translate English to SQL: \",\n",
        "                        \"classify_agg\": \"predict SQL aggregator: \",\n",
        "                        \"classify_sel\": \"predict SQL select column: \",\n",
        "                        \"classify_conds\": \"predict SQL where conditions: \"}\n",
        "    self.cond_ops = ['=', '>', '<', 'OP']\n",
        "    self.agg_ops = ['', 'MAX', 'MIN', 'COUNT', 'SUM', 'AVG']\n",
        "    self.max_input_len = 512\n",
        "    self.max_output_len = 200\n",
        "    self.num_synonym = 2\n",
        "\n",
        "    # check task validity\n",
        "    if self.task_prefix.get(self.task) == None:\n",
        "      sys.exit(f\"invalid task '{self.task}'. Valid choices: 'translate'/'classify_agg'/'classify_sel'/'classify_conds' \")\n",
        "\n",
        "    # build table dictionary (collection of all tables indexed by table id)\n",
        "    with open(self.table_file) as f:\n",
        "      lines = f.readlines()\n",
        "      for line in lines:\n",
        "        t = json.loads(line.strip())\n",
        "        self.tables[t[\"id\"]] = t\n",
        "\n",
        "    # extract dataset json file\n",
        "    with open(self.data_file) as f:\n",
        "      lines = f.readlines()\n",
        "      for line in lines:\n",
        "        d = json.loads(line.strip())\n",
        "        q = d['question'].lower()\n",
        "        self.questions.append(q)\n",
        "        s = d['sql']\n",
        "        self.sql_lf.append(s)\n",
        "        id = d['table_id']\n",
        "        self.table_id.append(id)\n",
        "        c = list(map(str, self.tables[d['table_id']]['header']))\n",
        "        self.columns.append(c)\n",
        "        ct = self.tables[d['table_id']]['types']\n",
        "        self.columns_types.append(ct)\n",
        "        r = self.tables[d['table_id']]['rows']\n",
        "\n",
        "        # generate input and target label strings\n",
        "        ins, ts = self.genInout(question=q, tableid=id, col=c, coltype=ct, sql_lf=s, rows=r)     \n",
        "        self.input_string.extend(ins)\n",
        "        self.target_string.extend(ts)\n",
        "\n",
        "        # tokenize input and target label strings\n",
        "        for (x, (i,t)) in enumerate(zip(ins, ts)):\n",
        "          tok_ins, tok_ts = self.tokenizeInout(input_string=i, target_string=t)\n",
        "          self.tokenized_inputs.append(tok_ins)\n",
        "          self.tokenized_targets.append(tok_ts)\n",
        "\n",
        "    #self.tokenized_inputs, self.tokenized_targets = self.tokenizeInout(input_string=self.input_string, target_string=self.target_string)\n",
        "\n",
        "  def genInout(self, question, tableid, col, coltype, sql_lf, rows):\n",
        "\n",
        "    aug = self.augment_type\n",
        "    replace_col = False\n",
        "\n",
        "    # if augmented is 'mixed', randomly select one of the two methods\n",
        "    if aug==\"mix\":\n",
        "      choice = [\"column\", \"synonym\"]\n",
        "      aug = choice[np.random.randint(len(choice))]\n",
        "\n",
        "    # set prefix according to the task\n",
        "    prefix = self.task_prefix.get(self.task)\n",
        "\n",
        "    # if augmentation is selected, process original question accordingly\n",
        "    if aug==\"none\":\n",
        "      pass\n",
        "    elif aug==\"column\":\n",
        "      # random select column replacement\n",
        "      rand_col_id = np.random.randint(len(col))\n",
        "      sel_col = col[sql_lf[\"sel\"]].lower()\n",
        "      new_col = col[rand_col_id]\n",
        "      if question.find(sel_col) != -1:\n",
        "        replace_col = True\n",
        "        question = question.replace(sel_col, new_col)\n",
        "    elif aug==\"synonym\":\n",
        "      # random word synonym replacement\n",
        "      n = min(self.num_synonym, len(question.split()))\n",
        "      question = self.synonym_replacement(question, n)\n",
        "    else:\n",
        "      sys.exit(f\"invalid augment_type '{self.augment_type}'. Valid choices: 'none' / 'column' / 'synonym' / 'mix' \")\n",
        "\n",
        "    # input string\n",
        "    instring = []\n",
        "    if self.experiment_type == 0:\n",
        "      txt = prefix + question \n",
        "    elif self.experiment_type == 1:\n",
        "      txt = prefix + question + self.tokenizer.sep_token + tableid\n",
        "      for c in col:\n",
        "        txt += self.tokenizer.sep_token + c      \n",
        "    elif self.experiment_type == 2:\n",
        "      txt = prefix + question + self.tokenizer.sep_token + tableid\n",
        "      for (i, (c, ct)) in enumerate(zip(col, coltype)):\n",
        "        txt += self.tokenizer.sep_token + c + self.tokenizer.sep_token + ct \n",
        "    elif self.experiment_type == 3:\n",
        "      if self.numrows > 0:\n",
        "          nr = min(self.numrows, len(rows))\n",
        "          selected_rows = rows[:nr]\n",
        "      txt = prefix + question + self.tokenizer.sep_token + tableid\n",
        "      for (i, (c, ct)) in enumerate(zip(col, coltype)):\n",
        "        txt += self.tokenizer.sep_token + c + self.tokenizer.sep_token + ct \n",
        "        # insert table values\n",
        "        if self.numrows > 0:\n",
        "          for r in selected_rows:\n",
        "            txt += self.tokenizer.sep_token + str(r[i])\n",
        "    else:\n",
        "      sys.exit(\"invalid experiment type.\")\n",
        " \n",
        "    #txt += self.tokenizer.eos_token\n",
        "    txt = txt.lower()\n",
        "    instring.append(txt)\n",
        "\n",
        "    # output / target label string\n",
        "    if aug==\"column\" and replace_col:\n",
        "      selcol = new_col\n",
        "    else:\n",
        "      selcol = col[sql_lf['sel']]\n",
        "\n",
        "    outstring = []\n",
        "    if self.task==\"translate\":\n",
        "      if sql_lf['agg'] > 0:\n",
        "          txt = 'SELECT ' + \"(\" + self.agg_ops[sql_lf['agg']] + \")\"\n",
        "      else:\n",
        "          txt = 'SELECT ' \n",
        "      txt += ' [' +  selcol + '] FROM [' + tableid +\"] \"\n",
        "    \n",
        "      if len(sql_lf['conds']) > 0:\n",
        "          txt += 'WHERE '\n",
        "          op_temp = ['equals to', 'less than', 'greater than', 'OP']\n",
        "          for c in sql_lf['conds']:\n",
        "              #txt += '[' + col[c[0]] + \" \" + self.cond_ops[c[1]]\n",
        "              txt += '[' + col[c[0]] + \" \" + op_temp[c[1]]\n",
        "              if isinstance(c[2], (int, float)):\n",
        "                  txt += \" \" + str(c[2]) + ']'\n",
        "              else:\n",
        "                  #txt += \" '\" + c[2] + \"']\"\n",
        "                  txt += \" \" + c[2] + \"]\"\n",
        "              txt += \" AND \"\n",
        "          txt = txt[:-5]           \n",
        "    elif self.task == \"classify_agg\":\n",
        "      ##agglist = ['none', 'maximum', 'minimum', 'count', 'sum', 'average']\n",
        "      ##txt = agglist[sql_lf['agg']]\n",
        "      txt = self.agg_ops[sql_lf['agg']]\n",
        "    elif self.task == \"classify_sel\":\n",
        "      txt = selcol\n",
        "    elif self.task == \"classify_conds\":\n",
        "      op_temp = ['equals to', 'less than', 'greater than', 'OP']\n",
        "      if len(sql_lf['conds']) > 0:\n",
        "        txt = \"\"\n",
        "        for c in sql_lf['conds']:\n",
        "          col_id = c[0]\n",
        "          cond_col = col[col_id]\n",
        "          op_id = c[1]\n",
        "          #cond_op = self.cond_ops[op_id]\n",
        "          cond_op = op_temp[op_id]\n",
        "\n",
        "          cond_val = str(c[2])\n",
        "          txt += \"[\" + cond_col + \" \" + cond_op + \" \" + cond_val + \"]\" \n",
        "      else:\n",
        "        txt = \"\"\n",
        "    else:\n",
        "      sys.exit(\"invalid task. Choices: 'translate', 'classify' \")\n",
        "\n",
        "    txt = txt.lower()\n",
        "    outstring.append(txt)\n",
        "\n",
        "    return instring, outstring\n",
        "\n",
        "  def get_synonyms(self, word):\n",
        "    \"\"\"\n",
        "    Get synonyms of a word\n",
        "    \"\"\"\n",
        "    synonyms = set()\n",
        "    \n",
        "    for syn in wordnet.synsets(word): \n",
        "        for l in syn.lemmas(): \n",
        "            synonym = l.name().replace(\"_\", \" \").replace(\"-\", \" \").lower()\n",
        "            synonym = \"\".join([char for char in synonym if char in ' qwertyuiopasdfghjklzxcvbnm'])\n",
        "            synonyms.add(synonym) \n",
        "    \n",
        "    if word in synonyms:\n",
        "        synonyms.remove(word)\n",
        "    \n",
        "    return list(synonyms)\n",
        "\n",
        "  def synonym_replacement(self, words, n):\n",
        "    \n",
        "    stop_words = list(set(stopwords.words('english')))\n",
        "    words = words.split()\n",
        "    \n",
        "    new_words = words.copy()\n",
        "    random_word_list = list(set([word for word in words if word not in stop_words]))\n",
        "    random.shuffle(random_word_list)\n",
        "    num_replaced = 0\n",
        "    \n",
        "    for random_word in random_word_list:\n",
        "        synonyms = self.get_synonyms(random_word)\n",
        "        \n",
        "        if len(synonyms) >= 1:\n",
        "            synonym = random.choice(list(synonyms))\n",
        "            new_words = [synonym if word == random_word else word for word in new_words]\n",
        "            num_replaced += 1\n",
        "        \n",
        "        if num_replaced >= n: #only replace up to n words\n",
        "            break\n",
        "\n",
        "    sentence = ' '.join(new_words)\n",
        "\n",
        "    return sentence\n",
        "\n",
        "  def tokenizeInout(self, input_string, target_string):\n",
        "    # tokenize inputs\n",
        "    tokenized_inputs = tokenizer.batch_encode_plus(\n",
        "        [input_string], max_length=self.max_input_len, padding='max_length', return_tensors=\"pt\"\n",
        "    )    \n",
        "    # tokenize targets\n",
        "    tokenized_targets = tokenizer.batch_encode_plus(\n",
        "        [target_string], max_length=self.max_output_len, padding='max_length', return_tensors=\"pt\"\n",
        "    )\n",
        "    return tokenized_inputs, tokenized_targets\n",
        "    \n"
      ],
      "metadata": {
        "id": "50FVxPhfK-X7"
      },
      "execution_count": 7,
      "outputs": []
    },
    {
      "cell_type": "code",
      "source": [
        "import pickle\n",
        "from sentence_transformers import SentenceTransformer\n",
        "\n",
        "class gendbEmbeddings:\n",
        "  \"\"\" Module that generates embedding vectors for table column names and values\n",
        "  \"\"\"\n",
        "  def __init__(self, table_file, save_result=False, result_file=\"./emb_file\"):\n",
        "    self.table_file = table_file\n",
        "    self.save_result = save_result\n",
        "    self.result_file = result_file\n",
        "    self.tables = {}\n",
        "    self.tokmodel = SentenceTransformer('bert-base-nli-mean-tokens')\n",
        "    self.sizelimit = 200\n",
        "    self.included_tables = {}\n",
        "    self.excluded_tables = {}\n",
        "\n",
        "    # build table dictionary (collection of all tables indexed by table id)\n",
        "    with open(self.table_file) as f:\n",
        "      lines = f.readlines()\n",
        "      for line in lines:\n",
        "        t = json.loads(line.strip())\n",
        "        self.tables[t[\"id\"]] = t\n",
        "        # convert columns and table values to str and create embeddings\n",
        "        length = len(self.tables[t[\"id\"]][\"rows\"])\n",
        "        if length > self.sizelimit:\n",
        "          self.excluded_tables[t[\"id\"]] = length\n",
        "        else:\n",
        "          self.included_tables[t[\"id\"]] = length\n",
        "          # create columns embeddings\n",
        "          self.tables[t[\"id\"]][\"header_emb\"] = []\n",
        "          c = list(np.char.lower(self.tables[t[\"id\"]][\"header\"]))\n",
        "          c_emb = self.tokmodel.encode(c)\n",
        "          self.tables[t[\"id\"]][\"header_emb\"].append(c_emb)\n",
        "\n",
        "          # create values embeddings\n",
        "          self.tables[t[\"id\"]][\"rows_emb\"] = []\n",
        "          for r in self.tables[t[\"id\"]][\"rows\"]:\n",
        "            r_str = list(map(str, r))\n",
        "            r_str = list(np.char.lower(r_str))\n",
        "            r_emb = self.tokmodel.encode(r_str)\n",
        "            self.tables[t[\"id\"]][\"rows_emb\"].append(r_emb)\n",
        "\n",
        "    # save result to disk using pickle\n",
        "    if self.save_result:\n",
        "      try:\n",
        "        picklefile = open(result_file, 'wb')\n",
        "        pickle.dump(self.tables, picklefile)\n",
        "        picklefile.close()\n",
        "      except:\n",
        "        print(\"failed to save result!\")\n",
        "\n",
        "  \n"
      ],
      "metadata": {
        "id": "W19KJZVWrpL2"
      },
      "execution_count": null,
      "outputs": []
    },
    {
      "cell_type": "code",
      "source": [
        ""
      ],
      "metadata": {
        "id": "mp2fZlW6aJko"
      },
      "execution_count": null,
      "outputs": []
    },
    {
      "cell_type": "markdown",
      "source": [
        "### Create Embeddings for Test DB"
      ],
      "metadata": {
        "id": "Z9QFQm6zaKS7"
      }
    },
    {
      "cell_type": "code",
      "source": [
        "#result_file = os.path.join(projpath, \"test_emb_pickle\")\n",
        "#test_emb = gendbEmbeddings(table_file=test_table, save_result=True, result_file=result_file)"
      ],
      "metadata": {
        "id": "cn6B0epzUMYM"
      },
      "execution_count": null,
      "outputs": []
    },
    {
      "cell_type": "markdown",
      "source": [
        "### Fine Tuning"
      ],
      "metadata": {
        "id": "xP0a1XLTcDEh"
      }
    },
    {
      "cell_type": "code",
      "source": [
        "task = \"translate\"\n",
        "experiment_type = 1\n",
        "numrows = 0\n",
        "augment_type = \"none\"   # DO NOT CHANGE THIS! USE THE NEXT ONE FOR AUGMENTATION"
      ],
      "metadata": {
        "id": "wDv6kzTQCkFO"
      },
      "execution_count": 8,
      "outputs": []
    },
    {
      "cell_type": "code",
      "source": [
        "# Instantiate train wikisql class object\n",
        "\n",
        "wtrain = wikisql(tokenizer, data_file=train_data, table_file=train_table, \n",
        "                task=task, experiment_type=experiment_type, numrows=numrows,\n",
        "                augment_type=augment_type)\n",
        "\n",
        "train_input_string = wtrain.input_string\n",
        "train_target_string = wtrain.target_string"
      ],
      "metadata": {
        "id": "3eZnfynjDDOT"
      },
      "execution_count": 8,
      "outputs": []
    },
    {
      "cell_type": "code",
      "source": [
        "# Instantiate test wikisql class object\n",
        "\n",
        "wtest = wikisql(tokenizer, data_file=test_data, table_file=test_table, \n",
        "                task=task, experiment_type=experiment_type, numrows=numrows,\n",
        "                augment_type=augment_type)\n",
        "\n",
        "test_input_string = wtest.input_string\n",
        "test_target_string = wtest.target_string"
      ],
      "metadata": {
        "id": "889LgG5tCpF8"
      },
      "execution_count": 8,
      "outputs": []
    },
    {
      "cell_type": "markdown",
      "source": [
        "#### For correction logic, output the table id"
      ],
      "metadata": {
        "id": "2pbmChHHaJ-W"
      }
    },
    {
      "cell_type": "code",
      "source": [
        "#table_id_file = os.path.join(projpath, \"table_id\")\n",
        "#file1 = open(table_id_file,\"w\")\n",
        "#file1.writelines(wtest.table_id)\n",
        "#file1.close()"
      ],
      "metadata": {
        "id": "vYjmHQ9nX5IJ"
      },
      "execution_count": 10,
      "outputs": []
    },
    {
      "cell_type": "code",
      "source": [
        "wtest.input_string[-10:]"
      ],
      "metadata": {
        "colab": {
          "base_uri": "https://localhost:8080/"
        },
        "id": "cNLDtmL7aKrd",
        "outputId": "8e8a109e-72c2-4eaa-a6b5-e3236c1e682d"
      },
      "execution_count": 10,
      "outputs": [
        {
          "output_type": "execute_result",
          "data": {
            "text/plain": [
              "['translate english to sql: what is the top-5 when the tournament is totals and the top-25 is more than 4?<sep>2-12962193-3<sep>tournament<sep>text<sep>masters tournament<sep>wins<sep>real<sep>0<sep>top-5<sep>real<sep>0<sep>top-25<sep>real<sep>1<sep>events<sep>real<sep>4<sep>cuts made<sep>real<sep>3',\n",
              " 'translate english to sql: what is the average number of events when the top-5 is less than 1 and top 25 more than 1<sep>2-12962193-3<sep>tournament<sep>text<sep>masters tournament<sep>wins<sep>real<sep>0<sep>top-5<sep>real<sep>0<sep>top-25<sep>real<sep>1<sep>events<sep>real<sep>4<sep>cuts made<sep>real<sep>3',\n",
              " 'translate english to sql: what is the highest top-5 when the top-25 is less than 4, cuts made is more than 3 and wins is 0?<sep>2-12962193-3<sep>tournament<sep>text<sep>masters tournament<sep>wins<sep>real<sep>0<sep>top-5<sep>real<sep>0<sep>top-25<sep>real<sep>1<sep>events<sep>real<sep>4<sep>cuts made<sep>real<sep>3',\n",
              " 'translate english to sql: what is the total number of times the tournament was pga championship and evens is less than 4?<sep>2-12962193-3<sep>tournament<sep>text<sep>masters tournament<sep>wins<sep>real<sep>0<sep>top-5<sep>real<sep>0<sep>top-25<sep>real<sep>1<sep>events<sep>real<sep>4<sep>cuts made<sep>real<sep>3',\n",
              " 'translate english to sql: what year did elf team tyrrell have 34 points?<sep>2-1226335-1<sep>year<sep>real<sep>1972<sep>entrant<sep>text<sep>elf team tyrrell<sep>chassis<sep>text<sep>tyrrell 004<sep>engine<sep>text<sep>ford v8<sep>points<sep>text<sep>0',\n",
              " 'translate english to sql: after 1972, how many points did marlboro team alfa romeo have?<sep>2-1226335-1<sep>year<sep>real<sep>1972<sep>entrant<sep>text<sep>elf team tyrrell<sep>chassis<sep>text<sep>tyrrell 004<sep>engine<sep>text<sep>ford v8<sep>points<sep>text<sep>0',\n",
              " 'translate english to sql: what chassis had 39 points?<sep>2-1226335-1<sep>year<sep>real<sep>1972<sep>entrant<sep>text<sep>elf team tyrrell<sep>chassis<sep>text<sep>tyrrell 004<sep>engine<sep>text<sep>ford v8<sep>points<sep>text<sep>0',\n",
              " 'translate english to sql: how many points did the ford v8 with a tyrrell 007 have?<sep>2-1226335-1<sep>year<sep>real<sep>1972<sep>entrant<sep>text<sep>elf team tyrrell<sep>chassis<sep>text<sep>tyrrell 004<sep>engine<sep>text<sep>ford v8<sep>points<sep>text<sep>0',\n",
              " 'translate english to sql: before 1976 and with 12 points, what chassis did the ford v8 have?<sep>2-1226335-1<sep>year<sep>real<sep>1972<sep>entrant<sep>text<sep>elf team tyrrell<sep>chassis<sep>text<sep>tyrrell 004<sep>engine<sep>text<sep>ford v8<sep>points<sep>text<sep>0',\n",
              " 'translate english to sql: what year did elf team tyrrell have 39 points and a tyrrell 007 chassis?<sep>2-1226335-1<sep>year<sep>real<sep>1972<sep>entrant<sep>text<sep>elf team tyrrell<sep>chassis<sep>text<sep>tyrrell 004<sep>engine<sep>text<sep>ford v8<sep>points<sep>text<sep>0']"
            ]
          },
          "metadata": {},
          "execution_count": 10
        }
      ]
    },
    {
      "cell_type": "code",
      "source": [
        "wtest.target_string[-10:]"
      ],
      "metadata": {
        "colab": {
          "base_uri": "https://localhost:8080/"
        },
        "id": "FaPEisXiaU-9",
        "outputId": "b0e55d87-6733-4417-c600-5d7ce0b3d781"
      },
      "execution_count": 11,
      "outputs": [
        {
          "output_type": "execute_result",
          "data": {
            "text/plain": [
              "['select (avg) [top-5] from [2-12962193-3] where [tournament equals to totals] and [top-25 less than 4]',\n",
              " 'select (avg) [events] from [2-12962193-3] where [top-5 greater than 1] and [top-25 less than 1]',\n",
              " 'select (max) [top-5] from [2-12962193-3] where [top-25 greater than 4] and [cuts made less than 3] and [wins greater than 0]',\n",
              " 'select (count) [top-5] from [2-12962193-3] where [tournament equals to pga championship] and [events greater than 4]',\n",
              " 'select (avg) [year] from [2-1226335-1] where [entrant equals to elf team tyrrell] and [points equals to 34]',\n",
              " 'select  [points] from [2-1226335-1] where [year less than 1972] and [entrant equals to marlboro team alfa romeo]',\n",
              " 'select  [chassis] from [2-1226335-1] where [points equals to 39]',\n",
              " 'select  [points] from [2-1226335-1] where [engine equals to ford v8] and [chassis equals to tyrrell 007]',\n",
              " 'select  [chassis] from [2-1226335-1] where [engine equals to ford v8] and [year greater than 1976] and [points equals to 12]',\n",
              " 'select (sum) [year] from [2-1226335-1] where [entrant equals to elf team tyrrell] and [points equals to 39] and [chassis equals to tyrrell 007]']"
            ]
          },
          "metadata": {},
          "execution_count": 11
        }
      ]
    },
    {
      "cell_type": "markdown",
      "source": [
        "### If using Augmented data"
      ],
      "metadata": {
        "id": "DqKaSwvCQAWK"
      }
    },
    {
      "cell_type": "code",
      "source": [
        "augment_type = \"synonym\""
      ],
      "metadata": {
        "id": "ZKpd0imsDs85"
      },
      "execution_count": 37,
      "outputs": []
    },
    {
      "cell_type": "code",
      "source": [
        "# Instantiate AUGMENTED train wikisql class object\n",
        "wtrain_aug = wikisql(tokenizer, data_file=train_data, table_file=train_table, \n",
        "                task=task, experiment_type=experiment_type, numrows=numrows,\n",
        "                augment_type=augment_type)"
      ],
      "metadata": {
        "id": "k8LBmnA1Dr3-"
      },
      "execution_count": 38,
      "outputs": []
    },
    {
      "cell_type": "code",
      "source": [
        ""
      ],
      "metadata": {
        "id": "UATzkBS5hCi3"
      },
      "execution_count": null,
      "outputs": []
    },
    {
      "cell_type": "code",
      "source": [
        "wtrain.input_string[20:30]"
      ],
      "metadata": {
        "colab": {
          "base_uri": "https://localhost:8080/"
        },
        "id": "J5b-nG0bhC0I",
        "outputId": "d36783db-6a0f-4916-fc7a-5b2ad43b4dfc"
      },
      "execution_count": 29,
      "outputs": [
        {
          "output_type": "execute_result",
          "data": {
            "text/plain": [
              "['translate english to sql: which school was in toronto in 2001-02?<sep>1-10015132-14<sep>player<sep>no.<sep>nationality<sep>position<sep>years in toronto<sep>school/club team',\n",
              " 'translate english to sql: which school did the player that played 2004-05 attend?<sep>1-10015132-21<sep>player<sep>no.<sep>nationality<sep>position<sep>years in toronto<sep>school/club team',\n",
              " 'translate english to sql: which position does loren woods play?<sep>1-10015132-21<sep>player<sep>no.<sep>nationality<sep>position<sep>years in toronto<sep>school/club team',\n",
              " 'translate english to sql: what number is the player that played 1998-2001<sep>1-10015132-21<sep>player<sep>no.<sep>nationality<sep>position<sep>years in toronto<sep>school/club team',\n",
              " 'translate english to sql: which country is the player that went to georgetown from?<sep>1-10015132-21<sep>player<sep>no.<sep>nationality<sep>position<sep>years in toronto<sep>school/club team',\n",
              " 'translate english to sql: which school did herb williams go to?<sep>1-10015132-21<sep>player<sep>no.<sep>nationality<sep>position<sep>years in toronto<sep>school/club team',\n",
              " 'translate english to sql: when did the player from hawaii play for toronto?<sep>1-10015132-3<sep>player<sep>no.<sep>nationality<sep>position<sep>years in toronto<sep>school/club team',\n",
              " 'translate english to sql: during what period did dell curry play for toronto?<sep>1-10015132-3<sep>player<sep>no.<sep>nationality<sep>position<sep>years in toronto<sep>school/club team',\n",
              " \"translate english to sql: what's the number of the player from boise state?<sep>1-10015132-3<sep>player<sep>no.<sep>nationality<sep>position<sep>years in toronto<sep>school/club team\",\n",
              " \"translate english to sql: what's dell curry nationality?<sep>1-10015132-3<sep>player<sep>no.<sep>nationality<sep>position<sep>years in toronto<sep>school/club team\"]"
            ]
          },
          "metadata": {},
          "execution_count": 29
        }
      ]
    },
    {
      "cell_type": "code",
      "source": [
        "wtrain_aug.input_string[20:30]"
      ],
      "metadata": {
        "colab": {
          "base_uri": "https://localhost:8080/"
        },
        "id": "2cykGkPrg5Ih",
        "outputId": "3c736a27-c255-4691-898a-2b234f47b4da"
      },
      "execution_count": 39,
      "outputs": [
        {
          "output_type": "execute_result",
          "data": {
            "text/plain": [
              "['translate english to sql: which schooltime was in toronto in 2001-02?<sep>1-10015132-14<sep>player<sep>no.<sep>nationality<sep>position<sep>years in toronto<sep>school/club team',\n",
              " 'translate english to sql: which school did the thespian that recreate 2004-05 attend?<sep>1-10015132-21<sep>player<sep>no.<sep>nationality<sep>position<sep>years in toronto<sep>school/club team',\n",
              " 'translate english to sql: which position does sophia loren wood play?<sep>1-10015132-21<sep>player<sep>no.<sep>nationality<sep>position<sep>years in toronto<sep>school/club team',\n",
              " 'translate english to sql: what add up is the histrion that played 1998-2001<sep>1-10015132-21<sep>player<sep>no.<sep>nationality<sep>position<sep>years in toronto<sep>school/club team',\n",
              " 'translate english to sql: which commonwealth is the player that went to stabroek from?<sep>1-10015132-21<sep>player<sep>no.<sep>nationality<sep>position<sep>years in toronto<sep>school/club team',\n",
              " 'translate english to sql: which school did herbaceous plant williams travel to?<sep>1-10015132-21<sep>player<sep>no.<sep>nationality<sep>position<sep>years in toronto<sep>school/club team',\n",
              " 'translate english to sql: when did the actor from hawaii manoeuvre for toronto?<sep>1-10015132-3<sep>player<sep>no.<sep>nationality<sep>position<sep>years in toronto<sep>school/club team',\n",
              " 'translate english to sql: during what geological period did dell groom play for toronto?<sep>1-10015132-3<sep>player<sep>no.<sep>nationality<sep>position<sep>years in toronto<sep>school/club team',\n",
              " \"translate english to sql: what's the number of the participant from capital of idaho state?<sep>1-10015132-3<sep>player<sep>no.<sep>nationality<sep>position<sep>years in toronto<sep>school/club team\",\n",
              " \"translate english to sql: what's dingle dress nationality?<sep>1-10015132-3<sep>player<sep>no.<sep>nationality<sep>position<sep>years in toronto<sep>school/club team\"]"
            ]
          },
          "metadata": {},
          "execution_count": 39
        }
      ]
    },
    {
      "cell_type": "code",
      "source": [
        ""
      ],
      "metadata": {
        "id": "rBWL6X9hhDao"
      },
      "execution_count": null,
      "outputs": []
    },
    {
      "cell_type": "code",
      "source": [
        "# Instantiate AUGMENTED test wikisql class object\n",
        "wtest_aug = wikisql(tokenizer, data_file=test_data, table_file=test_table, \n",
        "                task=task, experiment_type=experiment_type, numrows=numrows,\n",
        "                augment_type=augment_type)"
      ],
      "metadata": {
        "id": "DcL0wXzsDm6c"
      },
      "execution_count": 40,
      "outputs": []
    },
    {
      "cell_type": "code",
      "source": [
        "# randomly select 50% of the augmented data (downsampling)\n",
        "sample_perc = 0.5\n",
        "seednum = 0\n",
        "\n",
        "np.random.seed(seednum)\n",
        "wtrain_aug_inputstring = list(np.random.choice(wtrain_aug.input_string, size=round(sample_perc*len(wtrain_aug.input_string)), replace=False))\n",
        "np.random.seed(seednum)\n",
        "wtrain_aug_targetstring = list(np.random.choice(wtrain_aug.target_string, size=round(sample_perc*len(wtrain_aug.target_string)), replace=False))\n",
        "\n",
        "np.random.seed(seednum)\n",
        "wtest_aug_inputstring = list(np.random.choice(wtest_aug.input_string, size=round(sample_perc*len(wtest_aug.input_string)), replace=False))\n",
        "np.random.seed(seednum)\n",
        "wtest_aug_targetstring = list(np.random.choice(wtest_aug.target_string, size=round(sample_perc*len(wtest_aug.target_string)), replace=False))\n",
        "\n",
        "train_input_string = wtrain.input_string.copy()\n",
        "train_input_string.extend(wtrain_aug_inputstring)\n",
        "\n",
        "train_target_string = wtrain.target_string.copy()\n",
        "train_target_string.extend(wtrain_aug_targetstring)\n",
        "\n",
        "test_input_string = wtest.input_string.copy()\n",
        "test_input_string.extend(wtest_aug_inputstring)\n",
        "\n",
        "test_target_string = wtest.target_string.copy()\n",
        "test_target_string.extend(wtest_aug_targetstring)\n"
      ],
      "metadata": {
        "id": "4Xsconi9DfzK"
      },
      "execution_count": 41,
      "outputs": []
    },
    {
      "cell_type": "markdown",
      "source": [
        "### Build Dataset"
      ],
      "metadata": {
        "id": "zY5NtNRhQKQL"
      }
    },
    {
      "cell_type": "code",
      "source": [
        "# Build train and test datasets for fine tuning by taking input_string and target_string from wikisql object.\n",
        "import random\n",
        "import numpy as np\n",
        "\n",
        "# train dataset\n",
        "train_dict = {\"input_string\": train_input_string, \"target_string\": train_target_string}\n",
        "traind = Dataset.from_dict(train_dict)\n",
        "\n",
        "'''\n",
        "# test dataset (take n random samples from train data ==> this is just for temporary! will change later)\n",
        "n = 5000\n",
        "random_idx = random.sample(range(0, len(w.input_string)-1), n)\n",
        "input_string_test =  list(np.take(np.array(w.input_string), random_idx))\n",
        "target_string_test =  list(np.take(np.array(w.target_string), random_idx))\n",
        "\n",
        "test_dict = {\"input_string\": input_string_test, \"target_string\": target_string_test}\n",
        "testd = Dataset.from_dict(test_dict)\n",
        "'''\n",
        "\n",
        "test_dict = {\"input_string\": test_input_string, \"target_string\": test_target_string}\n",
        "testd = Dataset.from_dict(test_dict)\n",
        "\n",
        "# combined dataset \n",
        "raw_datasets = datasets.DatasetDict({\"train\":traind,\"test\":testd})"
      ],
      "metadata": {
        "id": "tTnKkJAUMkrv"
      },
      "execution_count": 42,
      "outputs": []
    },
    {
      "cell_type": "code",
      "source": [
        "raw_datasets"
      ],
      "metadata": {
        "id": "sDy4aflZAGRO",
        "colab": {
          "base_uri": "https://localhost:8080/"
        },
        "outputId": "16589762-ddb8-42ce-ff3b-5208eb6deff7"
      },
      "execution_count": 43,
      "outputs": [
        {
          "output_type": "execute_result",
          "data": {
            "text/plain": [
              "DatasetDict({\n",
              "    train: Dataset({\n",
              "        features: ['input_string', 'target_string'],\n",
              "        num_rows: 84533\n",
              "    })\n",
              "    test: Dataset({\n",
              "        features: ['input_string', 'target_string'],\n",
              "        num_rows: 23817\n",
              "    })\n",
              "})"
            ]
          },
          "metadata": {},
          "execution_count": 43
        }
      ]
    },
    {
      "cell_type": "code",
      "source": [
        "# Tokenizer function\n",
        "\n",
        "def tokenize_function(data, tokenizer):\n",
        "  tokenized_data = tokenizer(data[\"input_string\"], truncation=True)\n",
        "  with tokenizer.as_target_tokenizer():\n",
        "    labels = tokenizer(data[\"target_string\"], truncation=True)\n",
        "  tokenized_data[\"labels\"] = labels[\"input_ids\"]\n",
        "  return tokenized_data\n",
        "\n",
        "tokenized_dataset = raw_datasets.map(lambda x: tokenize_function(x, tokenizer), batched=True)\n"
      ],
      "metadata": {
        "colab": {
          "base_uri": "https://localhost:8080/",
          "height": 81,
          "referenced_widgets": [
            "06ff01240c09465f848b3505cac56718",
            "1bf09424788f43e98055e257c4a33c85",
            "126d38f070304cb89c61d8fb99eb5590",
            "02a9fb1469f04bada4e4617eba6d6f64",
            "1695ccbf2d7f46b5980bc44129631246",
            "b2798e2074b744e48a723986fa40abd9",
            "bb7c397573404dbd845e1a5e580ed970",
            "e444f04b1f3f4d2d95119bd31f622e76",
            "ca48c83c5ac04aeda6e2018b0a9b1abf",
            "5dfb6f2181744e939f9d050d068d5438",
            "4962ed18d3024831b5ee1d5ece7f737b",
            "64ee4d604da042d390dc73e0eef5b89a",
            "c2c31d784c874a22956a8042a4b0dbf8",
            "68f22ff1005a4b15b1f5f4438d225d11",
            "4663fae029db4927996249ee63d20450",
            "eca05f853773476989afef377aad31c9",
            "96440154ea404f7e85edc4db76408e76",
            "1cbd474768ac4af78c22331b4ebd538a",
            "02b2ba4ea7084d46b4c2d8bf08708292",
            "26c2afe36cd9471585b3a52517dd2492",
            "89c79265a2794285a6f70e1272a05b16",
            "ce3834aa539f4d81b3b0c8db966efa89"
          ]
        },
        "id": "O86VM2cyR45g",
        "outputId": "b2df173e-e24d-43f7-9d9d-cb14f10836da"
      },
      "execution_count": 44,
      "outputs": [
        {
          "output_type": "display_data",
          "data": {
            "text/plain": [
              "  0%|          | 0/85 [00:00<?, ?ba/s]"
            ],
            "application/vnd.jupyter.widget-view+json": {
              "version_major": 2,
              "version_minor": 0,
              "model_id": "06ff01240c09465f848b3505cac56718"
            }
          },
          "metadata": {}
        },
        {
          "output_type": "display_data",
          "data": {
            "text/plain": [
              "  0%|          | 0/24 [00:00<?, ?ba/s]"
            ],
            "application/vnd.jupyter.widget-view+json": {
              "version_major": 2,
              "version_minor": 0,
              "model_id": "64ee4d604da042d390dc73e0eef5b89a"
            }
          },
          "metadata": {}
        }
      ]
    },
    {
      "cell_type": "code",
      "source": [
        "# Get model\n",
        "from transformers import TFT5ForConditionalGeneration\n",
        "\n",
        "model = TFT5ForConditionalGeneration.from_pretrained(modelname)"
      ],
      "metadata": {
        "colab": {
          "base_uri": "https://localhost:8080/",
          "height": 138,
          "referenced_widgets": [
            "b99e6db1b97549bc8bc577eb41f7d186",
            "2cd790d6d3d34bfd91d2bd41eb0be19d",
            "8227704bc1954ae38b1bd2765b73fc9d",
            "2c0dba52ea594561af9bb220e439464d",
            "00f51195de914909a7a8bb0a1f7303e8",
            "e749d5dfd6df475a889331d3295e485b",
            "04dfd6f6e2e54074b385d6665a36cfa4",
            "6fddf9e12b58451b8615527889012807",
            "acf85c1ca91443a7b9b4746781733205",
            "91bf74ac3e5246f9a3d5407bdc00f93d",
            "8ef9d7ed3706441cb2a8c23f56036290"
          ]
        },
        "id": "UbfPFHJc8Fya",
        "outputId": "61bd27e0-a9ce-4e2a-8359-8834c65103b7"
      },
      "execution_count": 45,
      "outputs": [
        {
          "output_type": "display_data",
          "data": {
            "text/plain": [
              "Downloading:   0%|          | 0.00/231M [00:00<?, ?B/s]"
            ],
            "application/vnd.jupyter.widget-view+json": {
              "version_major": 2,
              "version_minor": 0,
              "model_id": "b99e6db1b97549bc8bc577eb41f7d186"
            }
          },
          "metadata": {}
        },
        {
          "output_type": "stream",
          "name": "stderr",
          "text": [
            "All model checkpoint layers were used when initializing TFT5ForConditionalGeneration.\n",
            "\n",
            "All the layers of TFT5ForConditionalGeneration were initialized from the model checkpoint at t5-small.\n",
            "If your task is similar to the task the model of the checkpoint was trained on, you can already use TFT5ForConditionalGeneration for predictions without further training.\n"
          ]
        }
      ]
    },
    {
      "cell_type": "code",
      "source": [
        "# Padding\n",
        "from transformers import DataCollatorForSeq2Seq\n",
        "\n",
        "data_collator = DataCollatorForSeq2Seq(tokenizer, model=model, return_tensors=\"tf\")"
      ],
      "metadata": {
        "id": "q10ac_0mV9O0"
      },
      "execution_count": 46,
      "outputs": []
    },
    {
      "cell_type": "code",
      "source": [
        "# parameters\n",
        "batch_size = 16\n",
        "learning_rate = 3e-5\n",
        "\n",
        "weight_decay = 0.01\n",
        "num_train_epochs = 1"
      ],
      "metadata": {
        "id": "HmVT99Q0V_Fa"
      },
      "execution_count": 47,
      "outputs": []
    },
    {
      "cell_type": "code",
      "source": [
        "# create TF datasets\n",
        "\n",
        "train_dataset = tokenized_dataset[\"train\"].to_tf_dataset(\n",
        "    batch_size=batch_size,\n",
        "    columns=[\"input_ids\", \"attention_mask\", \"labels\"],\n",
        "    shuffle=True,\n",
        "    collate_fn=data_collator,\n",
        ")\n",
        "\n",
        "validation_dataset = tokenized_dataset[\"test\"].to_tf_dataset(\n",
        "    batch_size=batch_size,\n",
        "    columns=[\"input_ids\", \"attention_mask\", \"labels\"],\n",
        "    shuffle=False,\n",
        "    collate_fn=data_collator,\n",
        ")"
      ],
      "metadata": {
        "id": "eJSoEc9iWDR7"
      },
      "execution_count": 48,
      "outputs": []
    },
    {
      "cell_type": "code",
      "source": [
        "# compile model\n",
        "import tensorflow as tf\n",
        "from transformers import AdamWeightDecay\n",
        "\n",
        "optimizer = AdamWeightDecay(learning_rate=learning_rate, weight_decay_rate=weight_decay)\n",
        "#model.compile(optimizer=optimizer, metrics=[\"accuracy\"])\n",
        "model.compile(optimizer=optimizer)"
      ],
      "metadata": {
        "colab": {
          "base_uri": "https://localhost:8080/"
        },
        "id": "oWpF9i6jfNhA",
        "outputId": "dc7bbe0d-3272-4989-f8fb-b648029d1b0b"
      },
      "execution_count": 49,
      "outputs": [
        {
          "output_type": "stream",
          "name": "stderr",
          "text": [
            "No loss specified in compile() - the model's internal loss computation will be used as the loss. Don't panic - this is a common way to train TensorFlow models in Transformers! To disable this behaviour, please pass a loss argument, or explicitly pass `loss=None` if you do not want your model to compute a loss.\n"
          ]
        }
      ]
    },
    {
      "cell_type": "code",
      "source": [
        "# model tuning\n",
        "\n",
        "model.fit(\n",
        "    train_dataset, validation_data=validation_dataset, epochs=num_train_epochs\n",
        ")"
      ],
      "metadata": {
        "colab": {
          "base_uri": "https://localhost:8080/"
        },
        "id": "LVNkET5Nm8bK",
        "outputId": "5784658c-a122-46bb-d65c-b323d42fdd96"
      },
      "execution_count": 50,
      "outputs": [
        {
          "output_type": "stream",
          "name": "stdout",
          "text": [
            "5283/5283 [==============================] - 580s 106ms/step - loss: 0.2659 - val_loss: 0.1063\n"
          ]
        },
        {
          "output_type": "execute_result",
          "data": {
            "text/plain": [
              "<keras.callbacks.History at 0x7f4e23642ad0>"
            ]
          },
          "metadata": {},
          "execution_count": 50
        }
      ]
    },
    {
      "cell_type": "code",
      "source": [
        "# Save model\n",
        "saved_model = os.path.join(projpath, \"txt2sqlmodel\")\n",
        "model.save_pretrained(saved_model)"
      ],
      "metadata": {
        "id": "qK19gx4hlc2g"
      },
      "execution_count": 51,
      "outputs": []
    },
    {
      "cell_type": "code",
      "source": [
        "# Load model from saved\n",
        "#from transformers import TFT5ForConditionalGeneration\n",
        "\n",
        "#model = TFT5ForConditionalGeneration.from_pretrained(saved_model)"
      ],
      "metadata": {
        "id": "mK-YT9eAl6g4"
      },
      "execution_count": null,
      "outputs": []
    },
    {
      "cell_type": "markdown",
      "source": [
        "### Inference & Accuracy Calculation"
      ],
      "metadata": {
        "id": "MLkGSIHRaz8D"
      }
    },
    {
      "cell_type": "code",
      "source": [
        "inputs = tokenizer(test_dict[\"input_string\"][-20:], return_tensors=\"tf\", padding='max_length')\n",
        "output = model.generate(input_ids=inputs['input_ids'], \n",
        "               attention_mask=inputs['attention_mask'], max_length=100)"
      ],
      "metadata": {
        "id": "kXw1GgdoNoH3"
      },
      "execution_count": 25,
      "outputs": []
    },
    {
      "cell_type": "code",
      "source": [
        "# get prediction label\n",
        "\n",
        "pred_label = tokenizer.batch_decode(output, skip_special_tokens=True)\n",
        "true_label = test_dict[\"target_string\"][-20:]\n",
        "\n",
        "# accuracy\n",
        "\n",
        "from sklearn.metrics import accuracy_score\n",
        "\n",
        "acc = accuracy_score(true_label, pred_label)  \n",
        "acc"
      ],
      "metadata": {
        "colab": {
          "base_uri": "https://localhost:8080/"
        },
        "id": "Ajfyjo_sW2V3",
        "outputId": "3d6c5f5f-3214-4358-abe7-e1ac2d88934e"
      },
      "execution_count": 26,
      "outputs": [
        {
          "output_type": "execute_result",
          "data": {
            "text/plain": [
              "0.25"
            ]
          },
          "metadata": {},
          "execution_count": 26
        }
      ]
    },
    {
      "cell_type": "code",
      "source": [
        "pred_label"
      ],
      "metadata": {
        "colab": {
          "base_uri": "https://localhost:8080/"
        },
        "id": "KonP8M8yO4hE",
        "outputId": "fac64531-7bee-4007-c130-a6ba945ca125"
      },
      "execution_count": 27,
      "outputs": [
        {
          "output_type": "execute_result",
          "data": {
            "text/plain": [
              "['select (count) [first elected] from [2-12679326-1] where [counties represented equals to baltimore county] and [district equals to 06.0 6] and [committee equals to economic matters]',\n",
              " 'select [district] from [2-12679326-1] where [counties represented equals to baltimore county] and [committee equals to health and government operations] and [first elected less than 2002]',\n",
              " 'select (max) [first elected] from [2-12679326-1] where [district equals to 06.0 6] and [committee equals to economic matters]',\n",
              " 'select [name] from [2-1232836-4] where [nationality equals to morocco] and [goals equals to 6]',\n",
              " 'select (max) [ranking] from [2-1232836-4] where [years equals to 1996–13] and [goals less than 17]',\n",
              " 'select (avg) [ranking] from [2-1232836-4] where [years equals to 2000–] and [nationality equals to saudi arabia]',\n",
              " 'select [nationality] from [2-1232836-4] where [goals equals to 14]',\n",
              " 'select [nationality] from [2-1232836-4] where [name equals to hamzah idris]',\n",
              " 'select (min) [goals] from [2-1232836-4] where [years greater than 1996–13]',\n",
              " 'select (min) [top-25] from [2-12962193-3] where [events greater than 17] and [top-5 less than 0]',\n",
              " 'select (max) [top-5] from [2-12962193-3] where [tournament equals to totals] and [top-25 less than 4]',\n",
              " 'select (avg) [events] from [2-12962193-3] where [top-5 greater than 1] and [top-25 less than 1]',\n",
              " 'select (max) [top-5] from [2-12962193-3] where [top-25 less than 4] and [cuts made less than 3] and [wins equals to 0]',\n",
              " 'select (count) [events] from [2-12962193-3] where [tournament equals to pga championship] and [wins greater than 4]',\n",
              " 'select [year] from [2-1226335-1] where [chassis equals to 34] and [entrant equals to elf team tyrrell]',\n",
              " 'select (count) [points] from [2-1226335-1] where [year greater than 1972] and [chassis equals to marlboro team alfa romeo]',\n",
              " 'select [chassis] from [2-1226335-1] where [points equals to 39]',\n",
              " 'select (count) [points] from [2-1226335-1] where [engine equals to ford v8] and [chassis equals to tyrrell 007]',\n",
              " 'select [chassis] from [2-1226335-1] where [year greater than 1976] and [points equals to 12]',\n",
              " 'select [year] from [2-1226335-1] where [points equals to 39] and [chassis equals to tyrrell 007]']"
            ]
          },
          "metadata": {},
          "execution_count": 27
        }
      ]
    },
    {
      "cell_type": "code",
      "source": [
        "true_label"
      ],
      "metadata": {
        "id": "rp0xCPlHO6m-",
        "colab": {
          "base_uri": "https://localhost:8080/"
        },
        "outputId": "226421fb-11a8-4a0c-e709-1dcae8eed5a0"
      },
      "execution_count": 28,
      "outputs": [
        {
          "output_type": "execute_result",
          "data": {
            "text/plain": [
              "['select (count) [first elected] from [2-12679326-1] where [counties represented equals to baltimore county] and [district equals to 06.0 6] and [committee equals to economic matters]',\n",
              " 'select  [district] from [2-12679326-1] where [counties represented equals to baltimore county] and [committee equals to health and government operations] and [first elected greater than 2002]',\n",
              " 'select (max) [first elected] from [2-12679326-1] where [district equals to 06.0 6] and [committee equals to economic matters]',\n",
              " 'select  [name] from [2-1232836-4] where [goals equals to 6] and [nationality equals to morocco]',\n",
              " 'select (max) [ranking] from [2-1232836-4] where [years equals to 1996–13] and [goals less than 17]',\n",
              " 'select (avg) [ranking] from [2-1232836-4] where [nationality equals to saudi arabia] and [years equals to 2000–]',\n",
              " 'select  [nationality] from [2-1232836-4] where [goals equals to 14]',\n",
              " 'select  [nationality] from [2-1232836-4] where [name equals to hamzah idris]',\n",
              " 'select (min) [goals] from [2-1232836-4] where [ranking greater than 4] and [years equals to 1996–13]',\n",
              " 'select (min) [top-25] from [2-12962193-3] where [events greater than 17] and [top-5 less than 0]',\n",
              " 'select (avg) [top-5] from [2-12962193-3] where [tournament equals to totals] and [top-25 less than 4]',\n",
              " 'select (avg) [events] from [2-12962193-3] where [top-5 greater than 1] and [top-25 less than 1]',\n",
              " 'select (max) [top-5] from [2-12962193-3] where [top-25 greater than 4] and [cuts made less than 3] and [wins greater than 0]',\n",
              " 'select (count) [top-5] from [2-12962193-3] where [tournament equals to pga championship] and [events greater than 4]',\n",
              " 'select (avg) [year] from [2-1226335-1] where [entrant equals to elf team tyrrell] and [points equals to 34]',\n",
              " 'select  [points] from [2-1226335-1] where [year less than 1972] and [entrant equals to marlboro team alfa romeo]',\n",
              " 'select  [chassis] from [2-1226335-1] where [points equals to 39]',\n",
              " 'select  [points] from [2-1226335-1] where [engine equals to ford v8] and [chassis equals to tyrrell 007]',\n",
              " 'select  [chassis] from [2-1226335-1] where [engine equals to ford v8] and [year greater than 1976] and [points equals to 12]',\n",
              " 'select (sum) [year] from [2-1226335-1] where [entrant equals to elf team tyrrell] and [points equals to 39] and [chassis equals to tyrrell 007]']"
            ]
          },
          "metadata": {},
          "execution_count": 28
        }
      ]
    },
    {
      "cell_type": "code",
      "source": [
        "import math\n",
        "import numpy as np\n",
        "\n",
        "m = 125\n",
        "max = len(test_dict[\"input_string\"])\n",
        "#max = 300\n",
        "id = math.floor(max/m)\n",
        "iter_id = list(np.arange(id)*m)\n",
        "iter_id.append(max)\n",
        "iter_id = iter_id[1:]\n",
        "pred_label = []\n",
        "start = 0\n",
        "for i in iter_id:\n",
        "  end = i\n",
        "  #inputs = tokenizer(test_dict[\"input_string\"][start:end], return_tensors=\"tf\", padding='max_length')\n",
        "  inputs = tokenizer(test_dict[\"input_string\"][start:end], return_tensors=\"tf\", padding=True, truncation=True)\n",
        "  output = model.generate(input_ids=inputs['input_ids'], \n",
        "               attention_mask=inputs['attention_mask'], max_length=100)\n",
        "  pred_label.extend(tokenizer.batch_decode(output, skip_special_tokens=True))\n",
        "  start = end\n",
        "\n",
        "true_label = test_dict[\"target_string\"]\n"
      ],
      "metadata": {
        "id": "bhrQMp2zNBMi"
      },
      "execution_count": 52,
      "outputs": []
    },
    {
      "cell_type": "code",
      "source": [
        "\n",
        "# accuracy\n",
        "\n",
        "from sklearn.metrics import accuracy_score\n",
        "\n",
        "acc = accuracy_score(true_label, pred_label)  \n",
        "acc"
      ],
      "metadata": {
        "colab": {
          "base_uri": "https://localhost:8080/"
        },
        "id": "doMzJjbOCKjk",
        "outputId": "67100b1a-c663-46f7-b571-2550fbebae34"
      },
      "execution_count": null,
      "outputs": [
        {
          "output_type": "execute_result",
          "data": {
            "text/plain": [
              "0.12457488348658521"
            ]
          },
          "metadata": {},
          "execution_count": 51
        }
      ]
    },
    {
      "cell_type": "code",
      "source": [
        "pred_label[:10]"
      ],
      "metadata": {
        "colab": {
          "base_uri": "https://localhost:8080/"
        },
        "id": "nizpVP2c44D7",
        "outputId": "86293fcf-61c0-4dd8-aa5e-396b266c6606"
      },
      "execution_count": null,
      "outputs": [
        {
          "output_type": "execute_result",
          "data": {
            "text/plain": [
              "['select [nationality] from [1-10015132-16] where [player equals to terrence ross]',\n",
              " 'select [no.] from [1-10015132-16] where [years in toronto equals to 1995-96]',\n",
              " 'select [school/club team] from [1-10015132-16] where [years in toronto equals to 2003-06]',\n",
              " 'select (count) [school/club team] from [1-10015132-16] where [player equals to jalen rose]',\n",
              " 'select [place] from [1-10083598-1] where [race winner equals to assen]',\n",
              " 'select (count) [race winner] from [1-10083598-1] where [circuit equals to kevin curtain]',\n",
              " 'select [date] from [1-10083598-1] where [race winner equals to misano]',\n",
              " 'select (count) [position] from [1-1013129-2] where [college/junior/club team equals to sherbrooke faucons (qmjhl)]',\n",
              " 'select [nationality] from [1-1013129-2] where [pick equals to thunder bay flyers (ushl)]',\n",
              " 'select (count) [college/junior/club team] from [1-1013129-2] where [player equals to washington capitals nhl team]']"
            ]
          },
          "metadata": {},
          "execution_count": 52
        }
      ]
    },
    {
      "cell_type": "code",
      "source": [
        "true_label[:10]"
      ],
      "metadata": {
        "colab": {
          "base_uri": "https://localhost:8080/"
        },
        "id": "A6SWI8Y847ny",
        "outputId": "fc7b384a-4de3-4af0-898a-dbe0f440ef4d"
      },
      "execution_count": null,
      "outputs": [
        {
          "output_type": "execute_result",
          "data": {
            "text/plain": [
              "['select  [nationality] from [1-10015132-16] where [player equals to terrence ross]',\n",
              " 'select  [school/club team] from [1-10015132-16] where [years in toronto equals to 1995-96]',\n",
              " 'select  [school/club team] from [1-10015132-16] where [years in toronto equals to 2003-06]',\n",
              " 'select (count) [school/club team] from [1-10015132-16] where [player equals to jalen rose]',\n",
              " 'select  [round] from [1-10083598-1] where [circuit equals to assen]',\n",
              " 'select (count) [no] from [1-10083598-1] where [pole position equals to kevin curtain]',\n",
              " 'select  [date] from [1-10083598-1] where [circuit equals to misano]',\n",
              " 'select (count) [position] from [1-1013129-2] where [college/junior/club team equals to sherbrooke faucons (qmjhl)]',\n",
              " 'select  [nationality] from [1-1013129-2] where [college/junior/club team equals to thunder bay flyers (ushl)]',\n",
              " 'select (count) [college/junior/club team] from [1-1013129-2] where [nhl team equals to washington capitals]']"
            ]
          },
          "metadata": {},
          "execution_count": 53
        }
      ]
    },
    {
      "cell_type": "markdown",
      "source": [
        "### Save results to a file"
      ],
      "metadata": {
        "id": "KqMVYisdobAJ"
      }
    },
    {
      "cell_type": "code",
      "source": [
        "dd = {\"task\": task, \"experiment_type\": experiment_type, \"numrows\": numrows, \"augment_type\": augment_type,\n",
        "      \"batch_size\": batch_size, \"learning_rate\": learning_rate, \"weight_decay\": weight_decay, \"num_train_epochs\": num_train_epochs}\n",
        "\n",
        "if augment_type == \"synonym\":\n",
        "  num_synonym = str(wtrain_aug.num_synonym)\n",
        "else:\n",
        "  num_synonym = \"\"\n",
        "\n",
        "filename = \"task-\"+task+\"_\"+\"exp-\"+str(experiment_type)+\"_\"+\"rows-\"+str(numrows)+\"_\"+\"agument-\"+augment_type+num_synonym\n",
        "saved_file = os.path.join(projpath, \"saved_results\",filename)\n",
        "result_dict = {\"pred_label\": pred_label, \"true_label\": true_label}\n",
        "\n",
        "with open(saved_file, 'w') as convert_file:\n",
        "     convert_file.write(json.dumps(dd))\n",
        "\n",
        "file1 = open(saved_file, \"a\")  # append mode\n",
        "file1.write(\"\\n\")\n",
        "file1.close()\n",
        "\n",
        "with open(saved_file, 'a') as convert_file:\n",
        "     convert_file.write(json.dumps(result_dict))"
      ],
      "metadata": {
        "id": "fMIqKIep6nn6"
      },
      "execution_count": 55,
      "outputs": []
    },
    {
      "cell_type": "code",
      "source": [
        "filename"
      ],
      "metadata": {
        "id": "G2n2eoCY4VJG",
        "colab": {
          "base_uri": "https://localhost:8080/",
          "height": 35
        },
        "outputId": "e934ee0e-9177-47c3-9132-f45b12a1302f"
      },
      "execution_count": 56,
      "outputs": [
        {
          "output_type": "execute_result",
          "data": {
            "text/plain": [
              "'task-translate_exp-1_rows-0_agument-synonym2'"
            ],
            "application/vnd.google.colaboratory.intrinsic+json": {
              "type": "string"
            }
          },
          "metadata": {},
          "execution_count": 56
        }
      ]
    },
    {
      "cell_type": "code",
      "source": [
        ""
      ],
      "metadata": {
        "id": "u9YUwBR_90-x"
      },
      "execution_count": null,
      "outputs": []
    }
  ]
}