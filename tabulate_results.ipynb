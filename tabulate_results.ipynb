{
  "nbformat": 4,
  "nbformat_minor": 0,
  "metadata": {
    "colab": {
      "name": "tabulate_results.ipynb",
      "provenance": [],
      "collapsed_sections": [],
      "machine_shape": "hm"
    },
    "kernelspec": {
      "name": "python3",
      "display_name": "Python 3"
    },
    "language_info": {
      "name": "python"
    }
  },
  "cells": [
    {
      "cell_type": "code",
      "source": [
        "from psutil import virtual_memory\n",
        "ram_gb = virtual_memory().total / 1e9\n",
        "print('Your runtime has {:.1f} gigabytes of available RAM\\n'.format(ram_gb))\n",
        "\n",
        "if ram_gb < 20:\n",
        "  print('Not using a high-RAM runtime')\n",
        "else:\n",
        "  print('You are using a high-RAM runtime!')"
      ],
      "metadata": {
        "colab": {
          "base_uri": "https://localhost:8080/"
        },
        "id": "J7jwBFG9m2ug",
        "outputId": "9feaa151-74f6-4a23-de96-d525eb497b72"
      },
      "execution_count": 17,
      "outputs": [
        {
          "output_type": "stream",
          "name": "stdout",
          "text": [
            "Your runtime has 13.6 gigabytes of available RAM\n",
            "\n",
            "Not using a high-RAM runtime\n"
          ]
        }
      ]
    },
    {
      "cell_type": "code",
      "source": [
        "import nltk\n",
        "nltk.download('wordnet')"
      ],
      "metadata": {
        "colab": {
          "base_uri": "https://localhost:8080/"
        },
        "id": "iUdvXdO3IJGg",
        "outputId": "f55dae7b-79e2-424f-9fb9-416daec59afe"
      },
      "execution_count": 1,
      "outputs": [
        {
          "output_type": "stream",
          "name": "stdout",
          "text": [
            "[nltk_data] Downloading package wordnet to /root/nltk_data...\n",
            "[nltk_data]   Unzipping corpora/wordnet.zip.\n"
          ]
        },
        {
          "output_type": "execute_result",
          "data": {
            "text/plain": [
              "True"
            ]
          },
          "metadata": {},
          "execution_count": 1
        }
      ]
    },
    {
      "cell_type": "code",
      "source": [
        "from nltk.corpus import stopwords\n",
        "nltk.download('stopwords')\n"
      ],
      "metadata": {
        "colab": {
          "base_uri": "https://localhost:8080/"
        },
        "id": "jE-M10JxKNbU",
        "outputId": "a63017ac-0762-49c0-af70-d9f23c85861a"
      },
      "execution_count": 2,
      "outputs": [
        {
          "output_type": "stream",
          "name": "stdout",
          "text": [
            "[nltk_data] Downloading package stopwords to /root/nltk_data...\n",
            "[nltk_data]   Unzipping corpora/stopwords.zip.\n"
          ]
        },
        {
          "output_type": "execute_result",
          "data": {
            "text/plain": [
              "True"
            ]
          },
          "metadata": {},
          "execution_count": 2
        }
      ]
    },
    {
      "cell_type": "code",
      "execution_count": 3,
      "metadata": {
        "id": "cZb-4D4oR8VV"
      },
      "outputs": [],
      "source": [
        "import numpy as np\n",
        "import pandas as pd\n",
        "import json\n",
        "import os\n",
        "import re"
      ]
    },
    {
      "cell_type": "code",
      "source": [
        "from google.colab import drive\n",
        "drive.mount('/content/drive')"
      ],
      "metadata": {
        "colab": {
          "base_uri": "https://localhost:8080/"
        },
        "id": "9viEgt7vZxeE",
        "outputId": "fb87db73-02c1-4d27-9c45-796b35cca4eb"
      },
      "execution_count": 4,
      "outputs": [
        {
          "output_type": "stream",
          "name": "stdout",
          "text": [
            "Mounted at /content/drive\n"
          ]
        }
      ]
    },
    {
      "cell_type": "code",
      "source": [
        " "
      ],
      "metadata": {
        "id": "-p1BNPcFZ15X"
      },
      "execution_count": 56,
      "outputs": []
    },
    {
      "cell_type": "code",
      "source": [
        "# Parameters\n",
        "task = \"classify_conds\"\n",
        "experiment_type = 1\n",
        "numrows = 0\n",
        "augment_type = \"none\"\n",
        "\n",
        "batch_size = 16\n",
        "learning_rate = 3e-5\n",
        "weight_decay = 0.01\n",
        "num_train_epochs = 1"
      ],
      "metadata": {
        "id": "73z8t22BSQTi"
      },
      "execution_count": 5,
      "outputs": []
    },
    {
      "cell_type": "code",
      "source": [
        "# Filename\n",
        "filename = \"task-\"+task+\"_\"+\"exp-\"+str(experiment_type)+\"_\"+\"rows-\"+str(numrows)+\"_\"+\"agument-\"+augment_type\n",
        "filename"
      ],
      "metadata": {
        "colab": {
          "base_uri": "https://localhost:8080/",
          "height": 35
        },
        "id": "9G4jY4Brarvn",
        "outputId": "7e6ac008-a829-4adc-d944-cdf90c93f8e9"
      },
      "execution_count": 6,
      "outputs": [
        {
          "output_type": "execute_result",
          "data": {
            "text/plain": [
              "'task-classify_conds_exp-1_rows-0_agument-none'"
            ],
            "application/vnd.google.colaboratory.intrinsic+json": {
              "type": "string"
            }
          },
          "metadata": {},
          "execution_count": 6
        }
      ]
    },
    {
      "cell_type": "code",
      "source": [
        "# Save result\n",
        "projpath = \"/content/drive/MyDrive/UCB_MIDS/W266\"\n",
        "\n",
        "#saved_file = os.path.join(projpath, \"saved_results\",filename)"
      ],
      "metadata": {
        "id": "uFkKU3sUZuia"
      },
      "execution_count": 5,
      "outputs": []
    },
    {
      "cell_type": "code",
      "source": [
        "class tabulateResults:\n",
        "  \"\"\" Tabulates results\n",
        "  \"\"\"\n",
        "  def __init__(self, translate_file=None, agg_file=None, sel_file=None, conds_file=None):\n",
        "    self.translate_file = translate_file\n",
        "    self.agg_file = agg_file\n",
        "    self.sel_file = sel_file\n",
        "    self.conds_file = conds_file\n",
        "    self.agg_exists = False\n",
        "    self.sel_exists = False\n",
        "    self.conds_exists = False\n",
        "    self.dd = {\"AGG\": [\"\"], \"SEL\": [\"\"], \"CONDS\": [\"\"], \"EX\": [\"\"]}\n",
        "\n",
        "    # read input files\n",
        "    if self.translate_file != None:\n",
        "      # set flags\n",
        "      self.agg_exists, self.sel_exists, self.conds_exists = True, True, True\n",
        "      # read json data\n",
        "      self.trans_df = self.readfile(self.translate_file)\n",
        "      # create AGG df\n",
        "      self.agg_df = pd.DataFrame({})\n",
        "      self.agg_df[\"pred_label\"] = self.trans_df[\"pred_label\"].apply(lambda x: self.extractAgg(x))\n",
        "      self.agg_df[\"true_label\"] = self.trans_df[\"true_label\"].apply(lambda x: self.extractAgg(x))\n",
        "      # create SEL df\n",
        "      self.sel_df = pd.DataFrame({})\n",
        "      self.sel_df[\"pred_label\"] = self.trans_df[\"pred_label\"].apply(lambda x: self.extractSel(x))\n",
        "      self.sel_df[\"true_label\"] = self.trans_df[\"true_label\"].apply(lambda x: self.extractSel(x))\n",
        "      # create CONDS df\n",
        "      self.conds_df = pd.DataFrame({})\n",
        "      self.conds_df[\"pred_label\"] = self.trans_df[\"pred_label\"].apply(lambda x: self.extractConds(x))\n",
        "      self.conds_df[\"true_label\"] = self.trans_df[\"true_label\"].apply(lambda x: self.extractConds(x))\n",
        "    else:\n",
        "      if self.agg_file != None:\n",
        "        self.agg_df = self.readfile(self.agg_file)\n",
        "        self.agg_exists = True\n",
        "      if self.sel_file != None:\n",
        "        self.sel_df = self.readfile(self.sel_file)\n",
        "        self.sel_exists = True\n",
        "      if self.conds_file != None:\n",
        "        self.conds_df = self.readfile(self.conds_file)\n",
        "        self.conds_exists = True\n",
        "    \n",
        "    # AGG\n",
        "    if self.agg_exists:\n",
        "      # process each cond\n",
        "      self.agg_df[\"true_label_proc\"] = self.agg_df.true_label.apply(lambda x: self.processAggSel(x))\n",
        "      self.agg_df[\"pred_label_proc\"] = self.agg_df.pred_label.apply(lambda x: self.processAggSel(x))\n",
        "      # evaluate match\n",
        "      self.agg_df[\"match\"] = self.agg_df.apply(lambda x: self.stringEqual(x[\"pred_label_proc\"], x[\"true_label_proc\"]), axis=1)\n",
        "      # calculate accuracy\n",
        "      self.dd[\"AGG\"] = [round(100*self.agg_df[\"match\"].mean(axis=0),1)]\n",
        "\n",
        "    # SEL\n",
        "    if self.sel_exists:\n",
        "      # process each cond\n",
        "      self.sel_df[\"true_label_proc\"] = self.sel_df.true_label.apply(lambda x: self.processAggSel(x))\n",
        "      self.sel_df[\"pred_label_proc\"] = self.sel_df.pred_label.apply(lambda x: self.processAggSel(x))\n",
        "      # evaluate match\n",
        "      self.sel_df[\"match\"] = self.sel_df.apply(lambda x: self.stringEqual(x[\"pred_label_proc\"], x[\"true_label_proc\"]), axis=1)\n",
        "      # calculate accuracy\n",
        "      self.dd[\"SEL\"] = [round(100*self.sel_df[\"match\"].mean(axis=0),1)]\n",
        "\n",
        "    # CONDS\n",
        "    if self.conds_exists:\n",
        "      # process each cond\n",
        "      self.conds_df[\"true_label_proc\"] = self.conds_df.true_label.apply(lambda x: self.processConds(x))\n",
        "      self.conds_df[\"pred_label_proc\"] = self.conds_df.pred_label.apply(lambda x: self.processConds(x))\n",
        "      # get condition count\n",
        "      self.conds_df[\"true_numconds\"] = self.conds_df.true_label_proc.apply(lambda x: self.countConds(x))\n",
        "      self.conds_df[\"pred_numconds\"] = self.conds_df.pred_label_proc.apply(lambda x: self.countConds(x))\n",
        "      # evaluate match\n",
        "      self.conds_df[\"match\"] = self.conds_df.apply(lambda x: self.stringEqual(x[\"pred_label_proc\"], x[\"true_label_proc\"]), axis=1)\n",
        "      # calculate accuracy    \n",
        "      self.dd[\"CONDS\"] = [round(100*self.conds_df[\"match\"].mean(axis=0),1)]\n",
        "\n",
        "    # calculate overall Execution accuracy\n",
        "    if  self.agg_exists and self.sel_exists and self.conds_exists:\n",
        "      # get each type's match\n",
        "      a = np.array(self.agg_df[\"match\"])\n",
        "      s = np.array(self.sel_df[\"match\"])\n",
        "      c = np.array(self.conds_df[\"match\"])\n",
        "      # calculate overall EX match\n",
        "      ex_match = a*s*c\n",
        "      ex_match = round(100*ex_match.mean(),1)\n",
        "      self.dd[\"EX\"] = [ex_match]\n",
        "\n",
        "    # generate final dataframe\n",
        "    self.table = pd.DataFrame(self.dd)\n",
        "\n",
        "  def readfile(self, file):\n",
        "    \"\"\" Read input json file and take the second json element (the first one\n",
        "        is only a header)\n",
        "    \"\"\"\n",
        "    with open(file) as f:\n",
        "      lines = f.readlines()\n",
        "    count = 0\n",
        "    for line in lines:\n",
        "      d = json.loads(line.strip())\n",
        "      if count == 0:\n",
        "        pass\n",
        "      else:\n",
        "        df = pd.DataFrame(d)\n",
        "      count += 1\n",
        "    return df\n",
        "\n",
        "  def extractAgg(self, txt):\n",
        "    \"\"\" Extract AGG from pred and true labels of translate df \n",
        "    \"\"\"\n",
        "    pattern = r'\\((.*?)\\)'\n",
        "    d = re.findall(pattern, txt)\n",
        "    if d == []:\n",
        "      agg = \"\"\n",
        "    else:\n",
        "      agg = d[0]\n",
        "    return agg\n",
        "\n",
        "  def extractSel(self, txt):\n",
        "    \"\"\" Extract SEL from pred and true labels of translate df \n",
        "    \"\"\"\n",
        "    pattern = r'\\[(.*?)\\]'\n",
        "    d = re.findall(pattern, txt)\n",
        "    if d != []:\n",
        "      sel = d[0]\n",
        "    else:\n",
        "      sel = \"\"\n",
        "    return sel\n",
        "\n",
        "  def extractConds(self, txt):\n",
        "    \"\"\" Extract CONDS from pred and true labels of translate df \n",
        "    \"\"\"\n",
        "    pattern = r'\\[(.*?)\\]'\n",
        "    d = re.findall(pattern, txt)\n",
        "    conds = \"\".join([\"[\"+n.replace(\"'\", \"\")+\"]\" for n in d[2:]])\n",
        "    return conds\n",
        "\n",
        "  def processAggSel(self, txt):\n",
        "    \"\"\" Strip, lowercase\n",
        "    \"\"\"\n",
        "    return txt.strip().lower()\n",
        "\n",
        "  def processConds(self, txt):\n",
        "    \"\"\" Extract each where condition and post process it (strip, lowercase, sort for comparison).\n",
        "    \"\"\"\n",
        "    pattern = r'\\[(.*?)\\]'\n",
        "    extr_conds = re.findall(pattern, txt)\n",
        "    out = [c.strip().lower() for c in extr_conds]\n",
        "    out.sort()\n",
        "    return out, len(out)\n",
        "\n",
        "  def countConds(self, condlist):\n",
        "    \"\"\" Count where conditions\n",
        "    \"\"\"\n",
        "    return len(condlist) \n",
        "  \n",
        "  def stringEqual(self, txt1, txt2):\n",
        "    \"\"\" Check two strings or lists if they are equal\n",
        "    \"\"\"\n",
        "    if txt1 == txt2:\n",
        "      out = 1\n",
        "    else:\n",
        "      out = 0\n",
        "    return out\n",
        "\n",
        "\n"
      ],
      "metadata": {
        "id": "R3t74FX0CXdM"
      },
      "execution_count": 6,
      "outputs": []
    },
    {
      "cell_type": "markdown",
      "source": [
        "### Direct Translate Result"
      ],
      "metadata": {
        "id": "BzVTFe7oXccd"
      }
    },
    {
      "cell_type": "code",
      "source": [
        "task = \"translate\"\n",
        "\n",
        "experiment_type = 0\n",
        "numrows = 0\n",
        "augment_type = \"none\"\n",
        "filename = \"task-\"+task+\"_\"+\"exp-\"+str(experiment_type)+\"_\"+\"rows-\"+str(numrows)+\"_\"+\"agument-\"+augment_type\n",
        "file = os.path.join(projpath, \"saved_results\",filename)\n",
        "trans_exp0 = tabulateResults(translate_file=file)  "
      ],
      "metadata": {
        "id": "hsT8yK_aeg2r"
      },
      "execution_count": 7,
      "outputs": []
    },
    {
      "cell_type": "code",
      "source": [
        "experiment_type = 1\n",
        "numrows = 0\n",
        "augment_type = \"none\"\n",
        "filename = \"task-\"+task+\"_\"+\"exp-\"+str(experiment_type)+\"_\"+\"rows-\"+str(numrows)+\"_\"+\"agument-\"+augment_type\n",
        "file = os.path.join(projpath, \"saved_results\",filename)\n",
        "trans_exp1 = tabulateResults(translate_file=file)"
      ],
      "metadata": {
        "id": "LOc48jsM21BY"
      },
      "execution_count": 8,
      "outputs": []
    },
    {
      "cell_type": "code",
      "source": [
        "experiment_type = 2\n",
        "numrows = 0\n",
        "augment_type = \"none\"\n",
        "filename = \"task-\"+task+\"_\"+\"exp-\"+str(experiment_type)+\"_\"+\"rows-\"+str(numrows)+\"_\"+\"agument-\"+augment_type\n",
        "file = os.path.join(projpath, \"saved_results\",filename)\n",
        "trans_exp2 = tabulateResults(translate_file=file)"
      ],
      "metadata": {
        "id": "rRrEO--SX71S"
      },
      "execution_count": 9,
      "outputs": []
    },
    {
      "cell_type": "code",
      "source": [
        "experiment_type = 1\n",
        "numrows = 0\n",
        "augment_type = \"column\"\n",
        "filename = \"task-\"+task+\"_\"+\"exp-\"+str(experiment_type)+\"_\"+\"rows-\"+str(numrows)+\"_\"+\"agument-\"+augment_type\n",
        "file = os.path.join(projpath, \"saved_results\",filename)\n",
        "trans_exp1_aug = tabulateResults(translate_file=file)"
      ],
      "metadata": {
        "id": "FbDZBOZZ6ysw"
      },
      "execution_count": 10,
      "outputs": []
    },
    {
      "cell_type": "code",
      "source": [
        "experiment_type = 0\n",
        "numrows = 0\n",
        "augment_type = \"column\"\n",
        "filename = \"task-\"+task+\"_\"+\"exp-\"+str(experiment_type)+\"_\"+\"rows-\"+str(numrows)+\"_\"+\"agument-\"+augment_type\n",
        "file = os.path.join(projpath, \"saved_results\",filename)\n",
        "trans_exp0_aug = tabulateResults(translate_file=file)"
      ],
      "metadata": {
        "id": "nW410ewn3TuB"
      },
      "execution_count": 11,
      "outputs": []
    },
    {
      "cell_type": "code",
      "source": [
        "experiment_type = 0\n",
        "numrows = 0\n",
        "augment_type = \"synonym\"\n",
        "filename = \"task-\"+task+\"_\"+\"exp-\"+str(experiment_type)+\"_\"+\"rows-\"+str(numrows)+\"_\"+\"agument-\"+augment_type+\"1\"\n",
        "file = os.path.join(projpath, \"saved_results\",filename)\n",
        "trans_exp0_aug_syn1 = tabulateResults(translate_file=file)"
      ],
      "metadata": {
        "id": "U12Bk5ouKbEc"
      },
      "execution_count": 12,
      "outputs": []
    },
    {
      "cell_type": "code",
      "source": [
        "experiment_type = 0\n",
        "numrows = 0\n",
        "augment_type = \"synonym\"\n",
        "filename = \"task-\"+task+\"_\"+\"exp-\"+str(experiment_type)+\"_\"+\"rows-\"+str(numrows)+\"_\"+\"agument-\"+augment_type+\"2\"\n",
        "file = os.path.join(projpath, \"saved_results\",filename)\n",
        "trans_exp0_aug_syn2 = tabulateResults(translate_file=file)"
      ],
      "metadata": {
        "id": "VqjbdDXDRT7q"
      },
      "execution_count": 13,
      "outputs": []
    },
    {
      "cell_type": "code",
      "source": [
        "experiment_type = 3\n",
        "numrows = 1\n",
        "augment_type = \"none\"\n",
        "filename = \"task-\"+task+\"_\"+\"exp-\"+str(experiment_type)+\"_\"+\"rows-\"+str(numrows)+\"_\"+\"agument-\"+augment_type\n",
        "file = os.path.join(projpath, \"saved_results\",filename)\n",
        "trans_exp3 = tabulateResults(translate_file=file)"
      ],
      "metadata": {
        "id": "wCSWJdvWxMCF"
      },
      "execution_count": 15,
      "outputs": []
    },
    {
      "cell_type": "code",
      "source": [
        "experiment_type = 1\n",
        "numrows = 0\n",
        "augment_type = \"synonym\"\n",
        "filename = \"task-\"+task+\"_\"+\"exp-\"+str(experiment_type)+\"_\"+\"rows-\"+str(numrows)+\"_\"+\"agument-\"+augment_type+\"2\"\n",
        "file = os.path.join(projpath, \"saved_results\",filename)\n",
        "trans_exp1_aug_syn2 = tabulateResults(translate_file=file)"
      ],
      "metadata": {
        "id": "kfaiDpqT-uqx"
      },
      "execution_count": 27,
      "outputs": []
    },
    {
      "cell_type": "code",
      "source": [
        "trans_exp3.table"
      ],
      "metadata": {
        "colab": {
          "base_uri": "https://localhost:8080/",
          "height": 81
        },
        "id": "V3lcjMpKxylZ",
        "outputId": "3647a512-99b5-4576-f154-949b9cb596a2"
      },
      "execution_count": 17,
      "outputs": [
        {
          "output_type": "execute_result",
          "data": {
            "text/plain": [
              "    AGG   SEL  CONDS    EX\n",
              "0  86.8  92.3   73.3  62.3"
            ],
            "text/html": [
              "\n",
              "  <div id=\"df-c95efe2c-bb9f-4f04-b0f4-d1d6825cd810\">\n",
              "    <div class=\"colab-df-container\">\n",
              "      <div>\n",
              "<style scoped>\n",
              "    .dataframe tbody tr th:only-of-type {\n",
              "        vertical-align: middle;\n",
              "    }\n",
              "\n",
              "    .dataframe tbody tr th {\n",
              "        vertical-align: top;\n",
              "    }\n",
              "\n",
              "    .dataframe thead th {\n",
              "        text-align: right;\n",
              "    }\n",
              "</style>\n",
              "<table border=\"1\" class=\"dataframe\">\n",
              "  <thead>\n",
              "    <tr style=\"text-align: right;\">\n",
              "      <th></th>\n",
              "      <th>AGG</th>\n",
              "      <th>SEL</th>\n",
              "      <th>CONDS</th>\n",
              "      <th>EX</th>\n",
              "    </tr>\n",
              "  </thead>\n",
              "  <tbody>\n",
              "    <tr>\n",
              "      <th>0</th>\n",
              "      <td>86.8</td>\n",
              "      <td>92.3</td>\n",
              "      <td>73.3</td>\n",
              "      <td>62.3</td>\n",
              "    </tr>\n",
              "  </tbody>\n",
              "</table>\n",
              "</div>\n",
              "      <button class=\"colab-df-convert\" onclick=\"convertToInteractive('df-c95efe2c-bb9f-4f04-b0f4-d1d6825cd810')\"\n",
              "              title=\"Convert this dataframe to an interactive table.\"\n",
              "              style=\"display:none;\">\n",
              "        \n",
              "  <svg xmlns=\"http://www.w3.org/2000/svg\" height=\"24px\"viewBox=\"0 0 24 24\"\n",
              "       width=\"24px\">\n",
              "    <path d=\"M0 0h24v24H0V0z\" fill=\"none\"/>\n",
              "    <path d=\"M18.56 5.44l.94 2.06.94-2.06 2.06-.94-2.06-.94-.94-2.06-.94 2.06-2.06.94zm-11 1L8.5 8.5l.94-2.06 2.06-.94-2.06-.94L8.5 2.5l-.94 2.06-2.06.94zm10 10l.94 2.06.94-2.06 2.06-.94-2.06-.94-.94-2.06-.94 2.06-2.06.94z\"/><path d=\"M17.41 7.96l-1.37-1.37c-.4-.4-.92-.59-1.43-.59-.52 0-1.04.2-1.43.59L10.3 9.45l-7.72 7.72c-.78.78-.78 2.05 0 2.83L4 21.41c.39.39.9.59 1.41.59.51 0 1.02-.2 1.41-.59l7.78-7.78 2.81-2.81c.8-.78.8-2.07 0-2.86zM5.41 20L4 18.59l7.72-7.72 1.47 1.35L5.41 20z\"/>\n",
              "  </svg>\n",
              "      </button>\n",
              "      \n",
              "  <style>\n",
              "    .colab-df-container {\n",
              "      display:flex;\n",
              "      flex-wrap:wrap;\n",
              "      gap: 12px;\n",
              "    }\n",
              "\n",
              "    .colab-df-convert {\n",
              "      background-color: #E8F0FE;\n",
              "      border: none;\n",
              "      border-radius: 50%;\n",
              "      cursor: pointer;\n",
              "      display: none;\n",
              "      fill: #1967D2;\n",
              "      height: 32px;\n",
              "      padding: 0 0 0 0;\n",
              "      width: 32px;\n",
              "    }\n",
              "\n",
              "    .colab-df-convert:hover {\n",
              "      background-color: #E2EBFA;\n",
              "      box-shadow: 0px 1px 2px rgba(60, 64, 67, 0.3), 0px 1px 3px 1px rgba(60, 64, 67, 0.15);\n",
              "      fill: #174EA6;\n",
              "    }\n",
              "\n",
              "    [theme=dark] .colab-df-convert {\n",
              "      background-color: #3B4455;\n",
              "      fill: #D2E3FC;\n",
              "    }\n",
              "\n",
              "    [theme=dark] .colab-df-convert:hover {\n",
              "      background-color: #434B5C;\n",
              "      box-shadow: 0px 1px 3px 1px rgba(0, 0, 0, 0.15);\n",
              "      filter: drop-shadow(0px 1px 2px rgba(0, 0, 0, 0.3));\n",
              "      fill: #FFFFFF;\n",
              "    }\n",
              "  </style>\n",
              "\n",
              "      <script>\n",
              "        const buttonEl =\n",
              "          document.querySelector('#df-c95efe2c-bb9f-4f04-b0f4-d1d6825cd810 button.colab-df-convert');\n",
              "        buttonEl.style.display =\n",
              "          google.colab.kernel.accessAllowed ? 'block' : 'none';\n",
              "\n",
              "        async function convertToInteractive(key) {\n",
              "          const element = document.querySelector('#df-c95efe2c-bb9f-4f04-b0f4-d1d6825cd810');\n",
              "          const dataTable =\n",
              "            await google.colab.kernel.invokeFunction('convertToInteractive',\n",
              "                                                     [key], {});\n",
              "          if (!dataTable) return;\n",
              "\n",
              "          const docLinkHtml = 'Like what you see? Visit the ' +\n",
              "            '<a target=\"_blank\" href=https://colab.research.google.com/notebooks/data_table.ipynb>data table notebook</a>'\n",
              "            + ' to learn more about interactive tables.';\n",
              "          element.innerHTML = '';\n",
              "          dataTable['output_type'] = 'display_data';\n",
              "          await google.colab.output.renderOutput(dataTable, element);\n",
              "          const docLink = document.createElement('div');\n",
              "          docLink.innerHTML = docLinkHtml;\n",
              "          element.appendChild(docLink);\n",
              "        }\n",
              "      </script>\n",
              "    </div>\n",
              "  </div>\n",
              "  "
            ]
          },
          "metadata": {},
          "execution_count": 17
        }
      ]
    },
    {
      "cell_type": "code",
      "source": [
        "finaltable_trans = pd.concat([trans_exp0.table, trans_exp1.table, trans_exp2.table, trans_exp3.table,\n",
        "                              trans_exp1_aug.table, trans_exp0_aug.table, \n",
        "                              trans_exp0_aug_syn1.table, trans_exp0_aug_syn2.table, trans_exp1_aug_syn2.table])\n",
        "finaltable_trans[\"Experiment\"] = [\"Standard\", \"+Schema\", \"+Schema ColTypes\", \"+Schema+ColTypes+Vals\",\n",
        "                                  \"+Schema&Augmentation\", \"Augmentation\", \"Augmentation Synonym1\", \"Augmentation Synonym2\",\n",
        "                                  \"+Schema&Augmentation Synonym2\"]\n",
        "finaltable_trans = finaltable_trans.set_index('Experiment')\n",
        "finaltable_trans.style.set_properties(**{'text-align': 'left'})"
      ],
      "metadata": {
        "colab": {
          "base_uri": "https://localhost:8080/",
          "height": 363
        },
        "id": "qMzx45SDj-lW",
        "outputId": "dae70128-506d-47ef-9e49-e04ed04469bf"
      },
      "execution_count": 28,
      "outputs": [
        {
          "output_type": "execute_result",
          "data": {
            "text/plain": [
              "<pandas.io.formats.style.Styler at 0x7f463270f750>"
            ],
            "text/html": [
              "<style type=\"text/css\">\n",
              "#T_5feb9_row0_col0, #T_5feb9_row0_col1, #T_5feb9_row0_col2, #T_5feb9_row0_col3, #T_5feb9_row1_col0, #T_5feb9_row1_col1, #T_5feb9_row1_col2, #T_5feb9_row1_col3, #T_5feb9_row2_col0, #T_5feb9_row2_col1, #T_5feb9_row2_col2, #T_5feb9_row2_col3, #T_5feb9_row3_col0, #T_5feb9_row3_col1, #T_5feb9_row3_col2, #T_5feb9_row3_col3, #T_5feb9_row4_col0, #T_5feb9_row4_col1, #T_5feb9_row4_col2, #T_5feb9_row4_col3, #T_5feb9_row5_col0, #T_5feb9_row5_col1, #T_5feb9_row5_col2, #T_5feb9_row5_col3, #T_5feb9_row6_col0, #T_5feb9_row6_col1, #T_5feb9_row6_col2, #T_5feb9_row6_col3, #T_5feb9_row7_col0, #T_5feb9_row7_col1, #T_5feb9_row7_col2, #T_5feb9_row7_col3, #T_5feb9_row8_col0, #T_5feb9_row8_col1, #T_5feb9_row8_col2, #T_5feb9_row8_col3 {\n",
              "  text-align: left;\n",
              "}\n",
              "</style>\n",
              "<table id=\"T_5feb9_\" class=\"dataframe\">\n",
              "  <thead>\n",
              "    <tr>\n",
              "      <th class=\"blank level0\" >&nbsp;</th>\n",
              "      <th class=\"col_heading level0 col0\" >AGG</th>\n",
              "      <th class=\"col_heading level0 col1\" >SEL</th>\n",
              "      <th class=\"col_heading level0 col2\" >CONDS</th>\n",
              "      <th class=\"col_heading level0 col3\" >EX</th>\n",
              "    </tr>\n",
              "    <tr>\n",
              "      <th class=\"index_name level0\" >Experiment</th>\n",
              "      <th class=\"blank col0\" >&nbsp;</th>\n",
              "      <th class=\"blank col1\" >&nbsp;</th>\n",
              "      <th class=\"blank col2\" >&nbsp;</th>\n",
              "      <th class=\"blank col3\" >&nbsp;</th>\n",
              "    </tr>\n",
              "  </thead>\n",
              "  <tbody>\n",
              "    <tr>\n",
              "      <th id=\"T_5feb9_level0_row0\" class=\"row_heading level0 row0\" >Standard</th>\n",
              "      <td id=\"T_5feb9_row0_col0\" class=\"data row0 col0\" >84.200000</td>\n",
              "      <td id=\"T_5feb9_row0_col1\" class=\"data row0 col1\" >65.700000</td>\n",
              "      <td id=\"T_5feb9_row0_col2\" class=\"data row0 col2\" >46.000000</td>\n",
              "      <td id=\"T_5feb9_row0_col3\" class=\"data row0 col3\" >32.000000</td>\n",
              "    </tr>\n",
              "    <tr>\n",
              "      <th id=\"T_5feb9_level0_row1\" class=\"row_heading level0 row1\" >+Schema</th>\n",
              "      <td id=\"T_5feb9_row1_col0\" class=\"data row1 col0\" >86.900000</td>\n",
              "      <td id=\"T_5feb9_row1_col1\" class=\"data row1 col1\" >93.300000</td>\n",
              "      <td id=\"T_5feb9_row1_col2\" class=\"data row1 col2\" >74.100000</td>\n",
              "      <td id=\"T_5feb9_row1_col3\" class=\"data row1 col3\" >63.100000</td>\n",
              "    </tr>\n",
              "    <tr>\n",
              "      <th id=\"T_5feb9_level0_row2\" class=\"row_heading level0 row2\" >+Schema ColTypes</th>\n",
              "      <td id=\"T_5feb9_row2_col0\" class=\"data row2 col0\" >87.100000</td>\n",
              "      <td id=\"T_5feb9_row2_col1\" class=\"data row2 col1\" >92.900000</td>\n",
              "      <td id=\"T_5feb9_row2_col2\" class=\"data row2 col2\" >73.100000</td>\n",
              "      <td id=\"T_5feb9_row2_col3\" class=\"data row2 col3\" >62.200000</td>\n",
              "    </tr>\n",
              "    <tr>\n",
              "      <th id=\"T_5feb9_level0_row3\" class=\"row_heading level0 row3\" >+Schema+ColTypes+Vals</th>\n",
              "      <td id=\"T_5feb9_row3_col0\" class=\"data row3 col0\" >86.800000</td>\n",
              "      <td id=\"T_5feb9_row3_col1\" class=\"data row3 col1\" >92.300000</td>\n",
              "      <td id=\"T_5feb9_row3_col2\" class=\"data row3 col2\" >73.300000</td>\n",
              "      <td id=\"T_5feb9_row3_col3\" class=\"data row3 col3\" >62.300000</td>\n",
              "    </tr>\n",
              "    <tr>\n",
              "      <th id=\"T_5feb9_level0_row4\" class=\"row_heading level0 row4\" >+Schema&Augmentation</th>\n",
              "      <td id=\"T_5feb9_row4_col0\" class=\"data row4 col0\" >87.600000</td>\n",
              "      <td id=\"T_5feb9_row4_col1\" class=\"data row4 col1\" >93.800000</td>\n",
              "      <td id=\"T_5feb9_row4_col2\" class=\"data row4 col2\" >78.300000</td>\n",
              "      <td id=\"T_5feb9_row4_col3\" class=\"data row4 col3\" >66.800000</td>\n",
              "    </tr>\n",
              "    <tr>\n",
              "      <th id=\"T_5feb9_level0_row5\" class=\"row_heading level0 row5\" >Augmentation</th>\n",
              "      <td id=\"T_5feb9_row5_col0\" class=\"data row5 col0\" >84.600000</td>\n",
              "      <td id=\"T_5feb9_row5_col1\" class=\"data row5 col1\" >69.000000</td>\n",
              "      <td id=\"T_5feb9_row5_col2\" class=\"data row5 col2\" >52.300000</td>\n",
              "      <td id=\"T_5feb9_row5_col3\" class=\"data row5 col3\" >37.600000</td>\n",
              "    </tr>\n",
              "    <tr>\n",
              "      <th id=\"T_5feb9_level0_row6\" class=\"row_heading level0 row6\" >Augmentation Synonym1</th>\n",
              "      <td id=\"T_5feb9_row6_col0\" class=\"data row6 col0\" >84.100000</td>\n",
              "      <td id=\"T_5feb9_row6_col1\" class=\"data row6 col1\" >61.500000</td>\n",
              "      <td id=\"T_5feb9_row6_col2\" class=\"data row6 col2\" >43.700000</td>\n",
              "      <td id=\"T_5feb9_row6_col3\" class=\"data row6 col3\" >27.300000</td>\n",
              "    </tr>\n",
              "    <tr>\n",
              "      <th id=\"T_5feb9_level0_row7\" class=\"row_heading level0 row7\" >Augmentation Synonym2</th>\n",
              "      <td id=\"T_5feb9_row7_col0\" class=\"data row7 col0\" >83.300000</td>\n",
              "      <td id=\"T_5feb9_row7_col1\" class=\"data row7 col1\" >57.200000</td>\n",
              "      <td id=\"T_5feb9_row7_col2\" class=\"data row7 col2\" >40.300000</td>\n",
              "      <td id=\"T_5feb9_row7_col3\" class=\"data row7 col3\" >25.500000</td>\n",
              "    </tr>\n",
              "    <tr>\n",
              "      <th id=\"T_5feb9_level0_row8\" class=\"row_heading level0 row8\" >+Schema&Augmentation Synonym2</th>\n",
              "      <td id=\"T_5feb9_row8_col0\" class=\"data row8 col0\" >86.200000</td>\n",
              "      <td id=\"T_5feb9_row8_col1\" class=\"data row8 col1\" >90.300000</td>\n",
              "      <td id=\"T_5feb9_row8_col2\" class=\"data row8 col2\" >68.300000</td>\n",
              "      <td id=\"T_5feb9_row8_col3\" class=\"data row8 col3\" >56.300000</td>\n",
              "    </tr>\n",
              "  </tbody>\n",
              "</table>\n"
            ]
          },
          "metadata": {},
          "execution_count": 28
        }
      ]
    },
    {
      "cell_type": "code",
      "source": [
        "# write csv\n",
        "csv_file = os.path.join(projpath, \"saved_results\", \"finaltable_trans.csv\")\n",
        "finaltable_trans.to_csv(csv_file)\n"
      ],
      "metadata": {
        "id": "gRJhFuYqGlSj"
      },
      "execution_count": 69,
      "outputs": []
    },
    {
      "cell_type": "markdown",
      "source": [
        "### Slot Prediction Result\n",
        "\n",
        "```\n",
        "# This is formatted as code\n",
        "```\n",
        "\n"
      ],
      "metadata": {
        "id": "f_Fo_otac0Ro"
      }
    },
    {
      "cell_type": "code",
      "source": [
        "tasks = [\"classify_agg\", \"classify_sel\", \"classify_conds\"]"
      ],
      "metadata": {
        "id": "2kznKa77czSS"
      },
      "execution_count": 15,
      "outputs": []
    },
    {
      "cell_type": "code",
      "source": [
        "experiment_type = 0\n",
        "numrows = 0\n",
        "augment_type = \"none\"\n",
        "\n",
        "def genfilename(tasks, experiment_type, numrows=0, augment_type=\"none\"):\n",
        "  files = []\n",
        "  for task in tasks:\n",
        "    filename = \"task-\"+task+\"_\"+\"exp-\"+str(experiment_type)+\"_\"+\"rows-\"+str(numrows)+\"_\"+\"agument-\"+augment_type\n",
        "    name = os.path.join(projpath, \"saved_results\",filename)\n",
        "    files.append(name)\n",
        "  return files\n",
        "\n",
        "files = genfilename(tasks, experiment_type, numrows, augment_type)\n",
        "exp0 = tabulateResults(agg_file=files[0], sel_file=files[1], conds_file=files[2])\n"
      ],
      "metadata": {
        "id": "rLVpwGetcnQX"
      },
      "execution_count": 16,
      "outputs": []
    },
    {
      "cell_type": "code",
      "source": [
        "experiment_type = 1\n",
        "numrows = 0\n",
        "augment_type = \"none\"\n",
        "\n",
        "def genfilename(tasks, experiment_type, numrows=0, augment_type=\"none\"):\n",
        "  files = []\n",
        "  for task in tasks:\n",
        "    filename = \"task-\"+task+\"_\"+\"exp-\"+str(experiment_type)+\"_\"+\"rows-\"+str(numrows)+\"_\"+\"agument-\"+augment_type\n",
        "    name = os.path.join(projpath, \"saved_results\",filename)\n",
        "    files.append(name)\n",
        "  return files\n",
        "\n",
        "files = genfilename(tasks, experiment_type, numrows, augment_type)\n",
        "exp1 = tabulateResults(agg_file=files[0], sel_file=files[1], conds_file=files[2])\n"
      ],
      "metadata": {
        "id": "Y49n5mz3zeNm"
      },
      "execution_count": 17,
      "outputs": []
    },
    {
      "cell_type": "code",
      "source": [
        "experiment_type = 1\n",
        "numrows = 0\n",
        "augment_type = \"column\"\n",
        "\n",
        "def genfilename(tasks, experiment_type, numrows=0, augment_type=\"none\"):\n",
        "  files = []\n",
        "  for task in tasks:\n",
        "    filename = \"task-\"+task+\"_\"+\"exp-\"+str(experiment_type)+\"_\"+\"rows-\"+str(numrows)+\"_\"+\"agument-\"+augment_type\n",
        "    name = os.path.join(projpath, \"saved_results\",filename)\n",
        "    files.append(name)\n",
        "  return files\n",
        "\n",
        "files = genfilename(tasks, experiment_type, numrows, augment_type)\n",
        "exp1_aug = tabulateResults(agg_file=files[0], sel_file=files[1], conds_file=files[2])"
      ],
      "metadata": {
        "id": "5xvl0T19c9JX"
      },
      "execution_count": 18,
      "outputs": []
    },
    {
      "cell_type": "code",
      "source": [
        "experiment_type = 1\n",
        "numrows = 0\n",
        "augment_type = \"synonym\"\n",
        "\n",
        "def genfilename(tasks, experiment_type, numrows=0, augment_type=\"none\"):\n",
        "  files = []\n",
        "  for task in tasks:\n",
        "    filename = \"task-\"+task+\"_\"+\"exp-\"+str(experiment_type)+\"_\"+\"rows-\"+str(numrows)+\"_\"+\"agument-\"+augment_type\n",
        "    name = os.path.join(projpath, \"saved_results\",filename)\n",
        "    files.append(name)\n",
        "  return files\n",
        "\n",
        "files = genfilename(tasks, experiment_type, numrows, augment_type)\n",
        "exp1_aug_syn = tabulateResults(agg_file=None, sel_file=None, conds_file=files[2])"
      ],
      "metadata": {
        "id": "T1sM2h7Jn4lV"
      },
      "execution_count": 40,
      "outputs": []
    },
    {
      "cell_type": "code",
      "source": [
        "finaltable = pd.concat([exp0.table, exp1.table, exp1_aug.table, exp1_aug_syn.table])\n",
        "finaltable[\"Experiment\"] = [\"Standard\", \"+Schema\", \"+Schema&AugColumn\", \"+Schema&AugSynonym\"]\n",
        "finaltable = finaltable.set_index('Experiment')\n",
        "finaltable.style.set_properties(**{'text-align': 'left'})"
      ],
      "metadata": {
        "colab": {
          "base_uri": "https://localhost:8080/",
          "height": 206
        },
        "id": "pChdE8rEsks4",
        "outputId": "d9843fe1-acfd-4b24-b7e3-090a1e8975ed"
      },
      "execution_count": 42,
      "outputs": [
        {
          "output_type": "execute_result",
          "data": {
            "text/plain": [
              "<pandas.io.formats.style.Styler at 0x7fb1c1b56b50>"
            ],
            "text/html": [
              "<style type=\"text/css\">\n",
              "#T_80b8b_row0_col0, #T_80b8b_row0_col1, #T_80b8b_row0_col2, #T_80b8b_row0_col3, #T_80b8b_row1_col0, #T_80b8b_row1_col1, #T_80b8b_row1_col2, #T_80b8b_row1_col3, #T_80b8b_row2_col0, #T_80b8b_row2_col1, #T_80b8b_row2_col2, #T_80b8b_row2_col3, #T_80b8b_row3_col0, #T_80b8b_row3_col1, #T_80b8b_row3_col2, #T_80b8b_row3_col3 {\n",
              "  text-align: left;\n",
              "}\n",
              "</style>\n",
              "<table id=\"T_80b8b_\" class=\"dataframe\">\n",
              "  <thead>\n",
              "    <tr>\n",
              "      <th class=\"blank level0\" >&nbsp;</th>\n",
              "      <th class=\"col_heading level0 col0\" >AGG</th>\n",
              "      <th class=\"col_heading level0 col1\" >SEL</th>\n",
              "      <th class=\"col_heading level0 col2\" >CONDS</th>\n",
              "      <th class=\"col_heading level0 col3\" >EX</th>\n",
              "    </tr>\n",
              "    <tr>\n",
              "      <th class=\"index_name level0\" >Experiment</th>\n",
              "      <th class=\"blank col0\" >&nbsp;</th>\n",
              "      <th class=\"blank col1\" >&nbsp;</th>\n",
              "      <th class=\"blank col2\" >&nbsp;</th>\n",
              "      <th class=\"blank col3\" >&nbsp;</th>\n",
              "    </tr>\n",
              "  </thead>\n",
              "  <tbody>\n",
              "    <tr>\n",
              "      <th id=\"T_80b8b_level0_row0\" class=\"row_heading level0 row0\" >Standard</th>\n",
              "      <td id=\"T_80b8b_row0_col0\" class=\"data row0 col0\" >88.900000</td>\n",
              "      <td id=\"T_80b8b_row0_col1\" class=\"data row0 col1\" >72.000000</td>\n",
              "      <td id=\"T_80b8b_row0_col2\" class=\"data row0 col2\" >45.400000</td>\n",
              "      <td id=\"T_80b8b_row0_col3\" class=\"data row0 col3\" >33.200000</td>\n",
              "    </tr>\n",
              "    <tr>\n",
              "      <th id=\"T_80b8b_level0_row1\" class=\"row_heading level0 row1\" >+Schema</th>\n",
              "      <td id=\"T_80b8b_row1_col0\" class=\"data row1 col0\" >89.400000</td>\n",
              "      <td id=\"T_80b8b_row1_col1\" class=\"data row1 col1\" >92.100000</td>\n",
              "      <td id=\"T_80b8b_row1_col2\" class=\"data row1 col2\" >71.800000</td>\n",
              "      <td id=\"T_80b8b_row1_col3\" class=\"data row1 col3\" >60.500000</td>\n",
              "    </tr>\n",
              "    <tr>\n",
              "      <th id=\"T_80b8b_level0_row2\" class=\"row_heading level0 row2\" >+Schema&AugColumn</th>\n",
              "      <td id=\"T_80b8b_row2_col0\" class=\"data row2 col0\" >90.000000</td>\n",
              "      <td id=\"T_80b8b_row2_col1\" class=\"data row2 col1\" >93.600000</td>\n",
              "      <td id=\"T_80b8b_row2_col2\" class=\"data row2 col2\" >76.200000</td>\n",
              "      <td id=\"T_80b8b_row2_col3\" class=\"data row2 col3\" >65.300000</td>\n",
              "    </tr>\n",
              "    <tr>\n",
              "      <th id=\"T_80b8b_level0_row3\" class=\"row_heading level0 row3\" >+Schema&AugSynonym</th>\n",
              "      <td id=\"T_80b8b_row3_col0\" class=\"data row3 col0\" ></td>\n",
              "      <td id=\"T_80b8b_row3_col1\" class=\"data row3 col1\" ></td>\n",
              "      <td id=\"T_80b8b_row3_col2\" class=\"data row3 col2\" >65.900000</td>\n",
              "      <td id=\"T_80b8b_row3_col3\" class=\"data row3 col3\" ></td>\n",
              "    </tr>\n",
              "  </tbody>\n",
              "</table>\n"
            ]
          },
          "metadata": {},
          "execution_count": 42
        }
      ]
    },
    {
      "cell_type": "code",
      "source": [
        "# write csv\n",
        "csv_file = os.path.join(projpath, \"saved_results\", \"finaltable.csv\")\n",
        "finaltable.to_csv(csv_file)\n"
      ],
      "metadata": {
        "id": "g-2RBb5xJPNe"
      },
      "execution_count": 288,
      "outputs": []
    },
    {
      "cell_type": "markdown",
      "source": [
        "### Effect of each experiment over Plain task"
      ],
      "metadata": {
        "id": "BvnWKC4pfz2V"
      }
    },
    {
      "cell_type": "code",
      "source": [
        "finaltable_trans"
      ],
      "metadata": {
        "colab": {
          "base_uri": "https://localhost:8080/",
          "height": 332
        },
        "id": "xXor-hTt37KS",
        "outputId": "4a692f44-e3d5-429f-d0c0-2f13ab11c724"
      },
      "execution_count": 21,
      "outputs": [
        {
          "output_type": "execute_result",
          "data": {
            "text/plain": [
              "                        AGG   SEL  CONDS    EX\n",
              "Experiment                                    \n",
              "Standard               84.2  65.7   46.0  32.0\n",
              "+Schema                86.9  93.3   74.1  63.1\n",
              "+Schema ColTypes       87.1  92.9   73.1  62.2\n",
              "+Schema+ColTypes+Vals  86.8  92.3   73.3  62.3\n",
              "+Schema&Augmentation   87.6  93.8   78.3  66.8\n",
              "Augmentation           84.6  69.0   52.3  37.6\n",
              "Augmentation Synonym1  84.1  61.5   43.7  27.3\n",
              "Augmentation Synonym2  83.3  57.2   40.3  25.5"
            ],
            "text/html": [
              "\n",
              "  <div id=\"df-8891bb6a-7889-4ddb-b26f-9c1be16c3947\">\n",
              "    <div class=\"colab-df-container\">\n",
              "      <div>\n",
              "<style scoped>\n",
              "    .dataframe tbody tr th:only-of-type {\n",
              "        vertical-align: middle;\n",
              "    }\n",
              "\n",
              "    .dataframe tbody tr th {\n",
              "        vertical-align: top;\n",
              "    }\n",
              "\n",
              "    .dataframe thead th {\n",
              "        text-align: right;\n",
              "    }\n",
              "</style>\n",
              "<table border=\"1\" class=\"dataframe\">\n",
              "  <thead>\n",
              "    <tr style=\"text-align: right;\">\n",
              "      <th></th>\n",
              "      <th>AGG</th>\n",
              "      <th>SEL</th>\n",
              "      <th>CONDS</th>\n",
              "      <th>EX</th>\n",
              "    </tr>\n",
              "    <tr>\n",
              "      <th>Experiment</th>\n",
              "      <th></th>\n",
              "      <th></th>\n",
              "      <th></th>\n",
              "      <th></th>\n",
              "    </tr>\n",
              "  </thead>\n",
              "  <tbody>\n",
              "    <tr>\n",
              "      <th>Standard</th>\n",
              "      <td>84.2</td>\n",
              "      <td>65.7</td>\n",
              "      <td>46.0</td>\n",
              "      <td>32.0</td>\n",
              "    </tr>\n",
              "    <tr>\n",
              "      <th>+Schema</th>\n",
              "      <td>86.9</td>\n",
              "      <td>93.3</td>\n",
              "      <td>74.1</td>\n",
              "      <td>63.1</td>\n",
              "    </tr>\n",
              "    <tr>\n",
              "      <th>+Schema ColTypes</th>\n",
              "      <td>87.1</td>\n",
              "      <td>92.9</td>\n",
              "      <td>73.1</td>\n",
              "      <td>62.2</td>\n",
              "    </tr>\n",
              "    <tr>\n",
              "      <th>+Schema+ColTypes+Vals</th>\n",
              "      <td>86.8</td>\n",
              "      <td>92.3</td>\n",
              "      <td>73.3</td>\n",
              "      <td>62.3</td>\n",
              "    </tr>\n",
              "    <tr>\n",
              "      <th>+Schema&amp;Augmentation</th>\n",
              "      <td>87.6</td>\n",
              "      <td>93.8</td>\n",
              "      <td>78.3</td>\n",
              "      <td>66.8</td>\n",
              "    </tr>\n",
              "    <tr>\n",
              "      <th>Augmentation</th>\n",
              "      <td>84.6</td>\n",
              "      <td>69.0</td>\n",
              "      <td>52.3</td>\n",
              "      <td>37.6</td>\n",
              "    </tr>\n",
              "    <tr>\n",
              "      <th>Augmentation Synonym1</th>\n",
              "      <td>84.1</td>\n",
              "      <td>61.5</td>\n",
              "      <td>43.7</td>\n",
              "      <td>27.3</td>\n",
              "    </tr>\n",
              "    <tr>\n",
              "      <th>Augmentation Synonym2</th>\n",
              "      <td>83.3</td>\n",
              "      <td>57.2</td>\n",
              "      <td>40.3</td>\n",
              "      <td>25.5</td>\n",
              "    </tr>\n",
              "  </tbody>\n",
              "</table>\n",
              "</div>\n",
              "      <button class=\"colab-df-convert\" onclick=\"convertToInteractive('df-8891bb6a-7889-4ddb-b26f-9c1be16c3947')\"\n",
              "              title=\"Convert this dataframe to an interactive table.\"\n",
              "              style=\"display:none;\">\n",
              "        \n",
              "  <svg xmlns=\"http://www.w3.org/2000/svg\" height=\"24px\"viewBox=\"0 0 24 24\"\n",
              "       width=\"24px\">\n",
              "    <path d=\"M0 0h24v24H0V0z\" fill=\"none\"/>\n",
              "    <path d=\"M18.56 5.44l.94 2.06.94-2.06 2.06-.94-2.06-.94-.94-2.06-.94 2.06-2.06.94zm-11 1L8.5 8.5l.94-2.06 2.06-.94-2.06-.94L8.5 2.5l-.94 2.06-2.06.94zm10 10l.94 2.06.94-2.06 2.06-.94-2.06-.94-.94-2.06-.94 2.06-2.06.94z\"/><path d=\"M17.41 7.96l-1.37-1.37c-.4-.4-.92-.59-1.43-.59-.52 0-1.04.2-1.43.59L10.3 9.45l-7.72 7.72c-.78.78-.78 2.05 0 2.83L4 21.41c.39.39.9.59 1.41.59.51 0 1.02-.2 1.41-.59l7.78-7.78 2.81-2.81c.8-.78.8-2.07 0-2.86zM5.41 20L4 18.59l7.72-7.72 1.47 1.35L5.41 20z\"/>\n",
              "  </svg>\n",
              "      </button>\n",
              "      \n",
              "  <style>\n",
              "    .colab-df-container {\n",
              "      display:flex;\n",
              "      flex-wrap:wrap;\n",
              "      gap: 12px;\n",
              "    }\n",
              "\n",
              "    .colab-df-convert {\n",
              "      background-color: #E8F0FE;\n",
              "      border: none;\n",
              "      border-radius: 50%;\n",
              "      cursor: pointer;\n",
              "      display: none;\n",
              "      fill: #1967D2;\n",
              "      height: 32px;\n",
              "      padding: 0 0 0 0;\n",
              "      width: 32px;\n",
              "    }\n",
              "\n",
              "    .colab-df-convert:hover {\n",
              "      background-color: #E2EBFA;\n",
              "      box-shadow: 0px 1px 2px rgba(60, 64, 67, 0.3), 0px 1px 3px 1px rgba(60, 64, 67, 0.15);\n",
              "      fill: #174EA6;\n",
              "    }\n",
              "\n",
              "    [theme=dark] .colab-df-convert {\n",
              "      background-color: #3B4455;\n",
              "      fill: #D2E3FC;\n",
              "    }\n",
              "\n",
              "    [theme=dark] .colab-df-convert:hover {\n",
              "      background-color: #434B5C;\n",
              "      box-shadow: 0px 1px 3px 1px rgba(0, 0, 0, 0.15);\n",
              "      filter: drop-shadow(0px 1px 2px rgba(0, 0, 0, 0.3));\n",
              "      fill: #FFFFFF;\n",
              "    }\n",
              "  </style>\n",
              "\n",
              "      <script>\n",
              "        const buttonEl =\n",
              "          document.querySelector('#df-8891bb6a-7889-4ddb-b26f-9c1be16c3947 button.colab-df-convert');\n",
              "        buttonEl.style.display =\n",
              "          google.colab.kernel.accessAllowed ? 'block' : 'none';\n",
              "\n",
              "        async function convertToInteractive(key) {\n",
              "          const element = document.querySelector('#df-8891bb6a-7889-4ddb-b26f-9c1be16c3947');\n",
              "          const dataTable =\n",
              "            await google.colab.kernel.invokeFunction('convertToInteractive',\n",
              "                                                     [key], {});\n",
              "          if (!dataTable) return;\n",
              "\n",
              "          const docLinkHtml = 'Like what you see? Visit the ' +\n",
              "            '<a target=\"_blank\" href=https://colab.research.google.com/notebooks/data_table.ipynb>data table notebook</a>'\n",
              "            + ' to learn more about interactive tables.';\n",
              "          element.innerHTML = '';\n",
              "          dataTable['output_type'] = 'display_data';\n",
              "          await google.colab.output.renderOutput(dataTable, element);\n",
              "          const docLink = document.createElement('div');\n",
              "          docLink.innerHTML = docLinkHtml;\n",
              "          element.appendChild(docLink);\n",
              "        }\n",
              "      </script>\n",
              "    </div>\n",
              "  </div>\n",
              "  "
            ]
          },
          "metadata": {},
          "execution_count": 21
        }
      ]
    },
    {
      "cell_type": "code",
      "source": [
        "# schema (col names)\n",
        "schema = np.around(np.array(finaltable_trans.loc[[\"+Schema\"],:]) - np.array(finaltable_trans.loc[[\"Standard\"],:]), decimals=1)\n",
        "# schema (col names + types)\n",
        "schema_ct = np.around(np.array(finaltable_trans.loc[[\"+Schema ColTypes\"],:]) - np.array(finaltable_trans.loc[[\"Standard\"],:]), decimals=1)\n",
        "# schema (col names + types + vals)\n",
        "schema_vals = np.around(np.array(finaltable_trans.loc[[\"+Schema+ColTypes+Vals\"],:]) - np.array(finaltable_trans.loc[[\"Standard\"],:]), decimals=1)\n",
        "# augmentation (sel col)\n",
        "aug_column = np.around(np.array(finaltable_trans.loc[[\"Augmentation\"],:]) - np.array(finaltable_trans.loc[[\"Standard\"],:]), decimals=1)\n",
        "# augmentation (1 synonym)\n",
        "aug_column_syn1 = np.around(np.array(finaltable_trans.loc[[\"Augmentation Synonym1\"],:]) - np.array(finaltable_trans.loc[[\"Standard\"],:]), decimals=1)\n",
        "# augmentation (2 synonyms)\n",
        "aug_column_syn2 = np.around(np.array(finaltable_trans.loc[[\"Augmentation Synonym2\"],:]) - np.array(finaltable_trans.loc[[\"Standard\"],:]), decimals=1)"
      ],
      "metadata": {
        "id": "qLwdP4iQdRjM"
      },
      "execution_count": 22,
      "outputs": []
    },
    {
      "cell_type": "code",
      "source": [
        "array = np.stack((schema[0], schema_ct[0], schema_vals[0], aug_column[0], aug_column_syn1[0], aug_column_syn2[0]), axis = 0)\n",
        "index_values = ['Schema: Column', 'Schema: Column + Types', 'Schema: Column + Types + Vals', 'Augmentation: Select Column',\n",
        "                'Augmentation: Synonym - 1 word', 'Augmentation: Synonym - 2 words']\n",
        "column_values = ['Agg', 'Sel', 'Conds', 'Ex']\n",
        "exp_impacts = pd.DataFrame(data = array, \n",
        "                  index = index_values, \n",
        "                  columns = column_values)"
      ],
      "metadata": {
        "id": "CVZ_YSdjfy5Q"
      },
      "execution_count": 25,
      "outputs": []
    },
    {
      "cell_type": "code",
      "source": [
        "exp_impacts"
      ],
      "metadata": {
        "colab": {
          "base_uri": "https://localhost:8080/",
          "height": 238
        },
        "id": "wxaRDrRJFGTR",
        "outputId": "70e42e57-0d69-40b4-b841-491293593466"
      },
      "execution_count": 26,
      "outputs": [
        {
          "output_type": "execute_result",
          "data": {
            "text/plain": [
              "                                 Agg   Sel  Conds    Ex\n",
              "Schema: Column                   2.7  27.6   28.1  31.1\n",
              "Schema: Column + Types           2.9  27.2   27.1  30.2\n",
              "Schema: Column + Types + Vals    2.6  26.6   27.3  30.3\n",
              "Augmentation: Select Column      0.4   3.3    6.3   5.6\n",
              "Augmentation: Synonym - 1 word  -0.1  -4.2   -2.3  -4.7\n",
              "Augmentation: Synonym - 2 words -0.9  -8.5   -5.7  -6.5"
            ],
            "text/html": [
              "\n",
              "  <div id=\"df-a58735b2-99f2-4bf9-9d98-b120d65d25c1\">\n",
              "    <div class=\"colab-df-container\">\n",
              "      <div>\n",
              "<style scoped>\n",
              "    .dataframe tbody tr th:only-of-type {\n",
              "        vertical-align: middle;\n",
              "    }\n",
              "\n",
              "    .dataframe tbody tr th {\n",
              "        vertical-align: top;\n",
              "    }\n",
              "\n",
              "    .dataframe thead th {\n",
              "        text-align: right;\n",
              "    }\n",
              "</style>\n",
              "<table border=\"1\" class=\"dataframe\">\n",
              "  <thead>\n",
              "    <tr style=\"text-align: right;\">\n",
              "      <th></th>\n",
              "      <th>Agg</th>\n",
              "      <th>Sel</th>\n",
              "      <th>Conds</th>\n",
              "      <th>Ex</th>\n",
              "    </tr>\n",
              "  </thead>\n",
              "  <tbody>\n",
              "    <tr>\n",
              "      <th>Schema: Column</th>\n",
              "      <td>2.7</td>\n",
              "      <td>27.6</td>\n",
              "      <td>28.1</td>\n",
              "      <td>31.1</td>\n",
              "    </tr>\n",
              "    <tr>\n",
              "      <th>Schema: Column + Types</th>\n",
              "      <td>2.9</td>\n",
              "      <td>27.2</td>\n",
              "      <td>27.1</td>\n",
              "      <td>30.2</td>\n",
              "    </tr>\n",
              "    <tr>\n",
              "      <th>Schema: Column + Types + Vals</th>\n",
              "      <td>2.6</td>\n",
              "      <td>26.6</td>\n",
              "      <td>27.3</td>\n",
              "      <td>30.3</td>\n",
              "    </tr>\n",
              "    <tr>\n",
              "      <th>Augmentation: Select Column</th>\n",
              "      <td>0.4</td>\n",
              "      <td>3.3</td>\n",
              "      <td>6.3</td>\n",
              "      <td>5.6</td>\n",
              "    </tr>\n",
              "    <tr>\n",
              "      <th>Augmentation: Synonym - 1 word</th>\n",
              "      <td>-0.1</td>\n",
              "      <td>-4.2</td>\n",
              "      <td>-2.3</td>\n",
              "      <td>-4.7</td>\n",
              "    </tr>\n",
              "    <tr>\n",
              "      <th>Augmentation: Synonym - 2 words</th>\n",
              "      <td>-0.9</td>\n",
              "      <td>-8.5</td>\n",
              "      <td>-5.7</td>\n",
              "      <td>-6.5</td>\n",
              "    </tr>\n",
              "  </tbody>\n",
              "</table>\n",
              "</div>\n",
              "      <button class=\"colab-df-convert\" onclick=\"convertToInteractive('df-a58735b2-99f2-4bf9-9d98-b120d65d25c1')\"\n",
              "              title=\"Convert this dataframe to an interactive table.\"\n",
              "              style=\"display:none;\">\n",
              "        \n",
              "  <svg xmlns=\"http://www.w3.org/2000/svg\" height=\"24px\"viewBox=\"0 0 24 24\"\n",
              "       width=\"24px\">\n",
              "    <path d=\"M0 0h24v24H0V0z\" fill=\"none\"/>\n",
              "    <path d=\"M18.56 5.44l.94 2.06.94-2.06 2.06-.94-2.06-.94-.94-2.06-.94 2.06-2.06.94zm-11 1L8.5 8.5l.94-2.06 2.06-.94-2.06-.94L8.5 2.5l-.94 2.06-2.06.94zm10 10l.94 2.06.94-2.06 2.06-.94-2.06-.94-.94-2.06-.94 2.06-2.06.94z\"/><path d=\"M17.41 7.96l-1.37-1.37c-.4-.4-.92-.59-1.43-.59-.52 0-1.04.2-1.43.59L10.3 9.45l-7.72 7.72c-.78.78-.78 2.05 0 2.83L4 21.41c.39.39.9.59 1.41.59.51 0 1.02-.2 1.41-.59l7.78-7.78 2.81-2.81c.8-.78.8-2.07 0-2.86zM5.41 20L4 18.59l7.72-7.72 1.47 1.35L5.41 20z\"/>\n",
              "  </svg>\n",
              "      </button>\n",
              "      \n",
              "  <style>\n",
              "    .colab-df-container {\n",
              "      display:flex;\n",
              "      flex-wrap:wrap;\n",
              "      gap: 12px;\n",
              "    }\n",
              "\n",
              "    .colab-df-convert {\n",
              "      background-color: #E8F0FE;\n",
              "      border: none;\n",
              "      border-radius: 50%;\n",
              "      cursor: pointer;\n",
              "      display: none;\n",
              "      fill: #1967D2;\n",
              "      height: 32px;\n",
              "      padding: 0 0 0 0;\n",
              "      width: 32px;\n",
              "    }\n",
              "\n",
              "    .colab-df-convert:hover {\n",
              "      background-color: #E2EBFA;\n",
              "      box-shadow: 0px 1px 2px rgba(60, 64, 67, 0.3), 0px 1px 3px 1px rgba(60, 64, 67, 0.15);\n",
              "      fill: #174EA6;\n",
              "    }\n",
              "\n",
              "    [theme=dark] .colab-df-convert {\n",
              "      background-color: #3B4455;\n",
              "      fill: #D2E3FC;\n",
              "    }\n",
              "\n",
              "    [theme=dark] .colab-df-convert:hover {\n",
              "      background-color: #434B5C;\n",
              "      box-shadow: 0px 1px 3px 1px rgba(0, 0, 0, 0.15);\n",
              "      filter: drop-shadow(0px 1px 2px rgba(0, 0, 0, 0.3));\n",
              "      fill: #FFFFFF;\n",
              "    }\n",
              "  </style>\n",
              "\n",
              "      <script>\n",
              "        const buttonEl =\n",
              "          document.querySelector('#df-a58735b2-99f2-4bf9-9d98-b120d65d25c1 button.colab-df-convert');\n",
              "        buttonEl.style.display =\n",
              "          google.colab.kernel.accessAllowed ? 'block' : 'none';\n",
              "\n",
              "        async function convertToInteractive(key) {\n",
              "          const element = document.querySelector('#df-a58735b2-99f2-4bf9-9d98-b120d65d25c1');\n",
              "          const dataTable =\n",
              "            await google.colab.kernel.invokeFunction('convertToInteractive',\n",
              "                                                     [key], {});\n",
              "          if (!dataTable) return;\n",
              "\n",
              "          const docLinkHtml = 'Like what you see? Visit the ' +\n",
              "            '<a target=\"_blank\" href=https://colab.research.google.com/notebooks/data_table.ipynb>data table notebook</a>'\n",
              "            + ' to learn more about interactive tables.';\n",
              "          element.innerHTML = '';\n",
              "          dataTable['output_type'] = 'display_data';\n",
              "          await google.colab.output.renderOutput(dataTable, element);\n",
              "          const docLink = document.createElement('div');\n",
              "          docLink.innerHTML = docLinkHtml;\n",
              "          element.appendChild(docLink);\n",
              "        }\n",
              "      </script>\n",
              "    </div>\n",
              "  </div>\n",
              "  "
            ]
          },
          "metadata": {},
          "execution_count": 26
        }
      ]
    },
    {
      "cell_type": "code",
      "source": [
        "# write csv\n",
        "csv_file = os.path.join(projpath, \"saved_results\", \"exp_impacts.csv\")\n",
        "exp_impacts.to_csv(csv_file)"
      ],
      "metadata": {
        "id": "iDQLj1tLgtQn"
      },
      "execution_count": 27,
      "outputs": []
    },
    {
      "cell_type": "code",
      "source": [
        ""
      ],
      "metadata": {
        "id": "pmmxfHgggtag"
      },
      "execution_count": null,
      "outputs": []
    },
    {
      "cell_type": "code",
      "source": [
        "schema[0]"
      ],
      "metadata": {
        "colab": {
          "base_uri": "https://localhost:8080/"
        },
        "id": "qdNY8jisfzMV",
        "outputId": "313b5c69-e37d-4fd9-b0d7-ebf0343f369e"
      },
      "execution_count": 91,
      "outputs": [
        {
          "output_type": "execute_result",
          "data": {
            "text/plain": [
              "array([ 2.7, 27.6, 28.1, 31.1])"
            ]
          },
          "metadata": {},
          "execution_count": 91
        }
      ]
    },
    {
      "cell_type": "code",
      "source": [
        "task = \"translate\"\n",
        "experiment_type = 0\n",
        "numrows = 0\n",
        "augment_type = \"none\"\n",
        "filename = \"task-\"+task+\"_\"+\"exp-\"+str(experiment_type)+\"_\"+\"rows-\"+str(numrows)+\"_\"+\"agument-\"+augment_type\n",
        "file = os.path.join(projpath, \"saved_results\",filename)\n",
        "file"
      ],
      "metadata": {
        "colab": {
          "base_uri": "https://localhost:8080/",
          "height": 35
        },
        "id": "rXoOaezEFpCb",
        "outputId": "be9d6da3-49ed-4356-cf7d-06adf4ed84b7"
      },
      "execution_count": 163,
      "outputs": [
        {
          "output_type": "execute_result",
          "data": {
            "text/plain": [
              "'/content/drive/MyDrive/UCB_MIDS/W266/saved_results/task-translate_exp-0_rows-0_agument-none'"
            ],
            "application/vnd.google.colaboratory.intrinsic+json": {
              "type": "string"
            }
          },
          "metadata": {},
          "execution_count": 163
        }
      ]
    },
    {
      "cell_type": "code",
      "source": [
        "# read file\n",
        "with open(file) as f:\n",
        "  lines = f.readlines()\n",
        "\n",
        "count = 0\n",
        "for line in lines:\n",
        "    d = json.loads(line.strip())\n",
        "    if count == 0:\n",
        "      pass\n",
        "    else:\n",
        "      df = pd.DataFrame(d)\n",
        "\n",
        "    count += 1"
      ],
      "metadata": {
        "id": "IxI4Jj9dnrle"
      },
      "execution_count": 164,
      "outputs": []
    },
    {
      "cell_type": "code",
      "source": [
        "df.tail()"
      ],
      "metadata": {
        "colab": {
          "base_uri": "https://localhost:8080/",
          "height": 206
        },
        "id": "9w7IGPuAGZBV",
        "outputId": "b7b6608a-d7f2-4fde-994a-d485628876a5"
      },
      "execution_count": 169,
      "outputs": [
        {
          "output_type": "execute_result",
          "data": {
            "text/plain": [
              "                                              pred_label  \\\n",
              "15873  select (count) [points] from [2-1686868-1] whe...   \n",
              "15874  select [chassis] from [2-1686868-1] where [poi...   \n",
              "15875  select (count) [points] from [2-1686868-1] whe...   \n",
              "15876  select [chassis] from [2-1686868-1] where [yea...   \n",
              "15877  select [year] from [2-1686868-1] where [points...   \n",
              "\n",
              "                                              true_label  \n",
              "15873  select  [points] from [2-1226335-1] where [yea...  \n",
              "15874  select  [chassis] from [2-1226335-1] where [po...  \n",
              "15875  select  [points] from [2-1226335-1] where [eng...  \n",
              "15876  select  [chassis] from [2-1226335-1] where [en...  \n",
              "15877  select (sum) [year] from [2-1226335-1] where [...  "
            ],
            "text/html": [
              "\n",
              "  <div id=\"df-081b272a-95a9-4e7a-b6b9-6c3ba67d6534\">\n",
              "    <div class=\"colab-df-container\">\n",
              "      <div>\n",
              "<style scoped>\n",
              "    .dataframe tbody tr th:only-of-type {\n",
              "        vertical-align: middle;\n",
              "    }\n",
              "\n",
              "    .dataframe tbody tr th {\n",
              "        vertical-align: top;\n",
              "    }\n",
              "\n",
              "    .dataframe thead th {\n",
              "        text-align: right;\n",
              "    }\n",
              "</style>\n",
              "<table border=\"1\" class=\"dataframe\">\n",
              "  <thead>\n",
              "    <tr style=\"text-align: right;\">\n",
              "      <th></th>\n",
              "      <th>pred_label</th>\n",
              "      <th>true_label</th>\n",
              "    </tr>\n",
              "  </thead>\n",
              "  <tbody>\n",
              "    <tr>\n",
              "      <th>15873</th>\n",
              "      <td>select (count) [points] from [2-1686868-1] whe...</td>\n",
              "      <td>select  [points] from [2-1226335-1] where [yea...</td>\n",
              "    </tr>\n",
              "    <tr>\n",
              "      <th>15874</th>\n",
              "      <td>select [chassis] from [2-1686868-1] where [poi...</td>\n",
              "      <td>select  [chassis] from [2-1226335-1] where [po...</td>\n",
              "    </tr>\n",
              "    <tr>\n",
              "      <th>15875</th>\n",
              "      <td>select (count) [points] from [2-1686868-1] whe...</td>\n",
              "      <td>select  [points] from [2-1226335-1] where [eng...</td>\n",
              "    </tr>\n",
              "    <tr>\n",
              "      <th>15876</th>\n",
              "      <td>select [chassis] from [2-1686868-1] where [yea...</td>\n",
              "      <td>select  [chassis] from [2-1226335-1] where [en...</td>\n",
              "    </tr>\n",
              "    <tr>\n",
              "      <th>15877</th>\n",
              "      <td>select [year] from [2-1686868-1] where [points...</td>\n",
              "      <td>select (sum) [year] from [2-1226335-1] where [...</td>\n",
              "    </tr>\n",
              "  </tbody>\n",
              "</table>\n",
              "</div>\n",
              "      <button class=\"colab-df-convert\" onclick=\"convertToInteractive('df-081b272a-95a9-4e7a-b6b9-6c3ba67d6534')\"\n",
              "              title=\"Convert this dataframe to an interactive table.\"\n",
              "              style=\"display:none;\">\n",
              "        \n",
              "  <svg xmlns=\"http://www.w3.org/2000/svg\" height=\"24px\"viewBox=\"0 0 24 24\"\n",
              "       width=\"24px\">\n",
              "    <path d=\"M0 0h24v24H0V0z\" fill=\"none\"/>\n",
              "    <path d=\"M18.56 5.44l.94 2.06.94-2.06 2.06-.94-2.06-.94-.94-2.06-.94 2.06-2.06.94zm-11 1L8.5 8.5l.94-2.06 2.06-.94-2.06-.94L8.5 2.5l-.94 2.06-2.06.94zm10 10l.94 2.06.94-2.06 2.06-.94-2.06-.94-.94-2.06-.94 2.06-2.06.94z\"/><path d=\"M17.41 7.96l-1.37-1.37c-.4-.4-.92-.59-1.43-.59-.52 0-1.04.2-1.43.59L10.3 9.45l-7.72 7.72c-.78.78-.78 2.05 0 2.83L4 21.41c.39.39.9.59 1.41.59.51 0 1.02-.2 1.41-.59l7.78-7.78 2.81-2.81c.8-.78.8-2.07 0-2.86zM5.41 20L4 18.59l7.72-7.72 1.47 1.35L5.41 20z\"/>\n",
              "  </svg>\n",
              "      </button>\n",
              "      \n",
              "  <style>\n",
              "    .colab-df-container {\n",
              "      display:flex;\n",
              "      flex-wrap:wrap;\n",
              "      gap: 12px;\n",
              "    }\n",
              "\n",
              "    .colab-df-convert {\n",
              "      background-color: #E8F0FE;\n",
              "      border: none;\n",
              "      border-radius: 50%;\n",
              "      cursor: pointer;\n",
              "      display: none;\n",
              "      fill: #1967D2;\n",
              "      height: 32px;\n",
              "      padding: 0 0 0 0;\n",
              "      width: 32px;\n",
              "    }\n",
              "\n",
              "    .colab-df-convert:hover {\n",
              "      background-color: #E2EBFA;\n",
              "      box-shadow: 0px 1px 2px rgba(60, 64, 67, 0.3), 0px 1px 3px 1px rgba(60, 64, 67, 0.15);\n",
              "      fill: #174EA6;\n",
              "    }\n",
              "\n",
              "    [theme=dark] .colab-df-convert {\n",
              "      background-color: #3B4455;\n",
              "      fill: #D2E3FC;\n",
              "    }\n",
              "\n",
              "    [theme=dark] .colab-df-convert:hover {\n",
              "      background-color: #434B5C;\n",
              "      box-shadow: 0px 1px 3px 1px rgba(0, 0, 0, 0.15);\n",
              "      filter: drop-shadow(0px 1px 2px rgba(0, 0, 0, 0.3));\n",
              "      fill: #FFFFFF;\n",
              "    }\n",
              "  </style>\n",
              "\n",
              "      <script>\n",
              "        const buttonEl =\n",
              "          document.querySelector('#df-081b272a-95a9-4e7a-b6b9-6c3ba67d6534 button.colab-df-convert');\n",
              "        buttonEl.style.display =\n",
              "          google.colab.kernel.accessAllowed ? 'block' : 'none';\n",
              "\n",
              "        async function convertToInteractive(key) {\n",
              "          const element = document.querySelector('#df-081b272a-95a9-4e7a-b6b9-6c3ba67d6534');\n",
              "          const dataTable =\n",
              "            await google.colab.kernel.invokeFunction('convertToInteractive',\n",
              "                                                     [key], {});\n",
              "          if (!dataTable) return;\n",
              "\n",
              "          const docLinkHtml = 'Like what you see? Visit the ' +\n",
              "            '<a target=\"_blank\" href=https://colab.research.google.com/notebooks/data_table.ipynb>data table notebook</a>'\n",
              "            + ' to learn more about interactive tables.';\n",
              "          element.innerHTML = '';\n",
              "          dataTable['output_type'] = 'display_data';\n",
              "          await google.colab.output.renderOutput(dataTable, element);\n",
              "          const docLink = document.createElement('div');\n",
              "          docLink.innerHTML = docLinkHtml;\n",
              "          element.appendChild(docLink);\n",
              "        }\n",
              "      </script>\n",
              "    </div>\n",
              "  </div>\n",
              "  "
            ]
          },
          "metadata": {},
          "execution_count": 169
        }
      ]
    },
    {
      "cell_type": "code",
      "source": [
        "txt = df.iloc[15876,:][\"true_label\"]\n",
        "pattern = r'\\[(.*?)\\]'\n",
        "extr_conds = re.findall(pattern, txt)\n",
        "extr_conds"
      ],
      "metadata": {
        "colab": {
          "base_uri": "https://localhost:8080/"
        },
        "id": "YVpJYfZX3V3I",
        "outputId": "8a0cff4a-9784-4874-b7a4-139e09bcf4cc"
      },
      "execution_count": 86,
      "outputs": [
        {
          "output_type": "execute_result",
          "data": {
            "text/plain": [
              "['engine equals to ford v8', 'year greater than 1976', 'points equals to 12']"
            ]
          },
          "metadata": {},
          "execution_count": 86
        }
      ]
    },
    {
      "cell_type": "code",
      "source": [
        "txt = df.iloc[15876,:][\"pred_label\"]\n",
        "pattern = r'\\[(.*?)\\]'\n",
        "extr_conds = re.findall(pattern, txt)\n",
        "extr_conds"
      ],
      "metadata": {
        "colab": {
          "base_uri": "https://localhost:8080/"
        },
        "id": "J4n8JBgrN48s",
        "outputId": "bcbefa15-bb0f-4b1d-b705-880480b8abe0"
      },
      "execution_count": 87,
      "outputs": [
        {
          "output_type": "execute_result",
          "data": {
            "text/plain": [
              "['year greater than 1976', 'points equals to 12']"
            ]
          },
          "metadata": {},
          "execution_count": 87
        }
      ]
    },
    {
      "cell_type": "code",
      "source": [
        ""
      ],
      "metadata": {
        "id": "VwMnTY_UHyMq"
      },
      "execution_count": null,
      "outputs": []
    },
    {
      "cell_type": "code",
      "source": [
        "#txt = \"select [salary] FROM [table_1] where [company equals to apple] and [location equals to san jose]\"\n",
        "txt = \"select 5 imports of plywood\"\n",
        "pattern = r'\\[(.*?)\\]'\n",
        "re.findall(pattern, txt)"
      ],
      "metadata": {
        "colab": {
          "base_uri": "https://localhost:8080/"
        },
        "id": "p2ZxVm2SvKEo",
        "outputId": "3efbf64b-1aac-4b7a-b1e0-5dac8b38088b"
      },
      "execution_count": 265,
      "outputs": [
        {
          "output_type": "execute_result",
          "data": {
            "text/plain": [
              "[]"
            ]
          },
          "metadata": {},
          "execution_count": 265
        }
      ]
    },
    {
      "cell_type": "code",
      "source": [
        "pattern = r'\\((.*?)\\)'\n",
        "re.findall(pattern, txt)"
      ],
      "metadata": {
        "colab": {
          "base_uri": "https://localhost:8080/"
        },
        "id": "lN2KeGGAvKJX",
        "outputId": "a60ecfe4-dba4-44a0-c204-bb2721c6e326"
      },
      "execution_count": 200,
      "outputs": [
        {
          "output_type": "execute_result",
          "data": {
            "text/plain": [
              "[]"
            ]
          },
          "metadata": {},
          "execution_count": 200
        }
      ]
    },
    {
      "cell_type": "markdown",
      "source": [
        "### https://maelfabien.github.io/machinelearning/NLP_8/#synonym-replacement-sr"
      ],
      "metadata": {
        "id": "91xAiAY9jjq-"
      }
    },
    {
      "cell_type": "code",
      "source": [
        "from nltk.corpus import wordnet \n",
        "\n",
        "def get_synonyms(word):\n",
        "    \"\"\"\n",
        "    Get synonyms of a word\n",
        "    \"\"\"\n",
        "    synonyms = set()\n",
        "    \n",
        "    for syn in wordnet.synsets(word): \n",
        "        for l in syn.lemmas(): \n",
        "            synonym = l.name().replace(\"_\", \" \").replace(\"-\", \" \").lower()\n",
        "            synonym = \"\".join([char for char in synonym if char in ' qwertyuiopasdfghjklzxcvbnm'])\n",
        "            synonyms.add(synonym) \n",
        "    \n",
        "    if word in synonyms:\n",
        "        synonyms.remove(word)\n",
        "    \n",
        "    return list(synonyms)"
      ],
      "metadata": {
        "id": "eyAG8PbSHyc2"
      },
      "execution_count": 4,
      "outputs": []
    },
    {
      "cell_type": "code",
      "source": [
        "import random\n",
        "\n",
        "def synonym_replacement(words, n):\n",
        "    \n",
        "    stop_words = list(set(stopwords.words('english')))\n",
        "    words = words.split()\n",
        "    \n",
        "    new_words = words.copy()\n",
        "    random_word_list = list(set([word for word in words if word not in stop_words]))\n",
        "    random.shuffle(random_word_list)\n",
        "    num_replaced = 0\n",
        "    \n",
        "    for random_word in random_word_list:\n",
        "        synonyms = get_synonyms(random_word)\n",
        "        \n",
        "        if len(synonyms) >= 1:\n",
        "            synonym = random.choice(list(synonyms))\n",
        "            new_words = [synonym if word == random_word else word for word in new_words]\n",
        "            num_replaced += 1\n",
        "        \n",
        "        if num_replaced >= n: #only replace up to n words\n",
        "            break\n",
        "\n",
        "    sentence = ' '.join(new_words)\n",
        "\n",
        "    return sentence"
      ],
      "metadata": {
        "id": "7XJSiWdtH0aw"
      },
      "execution_count": 15,
      "outputs": []
    },
    {
      "cell_type": "code",
      "source": [
        "txt = \"how much does an engineer make on average?\" \n",
        "n = 2\n",
        "synonym_replacement(txt, n)"
      ],
      "metadata": {
        "colab": {
          "base_uri": "https://localhost:8080/",
          "height": 35
        },
        "id": "Oa6ZRMOyH7sI",
        "outputId": "bc92e424-7ff4-426c-d4db-a6ccecf8ae8f"
      },
      "execution_count": 149,
      "outputs": [
        {
          "output_type": "execute_result",
          "data": {
            "text/plain": [
              "'how often does an engineer spend a penny on average?'"
            ],
            "application/vnd.google.colaboratory.intrinsic+json": {
              "type": "string"
            }
          },
          "metadata": {},
          "execution_count": 149
        }
      ]
    },
    {
      "cell_type": "code",
      "source": [
        "min(2,5)"
      ],
      "metadata": {
        "colab": {
          "base_uri": "https://localhost:8080/"
        },
        "id": "fYm2Es0KIGbm",
        "outputId": "8ff1553d-d172-4a4a-df93-7d7c0f192f58"
      },
      "execution_count": 150,
      "outputs": [
        {
          "output_type": "execute_result",
          "data": {
            "text/plain": [
              "2"
            ]
          },
          "metadata": {},
          "execution_count": 150
        }
      ]
    },
    {
      "cell_type": "code",
      "source": [
        ""
      ],
      "metadata": {
        "id": "16cpriv5dEeb"
      },
      "execution_count": null,
      "outputs": []
    }
  ]
}